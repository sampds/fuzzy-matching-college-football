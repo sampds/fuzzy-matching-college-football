{
  "nbformat": 4,
  "nbformat_minor": 0,
  "metadata": {
    "colab": {
      "provenance": [],
      "toc_visible": true
    },
    "kernelspec": {
      "name": "python3",
      "display_name": "Python 3"
    },
    "language_info": {
      "name": "python"
    }
  },
  "cells": [
    {
      "cell_type": "markdown",
      "source": [
        "# navigation\n",
        "if you want to skip to the exploratory analysis section, the only dataset you need is main_transformed.csv."
      ],
      "metadata": {
        "id": "mJT9GuQxw5IQ"
      }
    },
    {
      "cell_type": "markdown",
      "source": [
        "# packages"
      ],
      "metadata": {
        "id": "s1uYgmJWPn0Z"
      }
    },
    {
      "cell_type": "code",
      "source": [
        "# Sam Deery-Schmitt\n",
        "\n",
        "import pandas as pd #data frame operations\n",
        "import numpy as np #arrays and math functions\n",
        "from scipy.stats import uniform #for training and test splits\n",
        "import statsmodels.api as sm  # statistical models (including regression)\n",
        "import statsmodels.formula.api as smf  # R-like model specification\n",
        "import matplotlib.pyplot as plt #2D plotting\n",
        "import requests # scraping\n",
        "import lxml.html as lh #scraping\n",
        "import seaborn as sns #visualiztions\n",
        "import os # os operations\n",
        "! pip install thefuzz\n",
        "! pip install Levenshtein\n",
        "from thefuzz import fuzz # fuzzy matching\n",
        "from thefuzz import process # fuzzy matching\n",
        "import Levenshtein as lev # increases speed of matching\n",
        "import re # regular expressions\n",
        "from google.colab import drive # view google drive in the files explorer on the left pane\n",
        "from google.colab import files # upload files to google drive\n",
        "drive.mount('/content/gdrive') # command to allow access"
      ],
      "metadata": {
        "id": "A6ShsCTCP_se"
      },
      "execution_count": null,
      "outputs": []
    },
    {
      "cell_type": "markdown",
      "source": [
        "# workflow\n",
        "load dataset\n",
        "# df1 = pd.read_csv('df1.csv')\n",
        "if dataset has conferences:\n",
        "# df1 = alter_conferences(df1)\n",
        "perform fuzzy matching\n",
        "# matching_results = match_names(df1, coach, 'School', 'Conference')\n",
        "# note: use 'School' as second column if no conference column in df1\n",
        "identify errors in matching; will have to input values\n",
        "# errors_output = match_error_identify(matching_results, df1, df2, 'School')\n",
        "save this so you don't have to do it again\n",
        "# errors = errors_output\n",
        "identify indices in target df of mismatched columns\n",
        "# indices_output = input_indices(errors, df1, 'School')\n",
        "save output so you don't have to do again\n",
        "# corrections = indices_output\n",
        "change all values in df1 to match the values in df2\n",
        "# df1 = correct_mismatch(corrections, matching_results, df1, df2, 'School')\n",
        "pd.options.display.max_rows = len(df1)\n",
        "df1"
      ],
      "metadata": {
        "id": "60vEjhome6zQ"
      }
    },
    {
      "cell_type": "markdown",
      "source": [
        "# concise workflow\n",
        "# set df1 to the target dataframe\n",
        "# set col2 to 'School' if there is no conference column\n",
        "df1 = targetdf\n",
        "df2 = coach\n",
        "col1 = 'School'\n",
        "col2 = 'Conference'\n",
        "df1 = alter_conferences(df1)\n",
        "\n",
        "# seperate block\n",
        "matching_results = match_names(df1, coach, col1, col2)\n",
        "errors_output = match_error_identify(matching_results, df1, df2, 'School')\n",
        "\n",
        "# separate block\n",
        "errors = errors_output\n",
        "indices_output = input_indices(errors, df1, col1)\n",
        "\n",
        "# separate block\n",
        "corrections = indices_output\n",
        "df1 = correct_mismatch(corrections, matching_results, df1, df2, 'School')\n",
        "\n",
        "# seperate block\n",
        "pd.options.display.max_rows = len(df1)\n",
        "df1"
      ],
      "metadata": {
        "id": "Kl2QMSkQ6cXs"
      }
    },
    {
      "cell_type": "markdown",
      "source": [
        "#unique list function\n",
        "#used to capture unique list of conferences from target df within the confs_fix function"
      ],
      "metadata": {
        "id": "tV9TiL3NatiD"
      }
    },
    {
      "cell_type": "code",
      "source": [
        "def unique(list1):\n",
        "\n",
        "    # initialize a null list\n",
        "    unique_list = []\n",
        "\n",
        "    # traverse for all elements\n",
        "    for x in list1:\n",
        "        # check if exists in unique_list or not\n",
        "        if x not in unique_list:\n",
        "            unique_list.append(x)\n",
        "    return(unique_list)"
      ],
      "metadata": {
        "id": "PGqw3mGUbIEY"
      },
      "execution_count": null,
      "outputs": []
    },
    {
      "cell_type": "markdown",
      "source": [
        "#function for changing conferences\n",
        "# use:\n",
        "#df1 = alter_conferences(df1)\n",
        "#assumes the conference column is called Conference\n",
        "#output is the reformatted df"
      ],
      "metadata": {
        "id": "vA1e7244bcNy"
      }
    },
    {
      "cell_type": "code",
      "source": [
        "def alter_conferences(df1):\n",
        "  # note: this will only work if all 11 FBS conferences are actually there\n",
        "  # if they aren't, don't use it\n",
        "  original_length = len(df1)\n",
        "  confs = unique(df1['Conference'].sort_values())\n",
        "  print('The conferences in this dataframe are:')\n",
        "  for i in range(0, len(confs)):\n",
        "    print(i, confs[i])\n",
        "\n",
        "  # these are the \"properly formatted\" names of the FBS conferences\n",
        "  master_confs = []\n",
        "  master_confs = ['American', 'ACC', 'Big 12', 'Big Ten', 'Conference USA', 'FBS Independents'\n",
        "  , 'Mid-American', 'Mountain West', 'Pac-12', 'SEC', 'Sun Belt']\n",
        "  print('\\n The 11 FBS conferences are:')\n",
        "  for i in range(0, len(master_confs)):\n",
        "    print(master_confs[i])\n",
        "  print('\\n')\n",
        "\n",
        "  # prompt for input of indices\n",
        "  fbs_confs = input('Type the indices of the FBS conferences in the target DF \\n separated by commas with no spaces:\\n')\n",
        "  # convert input to list\n",
        "  fbs_confs = list(fbs_confs.split(','))\n",
        "  #convert str values to int\n",
        "  confs_index = []\n",
        "  for i in fbs_confs:\n",
        "   confs_index.append(int(i))\n",
        "   # use these indices to retrive the fbs conferences in the target df\n",
        "  confs_interest = []\n",
        "  for i in confs_index:\n",
        "    confs_interest.append(confs[i])\n",
        "  # make a dictionary that has the conference name of target df as key\n",
        "  # and \"master\" fbs conf name as a value\n",
        "  confs_dict = {}\n",
        "  for i in range(0, len(confs_interest)):\n",
        "    confs_dict[confs_interest[i]] = master_confs[i]\n",
        "\n",
        "  # print the confs dict so can spot mistakes if any\n",
        "  print('\\n Here is the dictionary creatd by the input values\\n')\n",
        "  for i in confs_dict:\n",
        "    print(i,'|', confs_dict[i])\n",
        "  # alter the target dataframe\n",
        "  for i in range(0,len(df1['Conference'])):\n",
        "    if df1['Conference'][i] in confs_dict.keys():\n",
        "       df1['Conference'][i] = confs_dict[df1['Conference'][i]]\n",
        "    else:\n",
        "      continue\n",
        "  # subset the target df to only include FBS conferences\n",
        "  df1 = df1[df1['Conference'].isin(master_confs)]\n",
        "  new_length = len(df1)\n",
        "  change = original_length - new_length\n",
        "  new_confs = df1['Conference'].unique()\n",
        "  new_confs = sorted(new_confs)\n",
        "  print('\\n',change, 'records deleted', '\\n', len(confs), 'conferences originally in target df',\n",
        "          '\\n', len(df1['Conference'].unique()), 'FBS conferences in target DF now have properly formatted names:\\n')\n",
        "  for i in range(0, len(new_confs)):\n",
        "    print(i+1, new_confs[i])\n",
        "  return(df1)"
      ],
      "metadata": {
        "id": "E7gLgSHxbX3u"
      },
      "execution_count": null,
      "outputs": []
    },
    {
      "cell_type": "markdown",
      "source": [
        "# fuzzy matching function\n",
        "# use:\n",
        "# matching_names = match_names(df1, df2, col1, col2)\n",
        "\n",
        "# input the \"matched against\" df first, then the original second\n",
        "# put the names of columns to use here\n",
        "# this assumes coach will be used second, and the columns 'School' and 'Conference' in that order\n",
        "# output is results of fuzzy matching\n"
      ],
      "metadata": {
        "id": "1u-ucuUmb-Ju"
      }
    },
    {
      "cell_type": "code",
      "source": [
        "def match_names(df1, df2, col1, col2):\n",
        "  df1['JoinCol'] = df1[col1] + ', ' + df1[col2]\n",
        "  df2['JoinCol'] = df2[col1] + ', ' + df2[col2]\n",
        "  results = []\n",
        "  for ind in df2.index:\n",
        "    query = df2['JoinCol'][ind]\n",
        "    choices = df1['JoinCol']\n",
        "    match = process.extractOne(query, choices)\n",
        "    match = (ind, ) + match\n",
        "    results.append(match)\n",
        "  match_info = []\n",
        "  for i in results:\n",
        "    match_info.append([i[2], i[0], df2[col1][i[0]], df1[col1][i[3]], i[3]])\n",
        "  return(match_info)"
      ],
      "metadata": {
        "id": "F-ubnHYfb7Aa"
      },
      "execution_count": null,
      "outputs": []
    },
    {
      "cell_type": "markdown",
      "source": [
        "# called within the match_error_identify function\n",
        "function to remove falsely identified mismatches and create final errors list\n",
        "input is the potential errors list and certain errors list\n",
        "user will input the error indices\n",
        "returns final list of errors"
      ],
      "metadata": {
        "id": "NX2vm3rEdFXr"
      }
    },
    {
      "cell_type": "code",
      "source": [
        "def finalize_errors_list(potential_errors, certain_errors):\n",
        "  for i in range(0, len(potential_errors)):\n",
        "    print(i, potential_errors[i])\n",
        "  e_indices = input('Type the indices of the actual errors F \\n separated by commas with no spaces:\\n')\n",
        "  # convert input to list\n",
        "  e_indices = list(e_indices.split(','))\n",
        "  #convert str values to int\n",
        "  indices = []\n",
        "  for i in e_indices:\n",
        "    if i != '':\n",
        "      indices.append(int(i))\n",
        "  bridge = []\n",
        "  for i in indices:\n",
        "    bridge.append(potential_errors[i])\n",
        "  errors = []\n",
        "  for i in certain_errors:\n",
        "    errors.append(i)\n",
        "  for i in bridge:\n",
        "    errors.append(i)\n",
        "  return(errors)"
      ],
      "metadata": {
        "id": "6aHLOravdS_B"
      },
      "execution_count": null,
      "outputs": []
    },
    {
      "cell_type": "markdown",
      "source": [
        "# error identification function\n",
        "# use:\n",
        "# errors_output = match_error_identify(match_results, df1,df2, col1)\n",
        "# errors = errors_ouput\n",
        "# this function finds all matches with less than 100 score\n",
        "# and all matches that are duplicates\n",
        "# then it pares the duplicates down to only duplicates with less than 100 score\n",
        "# those are certain errors, and will all be contained in the list of\n",
        "# matches with less than 100\n",
        "# it then removes those from that list\n",
        "# and those records are marked as potential errors, because they are either false positives\n",
        "# or they are records that exist in orginal df but not target df\n",
        "# then it allows the user to manually inspect the errors and remove any false positives\n",
        "# finally returning a list of certain errors"
      ],
      "metadata": {
        "id": "CB08qx3qdYU8"
      }
    },
    {
      "cell_type": "code",
      "source": [
        "def match_error_identify(match_results, df1, df2, col1):\n",
        "  errors = []\n",
        "  for i in match_results:\n",
        "    if i[0] != 100:\n",
        "      errors.append(i)\n",
        "  # ANYTHING that is duplicated AND has a score less than 100 is incorrect\n",
        "  # BUT this doesn't capture all errors,\n",
        "  # for example, records in the original dataframe that are missing in the new dataframe\n",
        "  schools = []\n",
        "  for i in match_results:\n",
        "    schools.append(i[3])\n",
        "  import collections\n",
        "  duplicated_schools = ([item for item, count in collections.Counter(schools).items() if count > 1])\n",
        "  duplicates = []\n",
        "  for i in match_results:\n",
        "    if i[3] in duplicated_schools:\n",
        "      duplicates.append(i)\n",
        "  duplicates\n",
        "  errors2 = []\n",
        "  for i in duplicates:\n",
        "    if i[0] != 100:\n",
        "      errors2.append(i)\n",
        "  # the UNION of these are certainly errors\n",
        "  # everything in the duplicates will be found in the list\n",
        "  # of items with less than 100 score\n",
        "  # but the items NOT FOUND in the duplicates\n",
        "  # which are found in the list of less than 100\n",
        "  # might be errors\n",
        "  potential_errors = []\n",
        "  for i in errors:\n",
        "    if i not in errors2:\n",
        "      potential_errors.append(i)\n",
        "  certain_errors  = []\n",
        "  for i in errors:\n",
        "    if i in errors2:\n",
        "      certain_errors.append(i)\n",
        "  print('', len(df2), 'records in original DF', '\\n', len(df1), 'records in target DF', '\\n',\n",
        "        len(certain_errors), 'certain errors, can include mismatches or records that exist in orignal df but not target df',\n",
        "        '\\n', len(potential_errors),\n",
        "        'potential errors, can include mismatches, records missing from target DF, OR false positives (matches marked as mismatches))' )\n",
        "  errors = finalize_errors_list(potential_errors, certain_errors)\n",
        "  # set the final item in each error to be None for easier editing\n",
        "  for i in errors:\n",
        "    i[4] = None\n",
        "  pd.options.display.max_rows = len(df1)\n",
        "  print('\\n', len(errors), 'total errors:')\n",
        "  for i in (range(0, len(errors))):\n",
        "    print(i, errors[i])\n",
        "  print('\\n make sure to save the output so this step does not need to be repeated \\n here is the target DF for reference during error ID in next step')\n",
        "  print(df1[col1].sort_values())\n",
        "  return errors"
      ],
      "metadata": {
        "id": "rOeZR5w9Ccgt"
      },
      "execution_count": null,
      "outputs": []
    },
    {
      "cell_type": "markdown",
      "source": [
        "# error correction function\n",
        "# use:\n",
        "# corrections_ouput = input_indices(errors, df1, col)\n",
        "# corrections = corrections_output\n",
        "# this will give a list of the indices in target df to swap out\n",
        "# will have to input the indices manually, function will ask for them line by line"
      ],
      "metadata": {
        "id": "JeBFpi3U8HPb"
      }
    },
    {
      "cell_type": "code",
      "source": [
        "def input_indices(errors, df1, col1):\n",
        "  skip = input('do you already know the indices? if so type something and this will not run\\n make sure you have the output saved somewhere before terminating this')\n",
        "  if skip != '':\n",
        "    return('you should have the output saved as a list containing the og df school name, target df school name, and target df index')\n",
        "  else:\n",
        "    print('if this school exists in target DF, enter its index \\n otherwise just hit enter')\n",
        "    index = []\n",
        "    for i in range(0,len(errors)):\n",
        "      index.append([i, input(print(i, errors[i]))])\n",
        "    for i in index:\n",
        "      if i[1] != '':\n",
        "        i[1] = int(i[1])\n",
        "      else:\n",
        "        i[1] = None\n",
        "    correct_indices = []\n",
        "    for i in range(0, len(errors)):\n",
        "      if index[i][1] != None:\n",
        "        correct_indices.append([errors[i][0], errors[i][1], errors[i][2], df1[col1][index[i][1]], index[i][1]])\n",
        "      else:\n",
        "        correct_indices.append([errors[i][0], errors[i][1], errors[i][2], 'MISSING', index[i][1]])\n",
        "  return(correct_indices)"
      ],
      "metadata": {
        "id": "FYhGWILJanFZ"
      },
      "execution_count": null,
      "outputs": []
    },
    {
      "cell_type": "markdown",
      "source": [
        "# final matching function\n",
        "# use:\n",
        "# df1 = correct_mismatch(corrections, match_results, df1, df2, dfcol)"
      ],
      "metadata": {
        "id": "8lc0Jm4i8PtE"
      }
    },
    {
      "cell_type": "code",
      "source": [
        "def correct_mismatch(corrections, match_results, df1, df2, dfcol):\n",
        "  match_col_to_sort = 3\n",
        "  match_cols_to_drop = [0,1,4]\n",
        "  correct_indices = []\n",
        "  for i in corrections:\n",
        "    if i[4] != None:\n",
        "      correct_indices.append(i[4])\n",
        "  original_target_df_length = len(df1)\n",
        "  missing_records = len(corrections) - len(correct_indices)\n",
        "  new_length = len(df2) - missing_records\n",
        "  print(len(correct_indices), 'substitutions need to be made in matching results', '\\n and', missing_records, 'records from og df not present in target df',\n",
        "        '\\n therefore the new target df should have', new_length, 'records')\n",
        "  df_mapping = pd.DataFrame(match_results)\n",
        "  df_corrections = pd.DataFrame(corrections)\n",
        "  # swap out name and index for mistaken schools\n",
        "  for i in range(0, len(df_mapping[0][df_corrections[0]])):\n",
        "    df_mapping[3][df_corrections[1][i]] = df_corrections[3][i]\n",
        "    df_mapping[4][df_corrections[1][i]] = df_corrections[4][i]\n",
        "  # eliminate records from col not in original df\n",
        "  df1 = df1[df1[dfcol].isin(df_mapping[3])]\n",
        "  # change values in target df to match original df\n",
        "  df_mapping = df_mapping.sort_values(by = 3)\n",
        "  df1 = df1.sort_values(by = dfcol)\n",
        "  df_mapping = df_mapping[df_mapping[3] != 'MISSING']\n",
        "  df_mapping = df_mapping.drop(columns = match_cols_to_drop)\n",
        "  df_mapping = df_mapping.rename(columns = {match_col_to_sort-1: dfcol, match_col_to_sort: 'TargetDFFormerName'})\n",
        "\n",
        "  # see if columns are identical\n",
        "  if df_mapping[dfcol].reset_index(drop=True).equals(df1[dfcol].reset_index(drop=True)) == True:\n",
        "    # now has the proper names and conferences and is in same order as coach, they can be merged\n",
        "    # you have caught all records that were missing from original df in target df\n",
        "    print('Target DF records now match orginal DF records in col of interest, and are same order; they can now be merged. \\n There were no missing records from coach df in new df')\n",
        "    print(len(df1), 'records')\n",
        "    df1 = df1.reset_index(drop = True)\n",
        "    df_mapping = df_mapping.reset_index(drop = True)\n",
        "    df1[dfcol] = df_mapping[dfcol]\n",
        "    df1 = df1.sort_values(by = dfcol)\n",
        "    df1 = df1.reset_index(drop = True)\n",
        "    pd.options.display.max_rows = len(df1)\n",
        "    return(df1)\n",
        "\n",
        "  elif len(df_mapping) == new_length:\n",
        "    print('After matching names, there were still', original_target_df_length - new_length, 'records missing from og df in new df')\n",
        "    df1 = df1.reset_index(drop = True)\n",
        "    df_mapping = df_mapping.reset_index(drop = True)\n",
        "    df1[dfcol] = df_mapping[dfcol]\n",
        "    df1 = df1.sort_values(by = dfcol)\n",
        "    df1 = df1.reset_index(drop = True)\n",
        "    print(len(df1), 'records in new df')\n",
        "    pd.options.display.max_rows = len(df1)\n",
        "    return(df1)\n",
        "\n",
        "\n",
        "  else:\n",
        "    print('There is a mistake somewhere. The dataframes do not allign.','\\nreturning mapping DF for analysis \\n might want to run fuzzy matching on the mapping df to find the problems')\n",
        "    print(len(df_mapping), 'records')\n",
        "    pd.options.display.max_rows = len(df_mapping)\n",
        "    return(df_mapping)\n"
      ],
      "metadata": {
        "id": "SGS8FfYg8KHl"
      },
      "execution_count": null,
      "outputs": []
    },
    {
      "cell_type": "markdown",
      "source": [
        "# import data"
      ],
      "metadata": {
        "id": "882PeLEjBaee"
      }
    },
    {
      "cell_type": "code",
      "source": [
        "from google.colab import drive\n",
        "drive.mount('/content/drive')"
      ],
      "metadata": {
        "colab": {
          "base_uri": "https://localhost:8080/"
        },
        "id": "sH4YAy5A9mNn",
        "outputId": "18332482-38fc-4732-cc00-f9a9e66608c8"
      },
      "execution_count": null,
      "outputs": [
        {
          "output_type": "stream",
          "name": "stdout",
          "text": [
            "Mounted at /content/drive\n"
          ]
        }
      ]
    },
    {
      "cell_type": "code",
      "execution_count": null,
      "metadata": {
        "id": "vkD_ucnFPor8"
      },
      "outputs": [],
      "source": [
        "# read in coaches dataframe from github\n",
        "coach = pd.read_csv('https://raw.githubusercontent.com/2SUBDA/IST_718/master/Coaches9.csv')\n",
        "# change default pandas display options to show more rows\n",
        "# pd.options.display.max_rows = 150\n",
        "# coach\n",
        "# rename to USC\n",
        "coach[coach.School == 'Southern California']\n",
        "coach['School'][98] = 'USC'\n",
        "# rename conferences\n",
        "confs = coach['Conference'].sort_values().unique()\n",
        "\n",
        "master_confs = []\n",
        "master_confs = ['American', 'ACC', 'Big 12', 'Big Ten', 'Conference USA', 'FBS Independents'\n",
        ", 'Mid-American', 'Mountain West', 'Pac-12', 'SEC', 'Sun Belt']\n",
        "\n",
        "confs_dict = {}\n",
        "for i in range(0, len(confs)):\n",
        "  confs_dict[confs[i]] = master_confs[i]\n",
        "\n",
        "for i in range(0, len(coach['Conference'])):\n",
        "  coach['Conference'][i] = confs_dict[coach['Conference'][i]]"
      ]
    },
    {
      "cell_type": "code",
      "source": [
        "# displays working drive\n",
        "os.getcwd()"
      ],
      "metadata": {
        "colab": {
          "base_uri": "https://localhost:8080/",
          "height": 35
        },
        "id": "QI1SWn7pSli_",
        "outputId": "9701295a-f928-4f96-9006-69997571a2a4"
      },
      "execution_count": null,
      "outputs": [
        {
          "output_type": "execute_result",
          "data": {
            "text/plain": [
              "'/content'"
            ],
            "application/vnd.google.colaboratory.intrinsic+json": {
              "type": "string"
            }
          },
          "metadata": {},
          "execution_count": 11
        }
      ]
    },
    {
      "cell_type": "code",
      "source": [
        "# upload the following files:\n",
        "# grad_rates.csv\n",
        "# revenues.csv\n",
        "# enrollment.csv\n",
        "# 2017_season.csv\n",
        "uploaded = files.upload()"
      ],
      "metadata": {
        "colab": {
          "base_uri": "https://localhost:8080/",
          "height": 177
        },
        "id": "ewG_baSDGFWt",
        "outputId": "b9242e94-31fc-46c2-a194-5a1357854047"
      },
      "execution_count": null,
      "outputs": [
        {
          "output_type": "display_data",
          "data": {
            "text/plain": [
              "<IPython.core.display.HTML object>"
            ],
            "text/html": [
              "\n",
              "     <input type=\"file\" id=\"files-ac649171-5996-4e1d-87ce-b260d4f425c7\" name=\"files[]\" multiple disabled\n",
              "        style=\"border:none\" />\n",
              "     <output id=\"result-ac649171-5996-4e1d-87ce-b260d4f425c7\">\n",
              "      Upload widget is only available when the cell has been executed in the\n",
              "      current browser session. Please rerun this cell to enable.\n",
              "      </output>\n",
              "      <script>// Copyright 2017 Google LLC\n",
              "//\n",
              "// Licensed under the Apache License, Version 2.0 (the \"License\");\n",
              "// you may not use this file except in compliance with the License.\n",
              "// You may obtain a copy of the License at\n",
              "//\n",
              "//      http://www.apache.org/licenses/LICENSE-2.0\n",
              "//\n",
              "// Unless required by applicable law or agreed to in writing, software\n",
              "// distributed under the License is distributed on an \"AS IS\" BASIS,\n",
              "// WITHOUT WARRANTIES OR CONDITIONS OF ANY KIND, either express or implied.\n",
              "// See the License for the specific language governing permissions and\n",
              "// limitations under the License.\n",
              "\n",
              "/**\n",
              " * @fileoverview Helpers for google.colab Python module.\n",
              " */\n",
              "(function(scope) {\n",
              "function span(text, styleAttributes = {}) {\n",
              "  const element = document.createElement('span');\n",
              "  element.textContent = text;\n",
              "  for (const key of Object.keys(styleAttributes)) {\n",
              "    element.style[key] = styleAttributes[key];\n",
              "  }\n",
              "  return element;\n",
              "}\n",
              "\n",
              "// Max number of bytes which will be uploaded at a time.\n",
              "const MAX_PAYLOAD_SIZE = 100 * 1024;\n",
              "\n",
              "function _uploadFiles(inputId, outputId) {\n",
              "  const steps = uploadFilesStep(inputId, outputId);\n",
              "  const outputElement = document.getElementById(outputId);\n",
              "  // Cache steps on the outputElement to make it available for the next call\n",
              "  // to uploadFilesContinue from Python.\n",
              "  outputElement.steps = steps;\n",
              "\n",
              "  return _uploadFilesContinue(outputId);\n",
              "}\n",
              "\n",
              "// This is roughly an async generator (not supported in the browser yet),\n",
              "// where there are multiple asynchronous steps and the Python side is going\n",
              "// to poll for completion of each step.\n",
              "// This uses a Promise to block the python side on completion of each step,\n",
              "// then passes the result of the previous step as the input to the next step.\n",
              "function _uploadFilesContinue(outputId) {\n",
              "  const outputElement = document.getElementById(outputId);\n",
              "  const steps = outputElement.steps;\n",
              "\n",
              "  const next = steps.next(outputElement.lastPromiseValue);\n",
              "  return Promise.resolve(next.value.promise).then((value) => {\n",
              "    // Cache the last promise value to make it available to the next\n",
              "    // step of the generator.\n",
              "    outputElement.lastPromiseValue = value;\n",
              "    return next.value.response;\n",
              "  });\n",
              "}\n",
              "\n",
              "/**\n",
              " * Generator function which is called between each async step of the upload\n",
              " * process.\n",
              " * @param {string} inputId Element ID of the input file picker element.\n",
              " * @param {string} outputId Element ID of the output display.\n",
              " * @return {!Iterable<!Object>} Iterable of next steps.\n",
              " */\n",
              "function* uploadFilesStep(inputId, outputId) {\n",
              "  const inputElement = document.getElementById(inputId);\n",
              "  inputElement.disabled = false;\n",
              "\n",
              "  const outputElement = document.getElementById(outputId);\n",
              "  outputElement.innerHTML = '';\n",
              "\n",
              "  const pickedPromise = new Promise((resolve) => {\n",
              "    inputElement.addEventListener('change', (e) => {\n",
              "      resolve(e.target.files);\n",
              "    });\n",
              "  });\n",
              "\n",
              "  const cancel = document.createElement('button');\n",
              "  inputElement.parentElement.appendChild(cancel);\n",
              "  cancel.textContent = 'Cancel upload';\n",
              "  const cancelPromise = new Promise((resolve) => {\n",
              "    cancel.onclick = () => {\n",
              "      resolve(null);\n",
              "    };\n",
              "  });\n",
              "\n",
              "  // Wait for the user to pick the files.\n",
              "  const files = yield {\n",
              "    promise: Promise.race([pickedPromise, cancelPromise]),\n",
              "    response: {\n",
              "      action: 'starting',\n",
              "    }\n",
              "  };\n",
              "\n",
              "  cancel.remove();\n",
              "\n",
              "  // Disable the input element since further picks are not allowed.\n",
              "  inputElement.disabled = true;\n",
              "\n",
              "  if (!files) {\n",
              "    return {\n",
              "      response: {\n",
              "        action: 'complete',\n",
              "      }\n",
              "    };\n",
              "  }\n",
              "\n",
              "  for (const file of files) {\n",
              "    const li = document.createElement('li');\n",
              "    li.append(span(file.name, {fontWeight: 'bold'}));\n",
              "    li.append(span(\n",
              "        `(${file.type || 'n/a'}) - ${file.size} bytes, ` +\n",
              "        `last modified: ${\n",
              "            file.lastModifiedDate ? file.lastModifiedDate.toLocaleDateString() :\n",
              "                                    'n/a'} - `));\n",
              "    const percent = span('0% done');\n",
              "    li.appendChild(percent);\n",
              "\n",
              "    outputElement.appendChild(li);\n",
              "\n",
              "    const fileDataPromise = new Promise((resolve) => {\n",
              "      const reader = new FileReader();\n",
              "      reader.onload = (e) => {\n",
              "        resolve(e.target.result);\n",
              "      };\n",
              "      reader.readAsArrayBuffer(file);\n",
              "    });\n",
              "    // Wait for the data to be ready.\n",
              "    let fileData = yield {\n",
              "      promise: fileDataPromise,\n",
              "      response: {\n",
              "        action: 'continue',\n",
              "      }\n",
              "    };\n",
              "\n",
              "    // Use a chunked sending to avoid message size limits. See b/62115660.\n",
              "    let position = 0;\n",
              "    do {\n",
              "      const length = Math.min(fileData.byteLength - position, MAX_PAYLOAD_SIZE);\n",
              "      const chunk = new Uint8Array(fileData, position, length);\n",
              "      position += length;\n",
              "\n",
              "      const base64 = btoa(String.fromCharCode.apply(null, chunk));\n",
              "      yield {\n",
              "        response: {\n",
              "          action: 'append',\n",
              "          file: file.name,\n",
              "          data: base64,\n",
              "        },\n",
              "      };\n",
              "\n",
              "      let percentDone = fileData.byteLength === 0 ?\n",
              "          100 :\n",
              "          Math.round((position / fileData.byteLength) * 100);\n",
              "      percent.textContent = `${percentDone}% done`;\n",
              "\n",
              "    } while (position < fileData.byteLength);\n",
              "  }\n",
              "\n",
              "  // All done.\n",
              "  yield {\n",
              "    response: {\n",
              "      action: 'complete',\n",
              "    }\n",
              "  };\n",
              "}\n",
              "\n",
              "scope.google = scope.google || {};\n",
              "scope.google.colab = scope.google.colab || {};\n",
              "scope.google.colab._files = {\n",
              "  _uploadFiles,\n",
              "  _uploadFilesContinue,\n",
              "};\n",
              "})(self);\n",
              "</script> "
            ]
          },
          "metadata": {}
        },
        {
          "output_type": "stream",
          "name": "stdout",
          "text": [
            "Saving 2017_season.csv to 2017_season.csv\n",
            "Saving enrollment.csv to enrollment.csv\n",
            "Saving grad_rates.csv to grad_rates.csv\n",
            "Saving revenues.csv to revenues.csv\n"
          ]
        }
      ]
    },
    {
      "cell_type": "markdown",
      "source": [
        "# sources"
      ],
      "metadata": {
        "id": "RGhO4Sg__Nx_"
      }
    },
    {
      "cell_type": "code",
      "source": [
        "# information about the data\n",
        "# didn't scrape several of these sites because it's historical data\n",
        "# if this were frequently changing data I would have set up an ETL pipeline, scraping everything\n",
        "\n",
        "# coach\n",
        "# pulled from this class's github\n",
        "# 'https://raw.githubusercontent.com/2SUBDA/IST_718/master/Coaches9.csv'\n",
        "\n",
        "# graduation rates\n",
        "# copied and pasted from this URL then cleaned in Excel before saving as a .csv\n",
        "# used the following search paramters:\n",
        "# School: All, Conference: All, Sport: Football, Year: 2020-2021, State: All\n",
        "# was more time-efficient than scraping the dynamic table\n",
        "# https://web3.ncaa.org/aprsearch/gsrsearch\n",
        "\n",
        "# stadiums is scraped from\n",
        "# https://www.collegegridirons.com/comparisons-by-capacity/\n",
        "\n",
        "# enrollment\n",
        "# https://en.wikipedia.org/wiki/List_of_NCAA_Division_I_FBS_football_programs\n",
        "# copied and pasted into excel, faster than scraping\n",
        "# revenues\n",
        "# this came from https://graphics.wsj.com/table/NCAA_2019\n",
        "# copied and pasted into excel, kept only School and Revenue columns, converted revenue to number\n",
        "\n",
        "# season\n",
        "# https://www.sports-reference.com/cfb/years/2017-standings.html\n",
        "# could have scraped these tables but it was just easier to download and edit in excel\n",
        "# deleted some columns and converted several to number\n",
        "\n",
        "# the final dataset is just called main, i downloaded it as main_transformed.csv once i was done creating it, cleaning it, and transforming it\n",
        "# you can skip right to exploratory analysis section if you use that dataset otherwise you ahve to upload the aforementiond csvs except the scraped one and the one pulled from github\n",
        "# i could put them on github but it's fine no one else is using this"
      ],
      "metadata": {
        "id": "wcFc4WzcMC19"
      },
      "execution_count": null,
      "outputs": []
    },
    {
      "cell_type": "code",
      "source": [
        "# scrape stadium capacity data\n",
        "# this will only scrape a static table\n",
        "\n",
        "url='https://www.collegegridirons.com/comparisons-by-capacity/'\n",
        "#Create a handle, page, to handle the contents of the website\n",
        "page = requests.get(url)\n",
        "#Store the contents of the website under doc\n",
        "doc = lh.fromstring(page.content)\n",
        "tr_elements = doc.xpath('//tr')\n",
        "#Create empty list for the headers\n",
        "headers=[]\n",
        "i=0\n",
        "#For each row, store each first element (header)\n",
        "for t in tr_elements[0]:\n",
        "    i+=1\n",
        "    name=t.text_content()\n",
        "    print (i,name)\n",
        "    headers.append((name))\n",
        "\n",
        "# create a list containing a string for each record\n",
        "\n",
        "tr_elements = doc.xpath('//tbody')\n",
        "#Create empty list\n",
        "col=[]\n",
        "i=0\n",
        "#For each row, store each first element (header)\n",
        "for t in tr_elements[0]:\n",
        "    i+=1\n",
        "    # record = []\n",
        "    data=t.text_content()\n",
        "    # record.append(data)\n",
        "    col.append((data))\n",
        "print(col[:5])\n",
        "\n",
        "# convert all records to lists\n",
        "for i in range(0,len(col)):\n",
        "  text = re.sub(',' , '' , col[i])\n",
        "  text = re.sub('\\n', ',' , text)\n",
        "  text = text[1:-1]\n",
        "  text = text.split(\",\")\n",
        "  col[i] = text\n",
        "\n",
        "# convert list of lists to pandas dataframe\n",
        "stadiums = pd.DataFrame(col, columns = headers)\n",
        "del stadiums['Stadium'], stadiums['Opened']\n",
        "\n",
        "# change datatype of capacity to int\n",
        "stadiums = stadiums.astype({'Capacity': 'int'})\n",
        "\n",
        "# rename school column\n",
        "stadiums = stadiums.rename(columns = {'College' : 'School'})\n",
        "# stadiums.dtypes\n",
        "stadiums['Conference'].unique()"
      ],
      "metadata": {
        "colab": {
          "base_uri": "https://localhost:8080/"
        },
        "id": "O7by2zQbLAXi",
        "outputId": "7359ca0a-7a3c-4623-9819-54dc3dcf4cd7"
      },
      "execution_count": null,
      "outputs": [
        {
          "output_type": "stream",
          "name": "stdout",
          "text": [
            "1 Stadium\n",
            "2 College\n",
            "3 Conference\n",
            "4 Capacity\n",
            "5 Opened\n",
            "['\\nMichigan Stadium\\nMichigan\\nBig Ten\\n107,601\\n1927\\n', '\\nBeaver Stadium\\nPenn State\\nBig Ten\\n106,572\\n1960\\n', '\\nOhio Stadium\\nOhio State\\nBig Ten\\n104,944\\n1922\\n', '\\nKyle Field\\nTexas A&M\\nSEC\\n102,733\\n1904\\n', '\\nNeyland Stadium\\nTennessee\\nSEC\\n102,521\\n1921\\n']\n"
          ]
        },
        {
          "output_type": "execute_result",
          "data": {
            "text/plain": [
              "array(['Big Ten', 'SEC', 'Big 12', 'Pac 12', 'ACC', 'Independent', 'CUSA',\n",
              "       'Mountain West', 'MAC', 'AAC', 'Sun Belt'], dtype=object)"
            ]
          },
          "metadata": {},
          "execution_count": 14
        }
      ]
    },
    {
      "cell_type": "code",
      "source": [
        "# Upon inspecting stadiums df and the actual webpage, realized that for some reaosn\n",
        "# liberty and TCU were not scraped from the site\n",
        "# manually adding the schools now\n",
        "# first make a new datframe then use append to add them as rows at the bottom\n",
        "missing_dict = {'School': ['Liberty', 'Texas Christian'],\n",
        "                    'Conference' : ['Independent', 'Big 12'],\n",
        "                    'Capacity': [25000, 45000],\n",
        "                    }\n",
        "missing_stadiums = pd.DataFrame.from_dict(missing_dict)\n",
        "stadiums = stadiums.append(missing_stadiums, ignore_index = True)"
      ],
      "metadata": {
        "id": "YpdadH0WLZ7u",
        "colab": {
          "base_uri": "https://localhost:8080/"
        },
        "outputId": "9363a190-0184-4e50-e421-31e721339306"
      },
      "execution_count": null,
      "outputs": [
        {
          "output_type": "stream",
          "name": "stderr",
          "text": [
            "<ipython-input-15-178be323e1e2>:10: FutureWarning: The frame.append method is deprecated and will be removed from pandas in a future version. Use pandas.concat instead.\n",
            "  stadiums = stadiums.append(missing_stadiums, ignore_index = True)\n"
          ]
        }
      ]
    },
    {
      "cell_type": "markdown",
      "source": [
        "# perform fuzzy matching for all dataframes"
      ],
      "metadata": {
        "id": "n3xmIo3pMbUr"
      }
    },
    {
      "cell_type": "code",
      "source": [
        "# set df1 to the target dataframe\n",
        "# set col2 to 'School' if there is no conference column\n",
        "df1 = grad_rates\n",
        "df2 = coach\n",
        "col1 = 'School'\n",
        "col2 = 'Conference'\n",
        "df1 = alter_conferences(df1)\n",
        "\n",
        "# seperate block\n",
        "matching_results = match_names(df1, coach, col1, col2)\n",
        "errors_output = match_error_identify(matching_results, df1, df2, 'School')\n",
        "\n",
        "# separate block\n",
        "errors = errors_output\n",
        "indices_output = input_indices(errors, df1, col1)\n",
        "\n",
        "# separate block\n",
        "corrections = indices_output\n",
        "df1 = correct_mismatch(corrections, matching_results, df1, df2, 'School')\n",
        "\n",
        "# seperate block\n",
        "pd.options.display.max_rows = len(df1)\n",
        "df1"
      ],
      "metadata": {
        "id": "zY0tZtD6MREO"
      },
      "execution_count": null,
      "outputs": []
    },
    {
      "cell_type": "markdown",
      "source": [
        "# grad rates"
      ],
      "metadata": {
        "id": "g61UtV11RaXX"
      }
    },
    {
      "cell_type": "code",
      "source": [
        "grad_rates = pd.read_csv('grad_rates.csv')\n",
        "# set df1 to the target dataframe\n",
        "# set col2 to 'School' if there is no conference column\n",
        "\n",
        "# there are some trailing whitespaces that are messing up the matching function\n",
        "# even though it removes whitespace soem still remain so this will fix that\n",
        "grad_rates['School'] = grad_rates['School'].str.strip()\n",
        "grad_rates = alter_conferences(grad_rates)\n",
        "# indices to input:\n",
        "# 0,1,2,5,7,9,10,13,16,19,23"
      ],
      "metadata": {
        "id": "LbTPhrpIQeoi"
      },
      "execution_count": null,
      "outputs": []
    },
    {
      "cell_type": "code",
      "source": [
        "df1 = grad_rates\n",
        "df2 = coach\n",
        "col1 = 'School'\n",
        "col2 = 'Conference'"
      ],
      "metadata": {
        "id": "rBNe242Al9Fs"
      },
      "execution_count": null,
      "outputs": []
    },
    {
      "cell_type": "code",
      "source": [
        "matching_results = match_names(df1, df2, col1, col2)"
      ],
      "metadata": {
        "id": "vFktZa9mQe1q"
      },
      "execution_count": null,
      "outputs": []
    },
    {
      "cell_type": "code",
      "source": [
        "errors_output = match_error_identify(matching_results, df1, df2, 'School')\n",
        "# 0,2"
      ],
      "metadata": {
        "id": "P-SgIkaIVdi7"
      },
      "execution_count": null,
      "outputs": []
    },
    {
      "cell_type": "code",
      "source": [
        "errors = errors_output\n",
        "errors"
      ],
      "metadata": {
        "id": "QBQUEJ0IQe_N"
      },
      "execution_count": null,
      "outputs": []
    },
    {
      "cell_type": "code",
      "source": [
        "indices_output = input_indices(errors, df1, col1)"
      ],
      "metadata": {
        "id": "x-jcfoHUxW2l"
      },
      "execution_count": null,
      "outputs": []
    },
    {
      "cell_type": "code",
      "source": [
        "corrections = indices_output\n",
        "corrections"
      ],
      "metadata": {
        "id": "4g-gaDbxQfFt"
      },
      "execution_count": null,
      "outputs": []
    },
    {
      "cell_type": "code",
      "source": [
        "corrections = [[86, 7, 'Arkansas', 'Arkansas, Fayetteville', 12],\n",
        " [86, 17, 'Buffalo', 'at Buffalo, the State  New York', 26],\n",
        " [86, 27, 'Connecticut', 'Connecticut', 46],\n",
        " [86, 42, 'Illinois', 'Illinois Urbana-Champaign', 85],\n",
        " [86, 43, 'Indiana', 'Indiana , Bloomington', 87],\n",
        " [86, 55, 'LSU', 'Louisiana State', 101],\n",
        " [86, 57, 'Maryland', 'Maryland, College Park', 107],\n",
        " [86, 60, 'Miami (Fla.)', 'Miami (Florida)', 114],\n",
        " [86, 65, 'Minnesota', 'Minnesota, Twin Cities', 118],\n",
        " [86, 68, 'Missouri', 'Missouri, Columbia', 122],\n",
        " [86, 70, 'Nebraska', 'Nebraska, Lincoln', 131],\n",
        " [95, 75, 'North Carolina', 'North Carolina, Chapel Hill', 129],\n",
        " [86, 92, 'Rutgers', 'Rutgers, The State  New Jersey, New Brunswick', 172],\n",
        " [86, 96, 'South Carolina', 'South Carolina, Columbia', 182],\n",
        " [87, 98, 'USC', 'Southern California', 188],\n",
        " [86, 103, 'Tennessee', 'Tennessee, Knoxville', 206],\n",
        " [95, 104, 'Texas', 'Texas at Austin', 212],\n",
        " [86, 105, 'Texas A&M', 'Texas A&M , College Station', 208],\n",
        " [90, 18, 'California', 'California, Berkeley', 31],\n",
        " [86, 25, 'Colorado', 'Colorado, Boulder', 44]]"
      ],
      "metadata": {
        "id": "cHVPB-VpltYx"
      },
      "execution_count": null,
      "outputs": []
    },
    {
      "cell_type": "code",
      "source": [
        "test = correct_mismatch(corrections, matching_results, df1, df2, 'School')"
      ],
      "metadata": {
        "id": "PvEyhtizlla-"
      },
      "execution_count": null,
      "outputs": []
    },
    {
      "cell_type": "code",
      "source": [
        "pd.options.display.max_rows = 150\n",
        "grad_rates = test"
      ],
      "metadata": {
        "id": "IlSndWoTgcMK"
      },
      "execution_count": null,
      "outputs": []
    },
    {
      "cell_type": "code",
      "source": [
        "grad_rates.to_csv('matched_grad_rates.csv')"
      ],
      "metadata": {
        "id": "fR5VOqJlzk6W"
      },
      "execution_count": null,
      "outputs": []
    },
    {
      "cell_type": "markdown",
      "source": [
        "# stadiums"
      ],
      "metadata": {
        "id": "-KeetBlaRfZG"
      }
    },
    {
      "cell_type": "code",
      "source": [
        "# set df1 to the target dataframe\n",
        "# set col2 to 'School' if there is no conference column\n",
        "df1 = stadiums\n",
        "df2 = coach\n",
        "col1 = 'School'\n",
        "col2 = 'Conference'\n",
        "stadiums = alter_conferences(df1)"
      ],
      "metadata": {
        "id": "mf8CYP63Q3g1"
      },
      "execution_count": null,
      "outputs": []
    },
    {
      "cell_type": "code",
      "source": [
        "df1 = stadiums"
      ],
      "metadata": {
        "id": "MLDx8Gd3x43o"
      },
      "execution_count": null,
      "outputs": []
    },
    {
      "cell_type": "code",
      "source": [
        "matching_results = match_names(df1, coach, col1, col2)\n",
        "errors_output = match_error_identify(matching_results, df1, df2, 'School')"
      ],
      "metadata": {
        "id": "QIVIbO1lQ3rG"
      },
      "execution_count": null,
      "outputs": []
    },
    {
      "cell_type": "code",
      "source": [
        "errors = errors_output\n",
        "indices_output = input_indices(errors, df1, col1)"
      ],
      "metadata": {
        "id": "ZkAT9rnPQ3zS"
      },
      "execution_count": null,
      "outputs": []
    },
    {
      "cell_type": "code",
      "source": [
        "corrections = indices_output"
      ],
      "metadata": {
        "id": "vRlF--tLQ36W"
      },
      "execution_count": null,
      "outputs": []
    },
    {
      "cell_type": "code",
      "source": [
        "corrections = [[86, 3, 'Alabama at Birmingham', 'UAB', 22],\n",
        " [85, 16, 'Brigham Young', 'BYU', 35],\n",
        " [85, 58, 'Massachusetts', 'Umass', 27],\n",
        " [95, 61, 'Miami (Ohio)', 'Miami-OH', 117],\n",
        " [95, 72, 'Nevada-Las Vegas', 'UNLV', 87],\n",
        " [86, 74, 'New Mexico State', 'New Mexico State', 101],\n",
        " [95, 76, 'North Carolina State', 'NC State', 48],\n",
        " [86, 109, 'Texas-El Paso', 'UTEP', 59],\n",
        " [86, 110, 'Texas-San Antonio', 'UTSA', 33],\n",
        " [86, 99, 'Southern Methodist', 'SMU', 92]]"
      ],
      "metadata": {
        "id": "tI2UCOJ1zKVd"
      },
      "execution_count": null,
      "outputs": []
    },
    {
      "cell_type": "code",
      "source": [
        "df1 = correct_mismatch(corrections, matching_results, df1, df2, 'School')"
      ],
      "metadata": {
        "id": "w1hsimQAzGOx"
      },
      "execution_count": null,
      "outputs": []
    },
    {
      "cell_type": "code",
      "source": [
        "pd.options.display.max_rows = len(df1)\n",
        "stadiums = df1"
      ],
      "metadata": {
        "id": "t3_s3NncQ4BI"
      },
      "execution_count": null,
      "outputs": []
    },
    {
      "cell_type": "code",
      "source": [
        "stadiums.to_csv('matched_stadiums.csv')"
      ],
      "metadata": {
        "id": "ouCQ5HuwCTbi"
      },
      "execution_count": null,
      "outputs": []
    },
    {
      "cell_type": "markdown",
      "source": [
        "# enrollment"
      ],
      "metadata": {
        "id": "xKCwzcGQRizc"
      }
    },
    {
      "cell_type": "code",
      "source": [
        "enrollment = pd.read_csv('enrollment.csv')\n",
        "# set df1 to the target dataframe\n",
        "# set col2 to 'School' if there is no conference column\n",
        "df2 = coach\n",
        "col1 = 'School'\n",
        "col2 = 'Conference'\n",
        "enrollment = enrollment.rename(columns = {'Current Conf': 'Conference', 'Team' : 'School'})\n",
        "\n",
        "enrollment[enrollment.Conference == 'American[n 3]']\n",
        "enrollment['Conference'] = enrollment['Conference'].replace({'American[n 3]': 'American', 'Big 12[n 10]' : 'Big 12', 'C-USA[n 4]' : 'C-USA', 'Independent[n 3]' : 'Independent', 'Independent[n 6]' : 'Independent'  })\n",
        "enrollment = alter_conferences(enrollment)\n",
        "# 1,0,2,3,4,5,6,7,8,9,10\n",
        "df1 = enrollment"
      ],
      "metadata": {
        "id": "EyOSLDxvQ4Gy"
      },
      "execution_count": null,
      "outputs": []
    },
    {
      "cell_type": "code",
      "source": [
        "matching_results = match_names(df1, coach, col1, col2)"
      ],
      "metadata": {
        "id": "gh13RZntQ4Ou"
      },
      "execution_count": null,
      "outputs": []
    },
    {
      "cell_type": "code",
      "source": [
        "errors_output = match_error_identify(matching_results, df1, df2, 'School')"
      ],
      "metadata": {
        "id": "nqQnZ9Ta4Hs-"
      },
      "execution_count": null,
      "outputs": []
    },
    {
      "cell_type": "code",
      "source": [
        "errors = errors_output\n",
        "indices_output = input_indices(errors, df1, col1)"
      ],
      "metadata": {
        "id": "QBES_3hBQ4Ue"
      },
      "execution_count": null,
      "outputs": []
    },
    {
      "cell_type": "code",
      "source": [
        "corrections = indices_output"
      ],
      "metadata": {
        "id": "zygihmu0Q4eL"
      },
      "execution_count": null,
      "outputs": []
    },
    {
      "cell_type": "code",
      "source": [
        "corrections = [[86, 3, 'Alabama at Birmingham', 'UAB', 108],\n",
        " [85, 16, 'Brigham Young', 'BYU', 16],\n",
        " [86, 19, 'Central Florida', 'UCF', 109],\n",
        " [86, 27, 'Connecticut', 'UConn', 111],\n",
        " [86, 33, 'Florida International', 'FIU', 28],\n",
        " [84, 56, 'Marshall', 'Marshall', 53],\n",
        " [85, 58, 'Massachusetts', 'UMass', 112],\n",
        " [95, 66, 'Mississippi', 'Mississippi State', 62],\n",
        " [95, 72, 'Nevada-Las Vegas', 'UNLV', 113],\n",
        " [95, 76, 'North Carolina State', 'NC State', 65],\n",
        " [84, 85, 'Old Dominion', 'Old Dominion', 79],\n",
        " [86, 99, 'Southern Methodist', 'SMU', 90],\n",
        " [86, 100, 'Southern Mississippi', 'Southern Miss', 94],\n",
        " [86, 106, 'Texas Christian', 'TCU', 97],\n",
        " [86, 109, 'Texas-El Paso', 'UTEP', 115],\n",
        " [86, 110, 'Texas-San Antonio', 'UTSA', 116]]"
      ],
      "metadata": {
        "id": "lB0iYggs6n4S"
      },
      "execution_count": null,
      "outputs": []
    },
    {
      "cell_type": "code",
      "source": [
        "df1 = correct_mismatch(corrections, matching_results, df1, df2, 'School')"
      ],
      "metadata": {
        "id": "VG2_lo-s6jZn"
      },
      "execution_count": null,
      "outputs": []
    },
    {
      "cell_type": "code",
      "source": [
        "pd.options.display.max_rows = len(df1)\n",
        "enrollment = df1"
      ],
      "metadata": {
        "id": "4SQ5Vs_hQ4j1"
      },
      "execution_count": null,
      "outputs": []
    },
    {
      "cell_type": "code",
      "source": [
        "enrollment.to_csv('matched_enrollment.csv')"
      ],
      "metadata": {
        "id": "xOUXaxQIChyd"
      },
      "execution_count": null,
      "outputs": []
    },
    {
      "cell_type": "markdown",
      "source": [
        "# revenues"
      ],
      "metadata": {
        "id": "hl5j83bUR-mM"
      }
    },
    {
      "cell_type": "code",
      "source": [
        "revenues = pd.read_csv('revenues.csv')\n",
        "# set df1 to the target dataframe\n",
        "# set col2 to 'School' if there is no conference column\n",
        "df1 = revenues\n",
        "df2 = coach\n",
        "col1 = 'School'\n",
        "col2 = 'School'"
      ],
      "metadata": {
        "id": "PQrfnmaVQ4pP"
      },
      "execution_count": null,
      "outputs": []
    },
    {
      "cell_type": "code",
      "source": [
        "matching_results = match_names(df1, df2, col1, col2)\n",
        "errors_output = match_error_identify(matching_results, df1, df2, 'School')\n",
        "# 1,2,5"
      ],
      "metadata": {
        "id": "uEjgAJ4-Q4vm"
      },
      "execution_count": null,
      "outputs": []
    },
    {
      "cell_type": "code",
      "source": [
        "errors = errors_output\n",
        "indices_output = input_indices(errors, df1, col1)"
      ],
      "metadata": {
        "id": "uIr63Bp2Q41L"
      },
      "execution_count": null,
      "outputs": []
    },
    {
      "cell_type": "code",
      "source": [
        "corrections = indices_output\n",
        "corrections = [[67, 0, 'Air Force', 'MISSING', None],\n",
        " [86, 3, 'Alabama at Birmingham', 'UAB', 70],\n",
        " [86, 4, 'Appalachian State', 'MISSING', None],\n",
        " [64, 9, 'Army', 'MISSING', None],\n",
        " [58, 21, 'Charlotte', 'MISSING', None],\n",
        " [84, 24, 'Coastal Carolina', 'MISSING', None],\n",
        " [86, 37, 'Georgia Southern', 'MISSING', None],\n",
        " [86, 38, 'Georgia State', 'MISSING', None],\n",
        " [64, 58, 'Massachusetts', 'MISSING', None],\n",
        " [86, 67, 'Mississippi State', 'Miss State', 34],\n",
        " [86, 72, 'Nevada-Las Vegas', 'UNLV', 84],\n",
        " [54, 85, 'Old Dominion', 'MISSING', None],\n",
        " [86, 95, 'South Alabama', 'MISSING', None],\n",
        " [67, 98, 'USC', 'Southern California', 22],\n",
        " [86, 100, 'Southern Mississippi', 'Southern Miss', 100],\n",
        " [86, 107, 'Texas State', 'MISSING', None],\n",
        " [86, 109, 'Texas-El Paso', 'UTEP', 91],\n",
        " [86, 110, 'Texas-San Antonio', 'MISSING', None],\n",
        " [67, 113, 'Tulane', 'MISSING', None],\n",
        " [73, 114, 'Tulsa', 'MISSING', None],\n",
        " [86, 123, 'Washington State', 'Wash State', 51],\n",
        " [86, 18, 'California', 'California Berkeley', 39],\n",
        " [50, 50, 'Liberty', 'MISSING', None],\n",
        " [60, 69, 'Navy', 'MISSING', None]]"
      ],
      "metadata": {
        "id": "_bq7GJYnQ46Y"
      },
      "execution_count": null,
      "outputs": []
    },
    {
      "cell_type": "code",
      "source": [
        "revenues = correct_mismatch(corrections, matching_results, df1, df2, 'School')"
      ],
      "metadata": {
        "id": "BA6DlPf9stWc"
      },
      "execution_count": null,
      "outputs": []
    },
    {
      "cell_type": "code",
      "source": [
        "pd.options.display.max_rows = 150\n",
        "revenues"
      ],
      "metadata": {
        "id": "Eyzjd1f1Q4_u"
      },
      "execution_count": null,
      "outputs": []
    },
    {
      "cell_type": "code",
      "source": [
        "revenues.to_csv('matched_revenues.csv')"
      ],
      "metadata": {
        "id": "o4-AZGMlCxJp"
      },
      "execution_count": null,
      "outputs": []
    },
    {
      "cell_type": "markdown",
      "source": [
        "# season"
      ],
      "metadata": {
        "id": "Eajt9o6mSW5H"
      }
    },
    {
      "cell_type": "code",
      "source": [
        "season_2017 = pd.read_csv('2017_season.csv')\n",
        "# set df1 to the target dataframe\n",
        "# set col2 to 'School' if there is no conference column\n",
        "df1 = grad_rates\n",
        "df2 = coach\n",
        "col1 = 'School'\n",
        "col2 = 'Conference'\n",
        "season_2017\n",
        "\n",
        "season_2017 = season_2017.rename(columns = {'Conf': 'Conference'})\n",
        "season_2017['Conference'].unique()\n",
        "\n",
        "season_2017['Conference'] = season_2017['Conference'].replace({'ACC (Atlantic)': 'ACC', 'ACC (Coastal)' : 'ACC', 'American (East)' : 'American', 'American (West)' : 'American',\n",
        "                                                               'Big Ten (East)' : 'Big Ten', 'Big Ten (West)': 'Big Ten', 'CUSA (East)': 'CUSA', 'CUSA (West)': 'CUSA', 'MAC (East)' : 'MAC',\n",
        "                                                               'MAC (West)' : 'MAC', 'MWC (Mountain)' : 'MWC', 'MWC (West)': 'MWC', 'Pac-12 (North)' : 'Pac-12', 'Pac-12 (South)' : 'Pac-12',\n",
        "                                                               'SEC (East)' : 'SEC', 'SEC (West)' : 'SEC',})\n",
        "season_2017['Conference'].unique()\n",
        "season_2017 = alter_conferences(season_2017)\n",
        "# 1,0,2,3,4,5,6,7,8,9,10\n",
        "df1 = season_2017"
      ],
      "metadata": {
        "id": "62rMnCwGQ5FC"
      },
      "execution_count": null,
      "outputs": []
    },
    {
      "cell_type": "code",
      "source": [
        "matching_results = match_names(df1, coach, col1, col2)\n",
        "errors_output = match_error_identify(matching_results, df1, df2, 'School')"
      ],
      "metadata": {
        "id": "mA6U4lnAQ5Ka"
      },
      "execution_count": null,
      "outputs": []
    },
    {
      "cell_type": "code",
      "source": [
        "errors = errors_output\n",
        "indices_output = input_indices(errors, df1, col1)"
      ],
      "metadata": {
        "id": "LZEJB_1CQ5PT"
      },
      "execution_count": null,
      "outputs": []
    },
    {
      "cell_type": "code",
      "source": [
        "corrections = indices_output"
      ],
      "metadata": {
        "id": "EZKjp2EIQ5Uh"
      },
      "execution_count": null,
      "outputs": []
    },
    {
      "cell_type": "code",
      "source": [
        "corrections = [[86, 3, 'Alabama at Birmingham', 'UAB', 59],\n",
        " [85, 16, 'Brigham Young', 'BYU', 67],\n",
        " [86, 19, 'Central Florida', 'UCF', 14],\n",
        " [87, 50, 'Liberty', 'MISSING', None],\n",
        " [86, 52, 'Louisiana-Lafayette', 'Louisiana', 125],\n",
        " [95, 66, 'Mississippi', 'Ole Miss', 116],\n",
        " [86, 74, 'New Mexico State', 'New Mexico State', 124],\n",
        " [86, 89, 'Pittsburgh', 'Pitt', 12],\n",
        " [86, 99, 'Southern Methodist', 'SMU', 23],\n",
        " [86, 109, 'Texas-El Paso', 'UTEP', 63],\n",
        " [86, 110, 'Texas-San Antonio', 'UTSA', 61]]"
      ],
      "metadata": {
        "id": "hYk4R1W0_KvO"
      },
      "execution_count": null,
      "outputs": []
    },
    {
      "cell_type": "code",
      "source": [
        "df1 = correct_mismatch(corrections, matching_results, df1, df2, 'School')"
      ],
      "metadata": {
        "id": "e5D8f9TB_Ge3"
      },
      "execution_count": null,
      "outputs": []
    },
    {
      "cell_type": "code",
      "source": [
        "pd.options.display.max_rows = len(df1)\n",
        "season_2017 = df1\n",
        "season_2017"
      ],
      "metadata": {
        "id": "xaBy8g2RQ5dY"
      },
      "execution_count": null,
      "outputs": []
    },
    {
      "cell_type": "code",
      "source": [
        "season_2017.to_csv('matched_season_2017.csv')"
      ],
      "metadata": {
        "id": "HrGmYuT3Q5ie"
      },
      "execution_count": null,
      "outputs": []
    },
    {
      "cell_type": "markdown",
      "source": [
        "# merge dataframes"
      ],
      "metadata": {
        "id": "XkF23aGbL3BP"
      }
    },
    {
      "cell_type": "code",
      "source": [
        "main = coach\n",
        "main = main.drop(['TotalPay', 'JoinCol', 'AssistantPay', 'Buyout'], axis = 1)\n",
        "\n",
        "grad_rates = grad_rates[['School', 'GSR', 'FGR']]\n",
        "stadiums = stadiums[['School', 'Capacity']]\n",
        "enrollment = enrollment[['School', 'Enrollment']]\n",
        "revenues = revenues[['School', 'Revenues']]\n",
        "season_2017 = season_2017[['School', 'W', 'L', 'Pct', 'Conf_W', 'Conf_L', 'Conf_Pct', 'AP High', 'AP Rank']]\n",
        "\n",
        "def merge_df(df1, main, col, method):\n",
        "  main = main.merge(df1, on = col, how = method)\n",
        "  return(main)\n",
        "\n",
        "col = 'School'\n",
        "method = 'left'\n",
        "\n",
        "main = merge_df(grad_rates, main, col, method)\n",
        "main = merge_df(stadiums, main, col, method)\n",
        "main = merge_df(enrollment, main, col, method)\n",
        "main = merge_df(revenues, main, col, method)\n",
        "main = merge_df(season_2017, main, col, method)\n",
        "pd.options.display.max_columns = 40\n",
        "pd.options.display.max_rows = 10\n",
        "main = main.replace({'--': None})\n",
        "main.to_csv('main.csv')\n",
        "main"
      ],
      "metadata": {
        "id": "9PgWC3iEQ5mz"
      },
      "execution_count": null,
      "outputs": []
    },
    {
      "cell_type": "markdown",
      "source": [
        "# cleaning\n",
        "# can start here by uploading main"
      ],
      "metadata": {
        "id": "Gu76DTgI3Vgt"
      }
    },
    {
      "cell_type": "code",
      "source": [
        "uploaded = files.upload()"
      ],
      "metadata": {
        "colab": {
          "base_uri": "https://localhost:8080/",
          "height": 73
        },
        "id": "wYEP3Dnl22lE",
        "outputId": "b5e80dc1-2ec0-459d-acc7-adc0072a22b0"
      },
      "execution_count": null,
      "outputs": [
        {
          "output_type": "display_data",
          "data": {
            "text/plain": [
              "<IPython.core.display.HTML object>"
            ],
            "text/html": [
              "\n",
              "     <input type=\"file\" id=\"files-6dde8124-5756-408e-92a0-bc529a27abe5\" name=\"files[]\" multiple disabled\n",
              "        style=\"border:none\" />\n",
              "     <output id=\"result-6dde8124-5756-408e-92a0-bc529a27abe5\">\n",
              "      Upload widget is only available when the cell has been executed in the\n",
              "      current browser session. Please rerun this cell to enable.\n",
              "      </output>\n",
              "      <script>// Copyright 2017 Google LLC\n",
              "//\n",
              "// Licensed under the Apache License, Version 2.0 (the \"License\");\n",
              "// you may not use this file except in compliance with the License.\n",
              "// You may obtain a copy of the License at\n",
              "//\n",
              "//      http://www.apache.org/licenses/LICENSE-2.0\n",
              "//\n",
              "// Unless required by applicable law or agreed to in writing, software\n",
              "// distributed under the License is distributed on an \"AS IS\" BASIS,\n",
              "// WITHOUT WARRANTIES OR CONDITIONS OF ANY KIND, either express or implied.\n",
              "// See the License for the specific language governing permissions and\n",
              "// limitations under the License.\n",
              "\n",
              "/**\n",
              " * @fileoverview Helpers for google.colab Python module.\n",
              " */\n",
              "(function(scope) {\n",
              "function span(text, styleAttributes = {}) {\n",
              "  const element = document.createElement('span');\n",
              "  element.textContent = text;\n",
              "  for (const key of Object.keys(styleAttributes)) {\n",
              "    element.style[key] = styleAttributes[key];\n",
              "  }\n",
              "  return element;\n",
              "}\n",
              "\n",
              "// Max number of bytes which will be uploaded at a time.\n",
              "const MAX_PAYLOAD_SIZE = 100 * 1024;\n",
              "\n",
              "function _uploadFiles(inputId, outputId) {\n",
              "  const steps = uploadFilesStep(inputId, outputId);\n",
              "  const outputElement = document.getElementById(outputId);\n",
              "  // Cache steps on the outputElement to make it available for the next call\n",
              "  // to uploadFilesContinue from Python.\n",
              "  outputElement.steps = steps;\n",
              "\n",
              "  return _uploadFilesContinue(outputId);\n",
              "}\n",
              "\n",
              "// This is roughly an async generator (not supported in the browser yet),\n",
              "// where there are multiple asynchronous steps and the Python side is going\n",
              "// to poll for completion of each step.\n",
              "// This uses a Promise to block the python side on completion of each step,\n",
              "// then passes the result of the previous step as the input to the next step.\n",
              "function _uploadFilesContinue(outputId) {\n",
              "  const outputElement = document.getElementById(outputId);\n",
              "  const steps = outputElement.steps;\n",
              "\n",
              "  const next = steps.next(outputElement.lastPromiseValue);\n",
              "  return Promise.resolve(next.value.promise).then((value) => {\n",
              "    // Cache the last promise value to make it available to the next\n",
              "    // step of the generator.\n",
              "    outputElement.lastPromiseValue = value;\n",
              "    return next.value.response;\n",
              "  });\n",
              "}\n",
              "\n",
              "/**\n",
              " * Generator function which is called between each async step of the upload\n",
              " * process.\n",
              " * @param {string} inputId Element ID of the input file picker element.\n",
              " * @param {string} outputId Element ID of the output display.\n",
              " * @return {!Iterable<!Object>} Iterable of next steps.\n",
              " */\n",
              "function* uploadFilesStep(inputId, outputId) {\n",
              "  const inputElement = document.getElementById(inputId);\n",
              "  inputElement.disabled = false;\n",
              "\n",
              "  const outputElement = document.getElementById(outputId);\n",
              "  outputElement.innerHTML = '';\n",
              "\n",
              "  const pickedPromise = new Promise((resolve) => {\n",
              "    inputElement.addEventListener('change', (e) => {\n",
              "      resolve(e.target.files);\n",
              "    });\n",
              "  });\n",
              "\n",
              "  const cancel = document.createElement('button');\n",
              "  inputElement.parentElement.appendChild(cancel);\n",
              "  cancel.textContent = 'Cancel upload';\n",
              "  const cancelPromise = new Promise((resolve) => {\n",
              "    cancel.onclick = () => {\n",
              "      resolve(null);\n",
              "    };\n",
              "  });\n",
              "\n",
              "  // Wait for the user to pick the files.\n",
              "  const files = yield {\n",
              "    promise: Promise.race([pickedPromise, cancelPromise]),\n",
              "    response: {\n",
              "      action: 'starting',\n",
              "    }\n",
              "  };\n",
              "\n",
              "  cancel.remove();\n",
              "\n",
              "  // Disable the input element since further picks are not allowed.\n",
              "  inputElement.disabled = true;\n",
              "\n",
              "  if (!files) {\n",
              "    return {\n",
              "      response: {\n",
              "        action: 'complete',\n",
              "      }\n",
              "    };\n",
              "  }\n",
              "\n",
              "  for (const file of files) {\n",
              "    const li = document.createElement('li');\n",
              "    li.append(span(file.name, {fontWeight: 'bold'}));\n",
              "    li.append(span(\n",
              "        `(${file.type || 'n/a'}) - ${file.size} bytes, ` +\n",
              "        `last modified: ${\n",
              "            file.lastModifiedDate ? file.lastModifiedDate.toLocaleDateString() :\n",
              "                                    'n/a'} - `));\n",
              "    const percent = span('0% done');\n",
              "    li.appendChild(percent);\n",
              "\n",
              "    outputElement.appendChild(li);\n",
              "\n",
              "    const fileDataPromise = new Promise((resolve) => {\n",
              "      const reader = new FileReader();\n",
              "      reader.onload = (e) => {\n",
              "        resolve(e.target.result);\n",
              "      };\n",
              "      reader.readAsArrayBuffer(file);\n",
              "    });\n",
              "    // Wait for the data to be ready.\n",
              "    let fileData = yield {\n",
              "      promise: fileDataPromise,\n",
              "      response: {\n",
              "        action: 'continue',\n",
              "      }\n",
              "    };\n",
              "\n",
              "    // Use a chunked sending to avoid message size limits. See b/62115660.\n",
              "    let position = 0;\n",
              "    do {\n",
              "      const length = Math.min(fileData.byteLength - position, MAX_PAYLOAD_SIZE);\n",
              "      const chunk = new Uint8Array(fileData, position, length);\n",
              "      position += length;\n",
              "\n",
              "      const base64 = btoa(String.fromCharCode.apply(null, chunk));\n",
              "      yield {\n",
              "        response: {\n",
              "          action: 'append',\n",
              "          file: file.name,\n",
              "          data: base64,\n",
              "        },\n",
              "      };\n",
              "\n",
              "      let percentDone = fileData.byteLength === 0 ?\n",
              "          100 :\n",
              "          Math.round((position / fileData.byteLength) * 100);\n",
              "      percent.textContent = `${percentDone}% done`;\n",
              "\n",
              "    } while (position < fileData.byteLength);\n",
              "  }\n",
              "\n",
              "  // All done.\n",
              "  yield {\n",
              "    response: {\n",
              "      action: 'complete',\n",
              "    }\n",
              "  };\n",
              "}\n",
              "\n",
              "scope.google = scope.google || {};\n",
              "scope.google.colab = scope.google.colab || {};\n",
              "scope.google.colab._files = {\n",
              "  _uploadFiles,\n",
              "  _uploadFilesContinue,\n",
              "};\n",
              "})(self);\n",
              "</script> "
            ]
          },
          "metadata": {}
        },
        {
          "output_type": "stream",
          "name": "stdout",
          "text": [
            "Saving main_transformed.csv to main_transformed.csv\n"
          ]
        }
      ]
    },
    {
      "cell_type": "code",
      "source": [
        "main = pd.read_csv('main.csv')"
      ],
      "metadata": {
        "id": "ASWctzxk6gzp"
      },
      "execution_count": null,
      "outputs": []
    },
    {
      "cell_type": "code",
      "source": [
        "# i forgot to set index = false when saving the main dataframe as a csv\n",
        "# this deletes that index column\n",
        "main = main.drop(['Unnamed: 0', 'AssistantPay'], axis = 1)"
      ],
      "metadata": {
        "id": "WYLSWPeq4wz1"
      },
      "execution_count": null,
      "outputs": []
    },
    {
      "cell_type": "code",
      "source": [
        "# total NAs\n",
        "main.isnull().sum().sum()"
      ],
      "metadata": {
        "id": "pL30PJ6Y4ccK"
      },
      "execution_count": null,
      "outputs": []
    },
    {
      "cell_type": "code",
      "source": [
        "for i in main.columns:\n",
        "  print(i, main[i].isnull().sum())\n",
        "'''\n",
        "School 0\n",
        "Conference 0\n",
        "Coach 0\n",
        "SchoolPay 4\n",
        "Bonus 22\n",
        "BonusPaid 41\n",
        "Buyout 22\n",
        "GSR 0\n",
        "FGR 0\n",
        "Capacity 0\n",
        "Enrollment 18\n",
        "Revenues 16\n",
        "W 1\n",
        "L 1\n",
        "Pct 1\n",
        "Conf_W 4\n",
        "Conf_L 4\n",
        "Conf_Pct 5\n",
        "AP High 85\n",
        "AP Rank 104\n",
        "'''"
      ],
      "metadata": {
        "id": "aVVMpIk-4mNZ"
      },
      "execution_count": null,
      "outputs": []
    },
    {
      "cell_type": "code",
      "source": [
        "for i in main.columns:\n",
        "  print(i,':',main[i].dtypes)"
      ],
      "metadata": {
        "id": "Gsbzqqa5MPAc"
      },
      "execution_count": null,
      "outputs": []
    },
    {
      "cell_type": "code",
      "source": [
        "# get rid of the characters we don't want (tulsa has [] in it for some reason in enrollment)\n",
        "main = main.replace(to_replace=r'[$,\\[\\]]', value='', regex=True)\n",
        "main"
      ],
      "metadata": {
        "id": "0YXaNpEWHpK1"
      },
      "execution_count": null,
      "outputs": []
    },
    {
      "cell_type": "code",
      "source": [
        "# convert the strings to float (will convert to int later, i think converting to int requires NAs to be changed to a value)\n",
        "main['SchoolPay'] = pd.to_numeric(main.SchoolPay, errors='coerce')\n",
        "main['Bonus'] = pd.to_numeric(main.Bonus, errors='coerce')\n",
        "main['BonusPaid'] = pd.to_numeric(main.BonusPaid, errors='coerce')\n",
        "main['Buyout'] = pd.to_numeric(main.Buyout, errors='coerce')\n",
        "main['Enrollment'] = pd.to_numeric(main.Enrollment, errors='coerce')\n",
        "for i in main.columns:\n",
        "  print(i,':',main[i].dtypes)\n",
        "main"
      ],
      "metadata": {
        "id": "4U_qUTorG4Tv"
      },
      "execution_count": null,
      "outputs": []
    },
    {
      "cell_type": "code",
      "source": [
        "# schoolpay NAs\n",
        "# it's NA because it's not publicly available\n",
        "# can use median by conference\n",
        "\n",
        "# there's so much data missing about Liberty that i'm just going to delete it\n",
        "\n",
        "# for bonus and bonus paid:\n",
        "# calculate the median percent of schoolpay that a bonus is, and the average percent of a bonus a coach earns\n",
        "# do that by conference\n",
        "\n",
        "# the NAs in the conference w,l, pct columns are for the independents, except for new mexico state which for some reason has actual values\n",
        "# i'll make the conf_w, conf_l, and conf_pct equal to w, l, pct for the missing ones\n",
        "\n",
        "# as far as revenues go i will just use median by conference\n",
        "# enrollment I will just use median by conference\n",
        "# if this was for work I would find a more complete dataset or look these up but this will be fine\n",
        "\n",
        "# for ap high and ap rank i will set all the NAs to 0\n",
        "# then treat them as ordinal variables, binning by not ranked, top 5, top 10, etc\n",
        "# can also make dummy variable for ranked/not ranked"
      ],
      "metadata": {
        "id": "lfB5GfS75SNN"
      },
      "execution_count": null,
      "outputs": []
    },
    {
      "cell_type": "code",
      "source": [
        "# drop liberty\n",
        "main = main.drop(50)"
      ],
      "metadata": {
        "id": "RxLTpJP1RX_J"
      },
      "execution_count": null,
      "outputs": []
    },
    {
      "cell_type": "code",
      "source": [
        "# this doesn't work and I don't know why\n",
        "# main[main.Conf_Pct.isnull() == True].iloc[:, 15:18] = main[main.Conf_Pct.isnull() == True].iloc[:, 15:17].fillna(0, inplace = True)\n",
        "main"
      ],
      "metadata": {
        "id": "KptG-q9sozjS"
      },
      "execution_count": null,
      "outputs": []
    },
    {
      "cell_type": "code",
      "source": [
        "# change independent NAs for conference stats to their season stats\n",
        "main['Conf_W'] = main['Conf_W'].fillna(main['W'])\n",
        "main['Conf_L'] = main['Conf_L'].fillna(main['L'])\n",
        "main['Conf_Pct'] = main['Conf_Pct'].fillna(main['Pct'])\n",
        "# notre dame (go irish!) has 0 instead of NA so adjusting that\n",
        "main['School'].where(main['School'] == 'Notre Dame')\n",
        "main.at[80, 'Conf_W'] = main.at[80, 'W']\n",
        "main.at[80, 'Conf_L'] = main.at[80, 'L']\n",
        "main[main.School == 'Notre Dame']"
      ],
      "metadata": {
        "id": "fbhA7yqVDzmo"
      },
      "execution_count": null,
      "outputs": []
    },
    {
      "cell_type": "code",
      "source": [
        "# changing all ap unranked to 0\n",
        "main['AP High'] = main['AP High'].fillna(0)\n",
        "main['AP Rank'] = main['AP Rank'].fillna(0)"
      ],
      "metadata": {
        "id": "8INXroKQK76c"
      },
      "execution_count": null,
      "outputs": []
    },
    {
      "cell_type": "code",
      "source": [
        "for i in main.columns:\n",
        "  print(i, main[i].isnull().sum())\n",
        "'''\n",
        "School 0\n",
        "Conference 0\n",
        "Coach 0\n",
        "SchoolPay 4\n",
        "Bonus 21\n",
        "BonusPaid 40\n",
        "Buyout 21\n",
        "GSR 0\n",
        "FGR 0\n",
        "Capacity 0\n",
        "Enrollment 18\n",
        "Revenues 15\n",
        "W 0\n",
        "L 0\n",
        "Pct 0\n",
        "Conf_W 0\n",
        "Conf_L 0\n",
        "Conf_Pct 0\n",
        "AP High 0\n",
        "AP Rank 0\n",
        "'''"
      ],
      "metadata": {
        "id": "kL2MkehMzgmg"
      },
      "execution_count": null,
      "outputs": []
    },
    {
      "cell_type": "code",
      "source": [
        "main['BonusPctSalary'] = main['Bonus'] / main['SchoolPay']\n",
        "main['BonusPctPaid'] = main['BonusPaid'] / main['Bonus']\n",
        "pd.options.display.max_rows = 150\n",
        "main\n"
      ],
      "metadata": {
        "id": "RaqAj3w4a3gS"
      },
      "execution_count": null,
      "outputs": []
    },
    {
      "cell_type": "code",
      "source": [
        "medians_by_conference = main.groupby('Conference').median()\n",
        "medians_by_conference"
      ],
      "metadata": {
        "id": "xVpf2eejl-ND"
      },
      "execution_count": null,
      "outputs": []
    },
    {
      "cell_type": "code",
      "source": [
        "pd.options.display.max_rows = 25\n",
        "\n",
        "# main.groupby('Conference').boxplot(column = 'BonusPctSalary')\n",
        "main.groupby('Conference').describe()\n",
        "\n",
        "medians_by_conference = main.groupby('Conference').median()\n",
        "medians_by_conference\n",
        "\n",
        "# convert the NAs in schoolpay to median of schoolpay by conference\n",
        "main['SchoolPay'] = main['SchoolPay'].fillna(main.groupby('Conference')['SchoolPay'].transform('median'))"
      ],
      "metadata": {
        "id": "sPGv0eo3EI9h"
      },
      "execution_count": null,
      "outputs": []
    },
    {
      "cell_type": "code",
      "source": [
        "# function for replacing na with median by conference\n",
        "def NAfill_median_group(df, cols, group, measure):\n",
        "  for i in cols:\n",
        "    df[i] = df[i].fillna(df.groupby(group)[i].transform(measure))\n",
        "  return(df)"
      ],
      "metadata": {
        "id": "Ozgcdgc2N9tv"
      },
      "execution_count": null,
      "outputs": []
    },
    {
      "cell_type": "code",
      "source": [
        "# replace NAs in these columns with the median for conference\n",
        "cols = ['SchoolPay', 'Buyout', 'Enrollment', 'Revenues']\n",
        "main = NAfill_median_group(main, cols, 'Conference', 'median')\n",
        "for i in main.columns:\n",
        "  print(i, main[i].isnull().sum())"
      ],
      "metadata": {
        "id": "RHp1q6NGPnMc"
      },
      "execution_count": null,
      "outputs": []
    },
    {
      "cell_type": "code",
      "source": [
        "# replace bonus NAs with the median pct of salary a bonus is for conference\n",
        "main['calcBonus'] = main['SchoolPay'] * main['BonusPctSalary']\n",
        "main['calcBonusPaid'] = main['Bonus'] * main['BonusPctPaid']\n",
        "\n",
        "# use the medians of this by conference to figure out the bonuses then delete later\n",
        "cols = ['calcBonus', 'calcBonusPaid']\n",
        "main = NAfill_median_group(main, cols, 'Conference', 'median')\n",
        "# use these columns to fill the NAs\n",
        "main['Bonus'] = main['Bonus'].fillna(main['calcBonus'])\n",
        "main['BonusPaid'] = main['BonusPaid'].fillna(main['calcBonusPaid'])\n",
        "medians_by_conference = main.groupby('Conference').median()\n",
        "medians_by_conference"
      ],
      "metadata": {
        "id": "AZjxGEq8Qekj"
      },
      "execution_count": null,
      "outputs": []
    },
    {
      "cell_type": "code",
      "source": [
        "main"
      ],
      "metadata": {
        "id": "M5_aHzw1prW4"
      },
      "execution_count": null,
      "outputs": []
    },
    {
      "cell_type": "code",
      "source": [
        "main = main.drop(['BonusPctSalary', 'BonusPctPaid', 'calcBonusPaid', 'calcBonus'], axis = 1)"
      ],
      "metadata": {
        "id": "HSa7Y_Mgehl1"
      },
      "execution_count": null,
      "outputs": []
    },
    {
      "cell_type": "code",
      "source": [
        "for i in main.columns:\n",
        "  print(i, main[i].isnull().sum())\n",
        "'''\n",
        "School 0\n",
        "Conference 0\n",
        "Coach 0\n",
        "SchoolPay 0\n",
        "Bonus 0\n",
        "BonusPaid 0\n",
        "Buyout 0\n",
        "GSR 0\n",
        "FGR 0\n",
        "Capacity 0\n",
        "Enrollment 0\n",
        "Revenues 0\n",
        "W 0\n",
        "L 0\n",
        "Pct 0\n",
        "Conf_W 0\n",
        "Conf_L 0\n",
        "Conf_Pct 0\n",
        "AP High 0\n",
        "AP Rank 0\n",
        "'''"
      ],
      "metadata": {
        "id": "SEo09Ik9tqke"
      },
      "execution_count": null,
      "outputs": []
    },
    {
      "cell_type": "code",
      "source": [
        "# recalculate the bonuspctpaid now that there are no NAs in bonus\n",
        "main['BonusPctPaid'] = main['BonusPaid'] / main['Bonus']\n"
      ],
      "metadata": {
        "id": "slzmVyNiVTFi"
      },
      "execution_count": null,
      "outputs": []
    },
    {
      "cell_type": "code",
      "source": [
        "# i also noticed that the service academies have a football grad rate of 0 where the overall grad rate is not 0\n",
        "# this is a mistake\n",
        "# so will repalce any 0s in fgr with value in gsr\n",
        "main[main.FGR == 0]\n",
        "# 0, 9, 69\n",
        "main['FGR'][0] = main['GSR'] [0]\n",
        "main['FGR'][9] = main['GSR'] [9]\n",
        "main['FGR'][69] = main['GSR'] [69]\n",
        "main[main.FGR == 0]\n",
        "main.iloc[0]\n",
        "main.iloc[9]\n",
        "main[main.School == 'Army']\n",
        "# cool it worked"
      ],
      "metadata": {
        "id": "PLEIdS4IX5ep"
      },
      "execution_count": null,
      "outputs": []
    },
    {
      "cell_type": "code",
      "source": [
        "# this is an alternative way to fill nas by median\n",
        "# you change the index to be the category that you want\n",
        "# then you reset it after\n",
        "'''\n",
        "medians_by_conference.iloc[ : , 0]\n",
        "means = df.groupby(['Cat'])['Vals'].mean()\n",
        "df = df.set_index(['Cat'])\n",
        "df['Vals'] = df['Vals'].fillna(means)\n",
        "df = df.reset_index()\n",
        "\n",
        "\n",
        "method for aggregation from previous project\n",
        "regions_top_25 = ranked_proportions_df.groupby(['region']).size().reset_index(name='counts')\n",
        "regions_top_25\n",
        "top_25_means = ranked_proportions_df[['proportion_minority', 'proportion_women']].mean()\n",
        "top_25_means\n",
        "'''"
      ],
      "metadata": {
        "id": "ZgWHupjkSvoH"
      },
      "execution_count": null,
      "outputs": []
    },
    {
      "cell_type": "markdown",
      "source": [
        "# finalize datatypes"
      ],
      "metadata": {
        "id": "Yv7KBv6FWFG1"
      }
    },
    {
      "cell_type": "code",
      "source": [
        "main.dtypes"
      ],
      "metadata": {
        "id": "lBWrIT-OWN2k"
      },
      "execution_count": null,
      "outputs": []
    },
    {
      "cell_type": "code",
      "source": [
        "# make a dictionary to pass into astype()\n",
        "dtype_changes = {'AP High': 'int',\n",
        " 'AP Rank': 'int',\n",
        " 'Bonus': 'int',\n",
        " 'BonusPaid': 'int',\n",
        " 'Buyout': 'int',\n",
        " 'Conf_L': 'int',\n",
        " 'Conf_W': 'int',\n",
        " 'Enrollment': 'int',\n",
        " 'L': 'int',\n",
        " 'Revenues': 'int',\n",
        " 'SchoolPay': 'int',\n",
        " 'W': 'int'}"
      ],
      "metadata": {
        "id": "0p7Ci85DUrXC"
      },
      "execution_count": null,
      "outputs": []
    },
    {
      "cell_type": "code",
      "source": [
        "main = main.astype(dtype_changes)"
      ],
      "metadata": {
        "id": "oeawPcSkQ52K"
      },
      "execution_count": null,
      "outputs": []
    },
    {
      "cell_type": "code",
      "source": [
        "# confirm changes made\n",
        "main.dtypes"
      ],
      "metadata": {
        "id": "FKWL_qDHQ562"
      },
      "execution_count": null,
      "outputs": []
    },
    {
      "cell_type": "code",
      "source": [
        "main.to_csv('main_clean.csv', index = False)"
      ],
      "metadata": {
        "id": "TrJKRddeXukw"
      },
      "execution_count": null,
      "outputs": []
    },
    {
      "cell_type": "code",
      "source": [
        "# method to get index iteratively\n",
        "#for ind, column in enumerate(main.columns):\n",
        " #   print(ind, column)"
      ],
      "metadata": {
        "id": "gLUKvCwNQ5xd"
      },
      "execution_count": null,
      "outputs": []
    },
    {
      "cell_type": "markdown",
      "source": [
        "# dummy variables transformations\n",
        "pd.get_dummies()\n"
      ],
      "metadata": {
        "id": "yyfSGdxxPzcV"
      }
    },
    {
      "cell_type": "code",
      "source": [
        "# can start by uploading clean df\n",
        "uploaded = files.upload()"
      ],
      "metadata": {
        "id": "Swg8LR6yQ6Ai"
      },
      "execution_count": null,
      "outputs": []
    },
    {
      "cell_type": "code",
      "source": [
        "main = pd.read_csv('main_clean.csv')\n",
        "main = main.rename(columns = {'AP High' : 'AP_High', 'AP Rank' : 'AP_Rank'})\n",
        "main"
      ],
      "metadata": {
        "id": "ZeuHTS3KbHLN"
      },
      "execution_count": null,
      "outputs": []
    },
    {
      "cell_type": "code",
      "source": [
        "# can look at conf pct or win pct but i don't think both\n",
        "# might jsut want to use win pct and conference\n",
        "# can also look at percent of bonus earned\n",
        "# just change rank to top 25\n",
        "# can use ap rank at end of season in one model and ap rank as well\n",
        "# can look at fgr / gsr\n",
        "# basically a benchmark, how well is the program doing compared ot the school in terms of graduation\n",
        "main"
      ],
      "metadata": {
        "id": "dLBLuwAvgioa"
      },
      "execution_count": null,
      "outputs": []
    },
    {
      "cell_type": "code",
      "source": [
        "# create columns that indicate if a school was ranked or not\n",
        "main['Ranked'] = np.where((main.AP_High >= 1), 1 ,main.AP_High)\n",
        "main['Ranking'] = np.where((main.AP_Rank >= 1), 1 ,main.AP_Rank)\n",
        "\n",
        "# create column that indicates whether or not school had winning season\n",
        "main['WinningSeason'] = main['Pct']\n",
        "main['WinningSeason'] = np.where((main.WinningSeason > 0.5), 1 ,main.WinningSeason)\n",
        "main['WinningSeason'] = np.where((main.WinningSeason <= 0.5), 0, main.WinningSeason)\n",
        "main = main.astype({'WinningSeason' : 'int'})\n",
        "\n",
        "# make column for 'substantial' bonus\n",
        "main['BonusPctPaid'].describe()\n",
        "# the third quartile is 0.236582 so i'll say anything greater than that is substantial\n",
        "main['SubstantialBonus'] = main['BonusPctPaid']\n",
        "main['SubstantialBonus'] = np.where((main.SubstantialBonus >= 0.236582), 1, main.SubstantialBonus)\n",
        "main['SubstantialBonus'] = np.where((main.SubstantialBonus < 0.236582), 0, main.SubstantialBonus)\n",
        "\n",
        "# the final dummy variable i will do is for power conferences\n",
        "# the Big Ten Conference, the Big 12 Conference, the Atlantic Coast Conference (ACC), the Pac-12 Conference, and the Southeastern Conference (SEC).\n",
        "main['Conference'].unique()\n",
        "p5 = ['SEC', 'Pac-12', 'ACC', 'Big Ten', 'Big 12']\n",
        "# throwing independent in with g5 since they are not considered power 5\n",
        "# i'll charge army, byu and notre dame since most schools consider ND and BYU power 5 for scheduling purposes and some schools consider army\n",
        "g5 = ['Mountain West', 'Mid-American', 'Conference USA', 'Sun Belt', 'American', 'Independent']\n",
        "main['PowerFive'] = main['Conference']\n",
        "main['PowerFive'] = main['PowerFive'].replace(p5, 1)\n",
        "main['PowerFive'] = main['PowerFive'].replace(g5, 0)\n",
        "main[main.Conference == 'FBS Independents']\n",
        "# 9, 16, 79\n",
        "main.at[9, 'PowerFive'] = 1\n",
        "main.at[16, 'PowerFive'] = 1\n",
        "main.at[79, 'PowerFive'] = 1\n",
        "# 57, 73 not set to 0 for some reason\n",
        "main.at[57, 'PowerFive'] = 0\n",
        "main.at[73, 'PowerFive'] = 0\n",
        "main.iloc[9]"
      ],
      "metadata": {
        "id": "lNr4-SQUpny8"
      },
      "execution_count": null,
      "outputs": []
    },
    {
      "cell_type": "code",
      "source": [
        "main[main.Conference == 'FBS Independents']"
      ],
      "metadata": {
        "id": "frOtDOEPYVng"
      },
      "execution_count": null,
      "outputs": []
    },
    {
      "cell_type": "code",
      "source": [
        "conference_dummies = pd.get_dummies(main['Conference'])\n",
        "conference_dummies['School'] = main['School']\n",
        "main = main.merge(conference_dummies, on = 'School', how = 'left')\n",
        "main"
      ],
      "metadata": {
        "id": "WQXXknT0bczR"
      },
      "execution_count": null,
      "outputs": []
    },
    {
      "cell_type": "code",
      "source": [
        "# write to csv\n",
        "main.to_csv('main_transformed.csv', index = False)"
      ],
      "metadata": {
        "id": "SyuBdiNv9bbt"
      },
      "execution_count": null,
      "outputs": []
    },
    {
      "cell_type": "markdown",
      "source": [
        "# exploratory analysis"
      ],
      "metadata": {
        "id": "SDV7IKkLHTvl"
      }
    },
    {
      "cell_type": "code",
      "source": [
        "# can start by uploading the main_transformed csv\n",
        "uploaded = files.upload()"
      ],
      "metadata": {
        "id": "K73BFzFeHR5d",
        "colab": {
          "base_uri": "https://localhost:8080/",
          "height": 73
        },
        "outputId": "eb7eb792-87ff-493f-91d5-70ab0daa8a7c"
      },
      "execution_count": null,
      "outputs": [
        {
          "output_type": "display_data",
          "data": {
            "text/plain": [
              "<IPython.core.display.HTML object>"
            ],
            "text/html": [
              "\n",
              "     <input type=\"file\" id=\"files-c28ccd8b-875b-46c7-9736-29bcf418ab47\" name=\"files[]\" multiple disabled\n",
              "        style=\"border:none\" />\n",
              "     <output id=\"result-c28ccd8b-875b-46c7-9736-29bcf418ab47\">\n",
              "      Upload widget is only available when the cell has been executed in the\n",
              "      current browser session. Please rerun this cell to enable.\n",
              "      </output>\n",
              "      <script>// Copyright 2017 Google LLC\n",
              "//\n",
              "// Licensed under the Apache License, Version 2.0 (the \"License\");\n",
              "// you may not use this file except in compliance with the License.\n",
              "// You may obtain a copy of the License at\n",
              "//\n",
              "//      http://www.apache.org/licenses/LICENSE-2.0\n",
              "//\n",
              "// Unless required by applicable law or agreed to in writing, software\n",
              "// distributed under the License is distributed on an \"AS IS\" BASIS,\n",
              "// WITHOUT WARRANTIES OR CONDITIONS OF ANY KIND, either express or implied.\n",
              "// See the License for the specific language governing permissions and\n",
              "// limitations under the License.\n",
              "\n",
              "/**\n",
              " * @fileoverview Helpers for google.colab Python module.\n",
              " */\n",
              "(function(scope) {\n",
              "function span(text, styleAttributes = {}) {\n",
              "  const element = document.createElement('span');\n",
              "  element.textContent = text;\n",
              "  for (const key of Object.keys(styleAttributes)) {\n",
              "    element.style[key] = styleAttributes[key];\n",
              "  }\n",
              "  return element;\n",
              "}\n",
              "\n",
              "// Max number of bytes which will be uploaded at a time.\n",
              "const MAX_PAYLOAD_SIZE = 100 * 1024;\n",
              "\n",
              "function _uploadFiles(inputId, outputId) {\n",
              "  const steps = uploadFilesStep(inputId, outputId);\n",
              "  const outputElement = document.getElementById(outputId);\n",
              "  // Cache steps on the outputElement to make it available for the next call\n",
              "  // to uploadFilesContinue from Python.\n",
              "  outputElement.steps = steps;\n",
              "\n",
              "  return _uploadFilesContinue(outputId);\n",
              "}\n",
              "\n",
              "// This is roughly an async generator (not supported in the browser yet),\n",
              "// where there are multiple asynchronous steps and the Python side is going\n",
              "// to poll for completion of each step.\n",
              "// This uses a Promise to block the python side on completion of each step,\n",
              "// then passes the result of the previous step as the input to the next step.\n",
              "function _uploadFilesContinue(outputId) {\n",
              "  const outputElement = document.getElementById(outputId);\n",
              "  const steps = outputElement.steps;\n",
              "\n",
              "  const next = steps.next(outputElement.lastPromiseValue);\n",
              "  return Promise.resolve(next.value.promise).then((value) => {\n",
              "    // Cache the last promise value to make it available to the next\n",
              "    // step of the generator.\n",
              "    outputElement.lastPromiseValue = value;\n",
              "    return next.value.response;\n",
              "  });\n",
              "}\n",
              "\n",
              "/**\n",
              " * Generator function which is called between each async step of the upload\n",
              " * process.\n",
              " * @param {string} inputId Element ID of the input file picker element.\n",
              " * @param {string} outputId Element ID of the output display.\n",
              " * @return {!Iterable<!Object>} Iterable of next steps.\n",
              " */\n",
              "function* uploadFilesStep(inputId, outputId) {\n",
              "  const inputElement = document.getElementById(inputId);\n",
              "  inputElement.disabled = false;\n",
              "\n",
              "  const outputElement = document.getElementById(outputId);\n",
              "  outputElement.innerHTML = '';\n",
              "\n",
              "  const pickedPromise = new Promise((resolve) => {\n",
              "    inputElement.addEventListener('change', (e) => {\n",
              "      resolve(e.target.files);\n",
              "    });\n",
              "  });\n",
              "\n",
              "  const cancel = document.createElement('button');\n",
              "  inputElement.parentElement.appendChild(cancel);\n",
              "  cancel.textContent = 'Cancel upload';\n",
              "  const cancelPromise = new Promise((resolve) => {\n",
              "    cancel.onclick = () => {\n",
              "      resolve(null);\n",
              "    };\n",
              "  });\n",
              "\n",
              "  // Wait for the user to pick the files.\n",
              "  const files = yield {\n",
              "    promise: Promise.race([pickedPromise, cancelPromise]),\n",
              "    response: {\n",
              "      action: 'starting',\n",
              "    }\n",
              "  };\n",
              "\n",
              "  cancel.remove();\n",
              "\n",
              "  // Disable the input element since further picks are not allowed.\n",
              "  inputElement.disabled = true;\n",
              "\n",
              "  if (!files) {\n",
              "    return {\n",
              "      response: {\n",
              "        action: 'complete',\n",
              "      }\n",
              "    };\n",
              "  }\n",
              "\n",
              "  for (const file of files) {\n",
              "    const li = document.createElement('li');\n",
              "    li.append(span(file.name, {fontWeight: 'bold'}));\n",
              "    li.append(span(\n",
              "        `(${file.type || 'n/a'}) - ${file.size} bytes, ` +\n",
              "        `last modified: ${\n",
              "            file.lastModifiedDate ? file.lastModifiedDate.toLocaleDateString() :\n",
              "                                    'n/a'} - `));\n",
              "    const percent = span('0% done');\n",
              "    li.appendChild(percent);\n",
              "\n",
              "    outputElement.appendChild(li);\n",
              "\n",
              "    const fileDataPromise = new Promise((resolve) => {\n",
              "      const reader = new FileReader();\n",
              "      reader.onload = (e) => {\n",
              "        resolve(e.target.result);\n",
              "      };\n",
              "      reader.readAsArrayBuffer(file);\n",
              "    });\n",
              "    // Wait for the data to be ready.\n",
              "    let fileData = yield {\n",
              "      promise: fileDataPromise,\n",
              "      response: {\n",
              "        action: 'continue',\n",
              "      }\n",
              "    };\n",
              "\n",
              "    // Use a chunked sending to avoid message size limits. See b/62115660.\n",
              "    let position = 0;\n",
              "    do {\n",
              "      const length = Math.min(fileData.byteLength - position, MAX_PAYLOAD_SIZE);\n",
              "      const chunk = new Uint8Array(fileData, position, length);\n",
              "      position += length;\n",
              "\n",
              "      const base64 = btoa(String.fromCharCode.apply(null, chunk));\n",
              "      yield {\n",
              "        response: {\n",
              "          action: 'append',\n",
              "          file: file.name,\n",
              "          data: base64,\n",
              "        },\n",
              "      };\n",
              "\n",
              "      let percentDone = fileData.byteLength === 0 ?\n",
              "          100 :\n",
              "          Math.round((position / fileData.byteLength) * 100);\n",
              "      percent.textContent = `${percentDone}% done`;\n",
              "\n",
              "    } while (position < fileData.byteLength);\n",
              "  }\n",
              "\n",
              "  // All done.\n",
              "  yield {\n",
              "    response: {\n",
              "      action: 'complete',\n",
              "    }\n",
              "  };\n",
              "}\n",
              "\n",
              "scope.google = scope.google || {};\n",
              "scope.google.colab = scope.google.colab || {};\n",
              "scope.google.colab._files = {\n",
              "  _uploadFiles,\n",
              "  _uploadFilesContinue,\n",
              "};\n",
              "})(self);\n",
              "</script> "
            ]
          },
          "metadata": {}
        },
        {
          "output_type": "stream",
          "name": "stdout",
          "text": [
            "Saving main_transformed.csv to main_transformed.csv\n"
          ]
        }
      ]
    },
    {
      "cell_type": "code",
      "source": [
        "main = pd.read_csv('main_transformed.csv')"
      ],
      "metadata": {
        "id": "KzULaoY3HOxz"
      },
      "execution_count": null,
      "outputs": []
    },
    {
      "cell_type": "code",
      "source": [
        "medians_by_conference = main.groupby('Conference').median()\n",
        "pd.options.display.max_columns = 50\n",
        "medians_by_conference.sort_values('SchoolPay', ascending = False)\n",
        "# power 5 have the highest salaries by a large margin\n",
        "# also have the largest revenues, and hgiher end of winnings\n",
        "# enrollment and stadium capacity tend to be higher too\n",
        "main.describe()"
      ],
      "metadata": {
        "colab": {
          "base_uri": "https://localhost:8080/",
          "height": 372
        },
        "id": "9HX1NnuWH3Iq",
        "outputId": "b867c6f9-4a14-424a-aa40-c11d498e9c73"
      },
      "execution_count": null,
      "outputs": [
        {
          "output_type": "stream",
          "name": "stderr",
          "text": [
            "<ipython-input-23-9fbed5f9fef0>:1: FutureWarning: The default value of numeric_only in DataFrameGroupBy.median is deprecated. In a future version, numeric_only will default to False. Either specify numeric_only or select only columns which should be valid for the function.\n",
            "  medians_by_conference = main.groupby('Conference').median()\n"
          ]
        },
        {
          "output_type": "execute_result",
          "data": {
            "text/plain": [
              "          SchoolPay         Bonus     BonusPaid        Buyout         GSR  \\\n",
              "count  1.280000e+02  1.280000e+02  1.280000e+02  1.280000e+02  128.000000   \n",
              "mean   2.400196e+06  8.850739e+05  1.578501e+05  8.096162e+06    0.808437   \n",
              "std    1.870717e+06  6.000441e+05  2.115089e+05  9.832821e+06    0.087344   \n",
              "min    3.900000e+05  5.000000e+04  0.000000e+00  0.000000e+00    0.580000   \n",
              "25%    8.000000e+05  4.045000e+05  2.500000e+04  1.285804e+06    0.740000   \n",
              "50%    1.830790e+06  7.912500e+05  7.250000e+04  4.134384e+06    0.820000   \n",
              "75%    3.608694e+06  1.215000e+06  2.277500e+05  1.228672e+07    0.872500   \n",
              "max    8.307000e+06  3.100000e+06  1.350000e+06  6.812500e+07    0.970000   \n",
              "\n",
              "              FGR       Capacity    Enrollment      Revenues           W  \\\n",
              "count  128.000000     128.000000    128.000000  1.280000e+02  128.000000   \n",
              "mean     0.633906   51846.554688  29293.203125  4.596647e+07    6.671875   \n",
              "std      0.114357   23111.945031  12705.495709  3.743200e+07    3.063911   \n",
              "min      0.280000   15000.000000   4237.000000  6.682465e+06    0.000000   \n",
              "25%      0.560000   30935.500000  21700.000000  1.371661e+07    4.000000   \n",
              "50%      0.630000   50000.000000  28150.000000  3.270470e+07    7.000000   \n",
              "75%      0.692500   65059.000000  35725.000000  6.590943e+07    9.000000   \n",
              "max      0.940000  107601.000000  69400.000000  1.639283e+08   13.000000   \n",
              "\n",
              "                L         Pct      Conf_W      Conf_L    Conf_Pct     AP_High  \\\n",
              "count  128.000000  128.000000  128.000000  128.000000  128.000000  128.000000   \n",
              "mean     6.023438    0.517422    4.109375    4.054688    0.490313    4.359375   \n",
              "std      2.530024    0.218881    2.375181    2.273810    0.269902    7.813510   \n",
              "min      0.000000    0.000000    0.000000    0.000000    0.000000    0.000000   \n",
              "25%      4.000000    0.352500    2.000000    2.000000    0.295000    0.000000   \n",
              "50%      6.000000    0.540000    4.000000    4.000000    0.500000    0.000000   \n",
              "75%      7.250000    0.690000    6.000000    6.000000    0.750000    4.000000   \n",
              "max     12.000000    1.000000   10.000000    9.000000    1.000000   25.000000   \n",
              "\n",
              "          AP_Rank  BonusPctPaid      Ranked     Ranking  WinningSeason  \\\n",
              "count  128.000000    128.000000  128.000000  128.000000     128.000000   \n",
              "mean     2.539062      0.166095    0.343750    0.195312       0.562500   \n",
              "std      6.083283      0.173499    0.476825    0.397999       0.498028   \n",
              "min      0.000000      0.000000    0.000000    0.000000       0.000000   \n",
              "25%      0.000000      0.056992    0.000000    0.000000       0.000000   \n",
              "50%      0.000000      0.113242    0.000000    0.000000       1.000000   \n",
              "75%      0.000000      0.236582    1.000000    0.000000       1.000000   \n",
              "max     25.000000      1.173913    1.000000    1.000000       1.000000   \n",
              "\n",
              "       SubstantialBonus   PowerFive         ACC    American      Big 12  \\\n",
              "count        128.000000  128.000000  128.000000  128.000000  128.000000   \n",
              "mean           0.257812    0.523438    0.109375    0.085938    0.078125   \n",
              "std            0.439149    0.501413    0.313335    0.281373    0.269423   \n",
              "min            0.000000    0.000000    0.000000    0.000000    0.000000   \n",
              "25%            0.000000    0.000000    0.000000    0.000000    0.000000   \n",
              "50%            0.000000    1.000000    0.000000    0.000000    0.000000   \n",
              "75%            1.000000    1.000000    0.000000    0.000000    0.000000   \n",
              "max            1.000000    1.000000    1.000000    1.000000    1.000000   \n",
              "\n",
              "          Big Ten  Conference USA  FBS Independents  Mid-American  \\\n",
              "count  128.000000      128.000000        128.000000    128.000000   \n",
              "mean     0.109375        0.109375          0.039062      0.093750   \n",
              "std      0.313335        0.313335          0.194505      0.292626   \n",
              "min      0.000000        0.000000          0.000000      0.000000   \n",
              "25%      0.000000        0.000000          0.000000      0.000000   \n",
              "50%      0.000000        0.000000          0.000000      0.000000   \n",
              "75%      0.000000        0.000000          0.000000      0.000000   \n",
              "max      1.000000        1.000000          1.000000      1.000000   \n",
              "\n",
              "       Mountain West      Pac-12         SEC    Sun Belt  \n",
              "count     128.000000  128.000000  128.000000  128.000000  \n",
              "mean        0.093750    0.093750    0.109375    0.078125  \n",
              "std         0.292626    0.292626    0.313335    0.269423  \n",
              "min         0.000000    0.000000    0.000000    0.000000  \n",
              "25%         0.000000    0.000000    0.000000    0.000000  \n",
              "50%         0.000000    0.000000    0.000000    0.000000  \n",
              "75%         0.000000    0.000000    0.000000    0.000000  \n",
              "max         1.000000    1.000000    1.000000    1.000000  "
            ],
            "text/html": [
              "\n",
              "  <div id=\"df-bfa8f2dc-bd4e-47eb-9eab-903d28a7652e\" class=\"colab-df-container\">\n",
              "    <div>\n",
              "<style scoped>\n",
              "    .dataframe tbody tr th:only-of-type {\n",
              "        vertical-align: middle;\n",
              "    }\n",
              "\n",
              "    .dataframe tbody tr th {\n",
              "        vertical-align: top;\n",
              "    }\n",
              "\n",
              "    .dataframe thead th {\n",
              "        text-align: right;\n",
              "    }\n",
              "</style>\n",
              "<table border=\"1\" class=\"dataframe\">\n",
              "  <thead>\n",
              "    <tr style=\"text-align: right;\">\n",
              "      <th></th>\n",
              "      <th>SchoolPay</th>\n",
              "      <th>Bonus</th>\n",
              "      <th>BonusPaid</th>\n",
              "      <th>Buyout</th>\n",
              "      <th>GSR</th>\n",
              "      <th>FGR</th>\n",
              "      <th>Capacity</th>\n",
              "      <th>Enrollment</th>\n",
              "      <th>Revenues</th>\n",
              "      <th>W</th>\n",
              "      <th>L</th>\n",
              "      <th>Pct</th>\n",
              "      <th>Conf_W</th>\n",
              "      <th>Conf_L</th>\n",
              "      <th>Conf_Pct</th>\n",
              "      <th>AP_High</th>\n",
              "      <th>AP_Rank</th>\n",
              "      <th>BonusPctPaid</th>\n",
              "      <th>Ranked</th>\n",
              "      <th>Ranking</th>\n",
              "      <th>WinningSeason</th>\n",
              "      <th>SubstantialBonus</th>\n",
              "      <th>PowerFive</th>\n",
              "      <th>ACC</th>\n",
              "      <th>American</th>\n",
              "      <th>Big 12</th>\n",
              "      <th>Big Ten</th>\n",
              "      <th>Conference USA</th>\n",
              "      <th>FBS Independents</th>\n",
              "      <th>Mid-American</th>\n",
              "      <th>Mountain West</th>\n",
              "      <th>Pac-12</th>\n",
              "      <th>SEC</th>\n",
              "      <th>Sun Belt</th>\n",
              "    </tr>\n",
              "  </thead>\n",
              "  <tbody>\n",
              "    <tr>\n",
              "      <th>count</th>\n",
              "      <td>1.280000e+02</td>\n",
              "      <td>1.280000e+02</td>\n",
              "      <td>1.280000e+02</td>\n",
              "      <td>1.280000e+02</td>\n",
              "      <td>128.000000</td>\n",
              "      <td>128.000000</td>\n",
              "      <td>128.000000</td>\n",
              "      <td>128.000000</td>\n",
              "      <td>1.280000e+02</td>\n",
              "      <td>128.000000</td>\n",
              "      <td>128.000000</td>\n",
              "      <td>128.000000</td>\n",
              "      <td>128.000000</td>\n",
              "      <td>128.000000</td>\n",
              "      <td>128.000000</td>\n",
              "      <td>128.000000</td>\n",
              "      <td>128.000000</td>\n",
              "      <td>128.000000</td>\n",
              "      <td>128.000000</td>\n",
              "      <td>128.000000</td>\n",
              "      <td>128.000000</td>\n",
              "      <td>128.000000</td>\n",
              "      <td>128.000000</td>\n",
              "      <td>128.000000</td>\n",
              "      <td>128.000000</td>\n",
              "      <td>128.000000</td>\n",
              "      <td>128.000000</td>\n",
              "      <td>128.000000</td>\n",
              "      <td>128.000000</td>\n",
              "      <td>128.000000</td>\n",
              "      <td>128.000000</td>\n",
              "      <td>128.000000</td>\n",
              "      <td>128.000000</td>\n",
              "      <td>128.000000</td>\n",
              "    </tr>\n",
              "    <tr>\n",
              "      <th>mean</th>\n",
              "      <td>2.400196e+06</td>\n",
              "      <td>8.850739e+05</td>\n",
              "      <td>1.578501e+05</td>\n",
              "      <td>8.096162e+06</td>\n",
              "      <td>0.808437</td>\n",
              "      <td>0.633906</td>\n",
              "      <td>51846.554688</td>\n",
              "      <td>29293.203125</td>\n",
              "      <td>4.596647e+07</td>\n",
              "      <td>6.671875</td>\n",
              "      <td>6.023438</td>\n",
              "      <td>0.517422</td>\n",
              "      <td>4.109375</td>\n",
              "      <td>4.054688</td>\n",
              "      <td>0.490313</td>\n",
              "      <td>4.359375</td>\n",
              "      <td>2.539062</td>\n",
              "      <td>0.166095</td>\n",
              "      <td>0.343750</td>\n",
              "      <td>0.195312</td>\n",
              "      <td>0.562500</td>\n",
              "      <td>0.257812</td>\n",
              "      <td>0.523438</td>\n",
              "      <td>0.109375</td>\n",
              "      <td>0.085938</td>\n",
              "      <td>0.078125</td>\n",
              "      <td>0.109375</td>\n",
              "      <td>0.109375</td>\n",
              "      <td>0.039062</td>\n",
              "      <td>0.093750</td>\n",
              "      <td>0.093750</td>\n",
              "      <td>0.093750</td>\n",
              "      <td>0.109375</td>\n",
              "      <td>0.078125</td>\n",
              "    </tr>\n",
              "    <tr>\n",
              "      <th>std</th>\n",
              "      <td>1.870717e+06</td>\n",
              "      <td>6.000441e+05</td>\n",
              "      <td>2.115089e+05</td>\n",
              "      <td>9.832821e+06</td>\n",
              "      <td>0.087344</td>\n",
              "      <td>0.114357</td>\n",
              "      <td>23111.945031</td>\n",
              "      <td>12705.495709</td>\n",
              "      <td>3.743200e+07</td>\n",
              "      <td>3.063911</td>\n",
              "      <td>2.530024</td>\n",
              "      <td>0.218881</td>\n",
              "      <td>2.375181</td>\n",
              "      <td>2.273810</td>\n",
              "      <td>0.269902</td>\n",
              "      <td>7.813510</td>\n",
              "      <td>6.083283</td>\n",
              "      <td>0.173499</td>\n",
              "      <td>0.476825</td>\n",
              "      <td>0.397999</td>\n",
              "      <td>0.498028</td>\n",
              "      <td>0.439149</td>\n",
              "      <td>0.501413</td>\n",
              "      <td>0.313335</td>\n",
              "      <td>0.281373</td>\n",
              "      <td>0.269423</td>\n",
              "      <td>0.313335</td>\n",
              "      <td>0.313335</td>\n",
              "      <td>0.194505</td>\n",
              "      <td>0.292626</td>\n",
              "      <td>0.292626</td>\n",
              "      <td>0.292626</td>\n",
              "      <td>0.313335</td>\n",
              "      <td>0.269423</td>\n",
              "    </tr>\n",
              "    <tr>\n",
              "      <th>min</th>\n",
              "      <td>3.900000e+05</td>\n",
              "      <td>5.000000e+04</td>\n",
              "      <td>0.000000e+00</td>\n",
              "      <td>0.000000e+00</td>\n",
              "      <td>0.580000</td>\n",
              "      <td>0.280000</td>\n",
              "      <td>15000.000000</td>\n",
              "      <td>4237.000000</td>\n",
              "      <td>6.682465e+06</td>\n",
              "      <td>0.000000</td>\n",
              "      <td>0.000000</td>\n",
              "      <td>0.000000</td>\n",
              "      <td>0.000000</td>\n",
              "      <td>0.000000</td>\n",
              "      <td>0.000000</td>\n",
              "      <td>0.000000</td>\n",
              "      <td>0.000000</td>\n",
              "      <td>0.000000</td>\n",
              "      <td>0.000000</td>\n",
              "      <td>0.000000</td>\n",
              "      <td>0.000000</td>\n",
              "      <td>0.000000</td>\n",
              "      <td>0.000000</td>\n",
              "      <td>0.000000</td>\n",
              "      <td>0.000000</td>\n",
              "      <td>0.000000</td>\n",
              "      <td>0.000000</td>\n",
              "      <td>0.000000</td>\n",
              "      <td>0.000000</td>\n",
              "      <td>0.000000</td>\n",
              "      <td>0.000000</td>\n",
              "      <td>0.000000</td>\n",
              "      <td>0.000000</td>\n",
              "      <td>0.000000</td>\n",
              "    </tr>\n",
              "    <tr>\n",
              "      <th>25%</th>\n",
              "      <td>8.000000e+05</td>\n",
              "      <td>4.045000e+05</td>\n",
              "      <td>2.500000e+04</td>\n",
              "      <td>1.285804e+06</td>\n",
              "      <td>0.740000</td>\n",
              "      <td>0.560000</td>\n",
              "      <td>30935.500000</td>\n",
              "      <td>21700.000000</td>\n",
              "      <td>1.371661e+07</td>\n",
              "      <td>4.000000</td>\n",
              "      <td>4.000000</td>\n",
              "      <td>0.352500</td>\n",
              "      <td>2.000000</td>\n",
              "      <td>2.000000</td>\n",
              "      <td>0.295000</td>\n",
              "      <td>0.000000</td>\n",
              "      <td>0.000000</td>\n",
              "      <td>0.056992</td>\n",
              "      <td>0.000000</td>\n",
              "      <td>0.000000</td>\n",
              "      <td>0.000000</td>\n",
              "      <td>0.000000</td>\n",
              "      <td>0.000000</td>\n",
              "      <td>0.000000</td>\n",
              "      <td>0.000000</td>\n",
              "      <td>0.000000</td>\n",
              "      <td>0.000000</td>\n",
              "      <td>0.000000</td>\n",
              "      <td>0.000000</td>\n",
              "      <td>0.000000</td>\n",
              "      <td>0.000000</td>\n",
              "      <td>0.000000</td>\n",
              "      <td>0.000000</td>\n",
              "      <td>0.000000</td>\n",
              "    </tr>\n",
              "    <tr>\n",
              "      <th>50%</th>\n",
              "      <td>1.830790e+06</td>\n",
              "      <td>7.912500e+05</td>\n",
              "      <td>7.250000e+04</td>\n",
              "      <td>4.134384e+06</td>\n",
              "      <td>0.820000</td>\n",
              "      <td>0.630000</td>\n",
              "      <td>50000.000000</td>\n",
              "      <td>28150.000000</td>\n",
              "      <td>3.270470e+07</td>\n",
              "      <td>7.000000</td>\n",
              "      <td>6.000000</td>\n",
              "      <td>0.540000</td>\n",
              "      <td>4.000000</td>\n",
              "      <td>4.000000</td>\n",
              "      <td>0.500000</td>\n",
              "      <td>0.000000</td>\n",
              "      <td>0.000000</td>\n",
              "      <td>0.113242</td>\n",
              "      <td>0.000000</td>\n",
              "      <td>0.000000</td>\n",
              "      <td>1.000000</td>\n",
              "      <td>0.000000</td>\n",
              "      <td>1.000000</td>\n",
              "      <td>0.000000</td>\n",
              "      <td>0.000000</td>\n",
              "      <td>0.000000</td>\n",
              "      <td>0.000000</td>\n",
              "      <td>0.000000</td>\n",
              "      <td>0.000000</td>\n",
              "      <td>0.000000</td>\n",
              "      <td>0.000000</td>\n",
              "      <td>0.000000</td>\n",
              "      <td>0.000000</td>\n",
              "      <td>0.000000</td>\n",
              "    </tr>\n",
              "    <tr>\n",
              "      <th>75%</th>\n",
              "      <td>3.608694e+06</td>\n",
              "      <td>1.215000e+06</td>\n",
              "      <td>2.277500e+05</td>\n",
              "      <td>1.228672e+07</td>\n",
              "      <td>0.872500</td>\n",
              "      <td>0.692500</td>\n",
              "      <td>65059.000000</td>\n",
              "      <td>35725.000000</td>\n",
              "      <td>6.590943e+07</td>\n",
              "      <td>9.000000</td>\n",
              "      <td>7.250000</td>\n",
              "      <td>0.690000</td>\n",
              "      <td>6.000000</td>\n",
              "      <td>6.000000</td>\n",
              "      <td>0.750000</td>\n",
              "      <td>4.000000</td>\n",
              "      <td>0.000000</td>\n",
              "      <td>0.236582</td>\n",
              "      <td>1.000000</td>\n",
              "      <td>0.000000</td>\n",
              "      <td>1.000000</td>\n",
              "      <td>1.000000</td>\n",
              "      <td>1.000000</td>\n",
              "      <td>0.000000</td>\n",
              "      <td>0.000000</td>\n",
              "      <td>0.000000</td>\n",
              "      <td>0.000000</td>\n",
              "      <td>0.000000</td>\n",
              "      <td>0.000000</td>\n",
              "      <td>0.000000</td>\n",
              "      <td>0.000000</td>\n",
              "      <td>0.000000</td>\n",
              "      <td>0.000000</td>\n",
              "      <td>0.000000</td>\n",
              "    </tr>\n",
              "    <tr>\n",
              "      <th>max</th>\n",
              "      <td>8.307000e+06</td>\n",
              "      <td>3.100000e+06</td>\n",
              "      <td>1.350000e+06</td>\n",
              "      <td>6.812500e+07</td>\n",
              "      <td>0.970000</td>\n",
              "      <td>0.940000</td>\n",
              "      <td>107601.000000</td>\n",
              "      <td>69400.000000</td>\n",
              "      <td>1.639283e+08</td>\n",
              "      <td>13.000000</td>\n",
              "      <td>12.000000</td>\n",
              "      <td>1.000000</td>\n",
              "      <td>10.000000</td>\n",
              "      <td>9.000000</td>\n",
              "      <td>1.000000</td>\n",
              "      <td>25.000000</td>\n",
              "      <td>25.000000</td>\n",
              "      <td>1.173913</td>\n",
              "      <td>1.000000</td>\n",
              "      <td>1.000000</td>\n",
              "      <td>1.000000</td>\n",
              "      <td>1.000000</td>\n",
              "      <td>1.000000</td>\n",
              "      <td>1.000000</td>\n",
              "      <td>1.000000</td>\n",
              "      <td>1.000000</td>\n",
              "      <td>1.000000</td>\n",
              "      <td>1.000000</td>\n",
              "      <td>1.000000</td>\n",
              "      <td>1.000000</td>\n",
              "      <td>1.000000</td>\n",
              "      <td>1.000000</td>\n",
              "      <td>1.000000</td>\n",
              "      <td>1.000000</td>\n",
              "    </tr>\n",
              "  </tbody>\n",
              "</table>\n",
              "</div>\n",
              "    <div class=\"colab-df-buttons\">\n",
              "\n",
              "  <div class=\"colab-df-container\">\n",
              "    <button class=\"colab-df-convert\" onclick=\"convertToInteractive('df-bfa8f2dc-bd4e-47eb-9eab-903d28a7652e')\"\n",
              "            title=\"Convert this dataframe to an interactive table.\"\n",
              "            style=\"display:none;\">\n",
              "\n",
              "  <svg xmlns=\"http://www.w3.org/2000/svg\" height=\"24px\" viewBox=\"0 -960 960 960\">\n",
              "    <path d=\"M120-120v-720h720v720H120Zm60-500h600v-160H180v160Zm220 220h160v-160H400v160Zm0 220h160v-160H400v160ZM180-400h160v-160H180v160Zm440 0h160v-160H620v160ZM180-180h160v-160H180v160Zm440 0h160v-160H620v160Z\"/>\n",
              "  </svg>\n",
              "    </button>\n",
              "\n",
              "  <style>\n",
              "    .colab-df-container {\n",
              "      display:flex;\n",
              "      gap: 12px;\n",
              "    }\n",
              "\n",
              "    .colab-df-convert {\n",
              "      background-color: #E8F0FE;\n",
              "      border: none;\n",
              "      border-radius: 50%;\n",
              "      cursor: pointer;\n",
              "      display: none;\n",
              "      fill: #1967D2;\n",
              "      height: 32px;\n",
              "      padding: 0 0 0 0;\n",
              "      width: 32px;\n",
              "    }\n",
              "\n",
              "    .colab-df-convert:hover {\n",
              "      background-color: #E2EBFA;\n",
              "      box-shadow: 0px 1px 2px rgba(60, 64, 67, 0.3), 0px 1px 3px 1px rgba(60, 64, 67, 0.15);\n",
              "      fill: #174EA6;\n",
              "    }\n",
              "\n",
              "    .colab-df-buttons div {\n",
              "      margin-bottom: 4px;\n",
              "    }\n",
              "\n",
              "    [theme=dark] .colab-df-convert {\n",
              "      background-color: #3B4455;\n",
              "      fill: #D2E3FC;\n",
              "    }\n",
              "\n",
              "    [theme=dark] .colab-df-convert:hover {\n",
              "      background-color: #434B5C;\n",
              "      box-shadow: 0px 1px 3px 1px rgba(0, 0, 0, 0.15);\n",
              "      filter: drop-shadow(0px 1px 2px rgba(0, 0, 0, 0.3));\n",
              "      fill: #FFFFFF;\n",
              "    }\n",
              "  </style>\n",
              "\n",
              "    <script>\n",
              "      const buttonEl =\n",
              "        document.querySelector('#df-bfa8f2dc-bd4e-47eb-9eab-903d28a7652e button.colab-df-convert');\n",
              "      buttonEl.style.display =\n",
              "        google.colab.kernel.accessAllowed ? 'block' : 'none';\n",
              "\n",
              "      async function convertToInteractive(key) {\n",
              "        const element = document.querySelector('#df-bfa8f2dc-bd4e-47eb-9eab-903d28a7652e');\n",
              "        const dataTable =\n",
              "          await google.colab.kernel.invokeFunction('convertToInteractive',\n",
              "                                                    [key], {});\n",
              "        if (!dataTable) return;\n",
              "\n",
              "        const docLinkHtml = 'Like what you see? Visit the ' +\n",
              "          '<a target=\"_blank\" href=https://colab.research.google.com/notebooks/data_table.ipynb>data table notebook</a>'\n",
              "          + ' to learn more about interactive tables.';\n",
              "        element.innerHTML = '';\n",
              "        dataTable['output_type'] = 'display_data';\n",
              "        await google.colab.output.renderOutput(dataTable, element);\n",
              "        const docLink = document.createElement('div');\n",
              "        docLink.innerHTML = docLinkHtml;\n",
              "        element.appendChild(docLink);\n",
              "      }\n",
              "    </script>\n",
              "  </div>\n",
              "\n",
              "\n",
              "<div id=\"df-79b6e189-225c-4a5c-b5ec-780549f2aa2c\">\n",
              "  <button class=\"colab-df-quickchart\" onclick=\"quickchart('df-79b6e189-225c-4a5c-b5ec-780549f2aa2c')\"\n",
              "            title=\"Suggest charts\"\n",
              "            style=\"display:none;\">\n",
              "\n",
              "<svg xmlns=\"http://www.w3.org/2000/svg\" height=\"24px\"viewBox=\"0 0 24 24\"\n",
              "     width=\"24px\">\n",
              "    <g>\n",
              "        <path d=\"M19 3H5c-1.1 0-2 .9-2 2v14c0 1.1.9 2 2 2h14c1.1 0 2-.9 2-2V5c0-1.1-.9-2-2-2zM9 17H7v-7h2v7zm4 0h-2V7h2v10zm4 0h-2v-4h2v4z\"/>\n",
              "    </g>\n",
              "</svg>\n",
              "  </button>\n",
              "\n",
              "<style>\n",
              "  .colab-df-quickchart {\n",
              "      --bg-color: #E8F0FE;\n",
              "      --fill-color: #1967D2;\n",
              "      --hover-bg-color: #E2EBFA;\n",
              "      --hover-fill-color: #174EA6;\n",
              "      --disabled-fill-color: #AAA;\n",
              "      --disabled-bg-color: #DDD;\n",
              "  }\n",
              "\n",
              "  [theme=dark] .colab-df-quickchart {\n",
              "      --bg-color: #3B4455;\n",
              "      --fill-color: #D2E3FC;\n",
              "      --hover-bg-color: #434B5C;\n",
              "      --hover-fill-color: #FFFFFF;\n",
              "      --disabled-bg-color: #3B4455;\n",
              "      --disabled-fill-color: #666;\n",
              "  }\n",
              "\n",
              "  .colab-df-quickchart {\n",
              "    background-color: var(--bg-color);\n",
              "    border: none;\n",
              "    border-radius: 50%;\n",
              "    cursor: pointer;\n",
              "    display: none;\n",
              "    fill: var(--fill-color);\n",
              "    height: 32px;\n",
              "    padding: 0;\n",
              "    width: 32px;\n",
              "  }\n",
              "\n",
              "  .colab-df-quickchart:hover {\n",
              "    background-color: var(--hover-bg-color);\n",
              "    box-shadow: 0 1px 2px rgba(60, 64, 67, 0.3), 0 1px 3px 1px rgba(60, 64, 67, 0.15);\n",
              "    fill: var(--button-hover-fill-color);\n",
              "  }\n",
              "\n",
              "  .colab-df-quickchart-complete:disabled,\n",
              "  .colab-df-quickchart-complete:disabled:hover {\n",
              "    background-color: var(--disabled-bg-color);\n",
              "    fill: var(--disabled-fill-color);\n",
              "    box-shadow: none;\n",
              "  }\n",
              "\n",
              "  .colab-df-spinner {\n",
              "    border: 2px solid var(--fill-color);\n",
              "    border-color: transparent;\n",
              "    border-bottom-color: var(--fill-color);\n",
              "    animation:\n",
              "      spin 1s steps(1) infinite;\n",
              "  }\n",
              "\n",
              "  @keyframes spin {\n",
              "    0% {\n",
              "      border-color: transparent;\n",
              "      border-bottom-color: var(--fill-color);\n",
              "      border-left-color: var(--fill-color);\n",
              "    }\n",
              "    20% {\n",
              "      border-color: transparent;\n",
              "      border-left-color: var(--fill-color);\n",
              "      border-top-color: var(--fill-color);\n",
              "    }\n",
              "    30% {\n",
              "      border-color: transparent;\n",
              "      border-left-color: var(--fill-color);\n",
              "      border-top-color: var(--fill-color);\n",
              "      border-right-color: var(--fill-color);\n",
              "    }\n",
              "    40% {\n",
              "      border-color: transparent;\n",
              "      border-right-color: var(--fill-color);\n",
              "      border-top-color: var(--fill-color);\n",
              "    }\n",
              "    60% {\n",
              "      border-color: transparent;\n",
              "      border-right-color: var(--fill-color);\n",
              "    }\n",
              "    80% {\n",
              "      border-color: transparent;\n",
              "      border-right-color: var(--fill-color);\n",
              "      border-bottom-color: var(--fill-color);\n",
              "    }\n",
              "    90% {\n",
              "      border-color: transparent;\n",
              "      border-bottom-color: var(--fill-color);\n",
              "    }\n",
              "  }\n",
              "</style>\n",
              "\n",
              "  <script>\n",
              "    async function quickchart(key) {\n",
              "      const quickchartButtonEl =\n",
              "        document.querySelector('#' + key + ' button');\n",
              "      quickchartButtonEl.disabled = true;  // To prevent multiple clicks.\n",
              "      quickchartButtonEl.classList.add('colab-df-spinner');\n",
              "      try {\n",
              "        const charts = await google.colab.kernel.invokeFunction(\n",
              "            'suggestCharts', [key], {});\n",
              "      } catch (error) {\n",
              "        console.error('Error during call to suggestCharts:', error);\n",
              "      }\n",
              "      quickchartButtonEl.classList.remove('colab-df-spinner');\n",
              "      quickchartButtonEl.classList.add('colab-df-quickchart-complete');\n",
              "    }\n",
              "    (() => {\n",
              "      let quickchartButtonEl =\n",
              "        document.querySelector('#df-79b6e189-225c-4a5c-b5ec-780549f2aa2c button');\n",
              "      quickchartButtonEl.style.display =\n",
              "        google.colab.kernel.accessAllowed ? 'block' : 'none';\n",
              "    })();\n",
              "  </script>\n",
              "</div>\n",
              "    </div>\n",
              "  </div>\n"
            ]
          },
          "metadata": {},
          "execution_count": 23
        }
      ]
    },
    {
      "cell_type": "code",
      "source": [
        "# boxplots of schoolpay by conference\n",
        "BigTen = main[main['Conference'] == 'Big Ten']\n",
        "SEC = main[main['Conference'] == 'SEC' ]\n",
        "Big12 = main[main['Conference'] == 'Big 12' ]\n",
        "ACC = main[main['Conference'] == 'ACC' ]\n",
        "Pac12 = main[main['Conference'] == 'Pac-12' ]\n",
        "American = main[main['Conference'] == 'American' ]\n",
        "MountainWest = main[main['Conference'] == 'Mountain West' ]\n",
        "ConferenceUSA = main[main['Conference'] == 'Conference USA' ]\n",
        "FBSIndependents = main[main['Conference'] == 'FBS Independents' ]\n",
        "SunBelt = main[main['Conference'] == 'Sun Belt' ]\n",
        "MidAmerican = main[main['Conference'] == 'Mid-American' ]\n",
        "\n",
        "data = [BigTen['SchoolPay'], SEC['SchoolPay'],\n",
        "    Big12['SchoolPay'], ACC['SchoolPay'],\n",
        "    Pac12['SchoolPay'], American['SchoolPay'],\n",
        "    MountainWest['SchoolPay'], ConferenceUSA['SchoolPay'],\n",
        "    FBSIndependents['SchoolPay'], SunBelt['SchoolPay'],\n",
        "    MidAmerican['SchoolPay']]\n",
        "\n",
        "ordered_conference_names = ['Big Ten', 'SEC', 'Big 12', 'ACC', 'Pac-12', 'American', 'Mountain West',\n",
        "                            'Conference USA', 'FBS Independents', 'Sun Belt', 'Mid-American']\n",
        "\n",
        "fig, axis = plt.subplots()\n",
        "#axis.set_xlabel('Conference')\n",
        "# axis.set_ylabel('SchoolPay')\n",
        "conference_plot = plt.boxplot(data, sym='o', vert=1, whis=1.5)\n",
        "plt.setp(conference_plot['boxes'], color = 'black')\n",
        "plt.setp(conference_plot['whiskers'], color = 'black')\n",
        "plt.setp(conference_plot['fliers'], color = 'black', marker = 'o')\n",
        "axis.set_xticklabels(ordered_conference_names)\n",
        "plt.xticks(rotation=90)\n",
        "plt.title(\"Salary by Conference\")\n",
        "plt.show()"
      ],
      "metadata": {
        "colab": {
          "base_uri": "https://localhost:8080/",
          "height": 564
        },
        "id": "orZECDZraKlO",
        "outputId": "58ba6a97-427d-49d0-89c8-a6946d6910da"
      },
      "execution_count": null,
      "outputs": [
        {
          "output_type": "display_data",
          "data": {
            "text/plain": [
              "<Figure size 640x480 with 1 Axes>"
            ],
            "image/png": "[encoded data removed]"
          },
          "metadata": {}
        }
      ]
    },
    {
      "cell_type": "code",
      "source": [
        "# boxplots of schoolpay by conference\n",
        "BigTen = main[main['Conference'] == 'Big Ten']\n",
        "SEC = main[main['Conference'] == 'SEC' ]\n",
        "Big12 = main[main['Conference'] == 'Big 12' ]\n",
        "ACC = main[main['Conference'] == 'ACC' ]\n",
        "Pac12 = main[main['Conference'] == 'Pac-12' ]\n",
        "American = main[main['Conference'] == 'American' ]\n",
        "MountainWest = main[main['Conference'] == 'Mountain West' ]\n",
        "ConferenceUSA = main[main['Conference'] == 'Conference USA' ]\n",
        "FBSIndependents = main[main['Conference'] == 'FBS Independents' ]\n",
        "SunBelt = main[main['Conference'] == 'Sun Belt' ]\n",
        "MidAmerican = main[main['Conference'] == 'Mid-American' ]\n",
        "\n",
        "data = [BigTen['Revenues'], SEC['Revenues'],\n",
        "    Big12['Revenues'], ACC['Revenues'],\n",
        "    Pac12['Revenues'], American['Revenues'],\n",
        "    MountainWest['Revenues'], ConferenceUSA['Revenues'],\n",
        "    FBSIndependents['Revenues'], SunBelt['Revenues'],\n",
        "    MidAmerican['Revenues']]\n",
        "\n",
        "ordered_conference_names = ['Big Ten', 'SEC', 'Big 12', 'ACC', 'Pac-12', 'American', 'Mountain West',\n",
        "                            'Conference USA', 'FBS Independents', 'Sun Belt', 'Mid-American']\n",
        "\n",
        "fig, axis = plt.subplots()\n",
        "# axis.set_xlabel('Conference')\n",
        "# axis.set_ylabel('Revenue')\n",
        "conference_plot = plt.boxplot(data, sym='o', vert=1, whis=1.5)\n",
        "plt.setp(conference_plot['boxes'], color = 'black')\n",
        "plt.setp(conference_plot['whiskers'], color = 'black')\n",
        "plt.setp(conference_plot['fliers'], color = 'black', marker = 'o')\n",
        "axis.set_xticklabels(ordered_conference_names)\n",
        "plt.xticks(rotation=90)\n",
        "plt.title(\"Revenue Generated by Football Program\")\n",
        "plt.show()"
      ],
      "metadata": {
        "colab": {
          "base_uri": "https://localhost:8080/",
          "height": 564
        },
        "id": "U6tucm-yP5Gb",
        "outputId": "904d4467-a06d-48fc-ce7e-58941b06f4e0"
      },
      "execution_count": null,
      "outputs": [
        {
          "output_type": "display_data",
          "data": {
            "text/plain": [
              "<Figure size 640x480 with 1 Axes>"
            ],
            "image/png": "[encoded data removed]"
          },
          "metadata": {}
        }
      ]
    },
    {
      "cell_type": "code",
      "source": [
        "# scatterplots for various combinations of variables\n",
        "# code from week 3 asynch\n",
        "\n",
        "sns.set(style=\"darkgrid\")\n",
        "\n",
        "g = sns.FacetGrid(main, col=\"Ranked\", hue=\"PowerFive\",\n",
        "                  hue_order=[1, 0],\n",
        "                  hue_kws=dict(marker=[\"^\", \"v\"]))\n",
        "g.map(plt.scatter, \"Revenues\", \"SchoolPay\", alpha=.7)\n",
        "g.add_legend();\n",
        "plt.show()\n",
        "\n",
        "g = sns.FacetGrid(main, col=\"Ranking\", hue=\"PowerFive\",\n",
        "                hue_order=[1, 0],)\n",
        "g.map(plt.scatter, \"BonusPctPaid\", \"SchoolPay\", alpha=.7)\n",
        "g.add_legend();\n",
        "plt.show()\n",
        "\n",
        "g = sns.FacetGrid(main, col=\"WinningSeason\", hue=\"PowerFive\",\n",
        "                hue_order=[1, 0],)\n",
        "g.map(plt.scatter, \"Capacity\", \"SchoolPay\", alpha=.7)\n",
        "g.add_legend();\n",
        "plt.show()"
      ],
      "metadata": {
        "colab": {
          "base_uri": "https://localhost:8080/",
          "height": 869
        },
        "id": "I-taT3vUHiqC",
        "outputId": "efea31b8-3438-4682-d69c-46763672bcd6"
      },
      "execution_count": null,
      "outputs": [
        {
          "output_type": "display_data",
          "data": {
            "text/plain": [
              "<Figure size 695.597x300 with 2 Axes>"
            ],
            "image/png": "[encoded data removed]"
          },
          "metadata": {}
        },
        {
          "output_type": "display_data",
          "data": {
            "text/plain": [
              "<Figure size 695.597x300 with 2 Axes>"
            ],
            "image/png": "[encoded data removed]"
          },
          "metadata": {}
        },
        {
          "output_type": "display_data",
          "data": {
            "text/plain": [
              "<Figure size 695.597x300 with 2 Axes>"
            ],
            "image/png": "[encoded data removed]"
          },
          "metadata": {}
        }
      ]
    },
    {
      "cell_type": "code",
      "source": [
        "# histogram of attendance\n",
        "# code from asynch week 3\n",
        "\n",
        "plt.hist(main['SchoolPay'], density= False, stacked = False, rwidth = .9)\n",
        "plt.title(\"Salary Distribution\")\n",
        "plt.xlabel('SchoolPay')\n",
        "plt.ylabel('Salary in Millions')\n",
        "\n",
        "plt.show()"
      ],
      "metadata": {
        "colab": {
          "base_uri": "https://localhost:8080/",
          "height": 480
        },
        "id": "vuQdUh7sXqmL",
        "outputId": "10449adf-3d0a-4992-9970-680105c5cb67"
      },
      "execution_count": null,
      "outputs": [
        {
          "output_type": "display_data",
          "data": {
            "text/plain": [
              "<Figure size 640x480 with 1 Axes>"
            ],
            "image/png": "[encoded data removed]"
          },
          "metadata": {}
        }
      ]
    },
    {
      "cell_type": "code",
      "source": [
        "# code from week3 asynch\n",
        "# correlation matrix\n",
        "sns.set_theme(style=\"white\")\n",
        "corr = main.corr()\n",
        "\n",
        "# Generate a mask for the upper triangle\n",
        "mask = np.triu(np.ones_like(corr, dtype=bool))\n",
        "\n",
        "# Set up the matplotlib figure\n",
        "f, ax = plt.subplots(figsize=(11, 9))\n",
        "\n",
        "# Generate a custom diverging colormap\n",
        "cmap = sns.diverging_palette(230, 20, as_cmap=True)\n",
        "\n",
        "# Draw the heatmap with the mask and correct aspect ratio\n",
        "sns.heatmap(corr, mask=mask, cmap=cmap, vmax=.3, center=0,\n",
        "            square=True, linewidths=.5, cbar_kws={\"shrink\": .5})"
      ],
      "metadata": {
        "colab": {
          "base_uri": "https://localhost:8080/",
          "height": 922
        },
        "id": "cSSxhgzCdtsT",
        "outputId": "7e0d37d8-1bd6-416e-ed30-3862fd5a725e"
      },
      "execution_count": null,
      "outputs": [
        {
          "output_type": "stream",
          "name": "stderr",
          "text": [
            "<ipython-input-28-de956f81ee44>:4: FutureWarning: The default value of numeric_only in DataFrame.corr is deprecated. In a future version, it will default to False. Select only valid columns or specify the value of numeric_only to silence this warning.\n",
            "  corr = main.corr()\n"
          ]
        },
        {
          "output_type": "execute_result",
          "data": {
            "text/plain": [
              "<Axes: >"
            ]
          },
          "metadata": {},
          "execution_count": 28
        },
        {
          "output_type": "display_data",
          "data": {
            "text/plain": [
              "<Figure size 1100x900 with 2 Axes>"
            ],
            "image/png": "[encoded data removed]"
          },
          "metadata": {}
        }
      ]
    },
    {
      "cell_type": "code",
      "source": [],
      "metadata": {
        "id": "fWuQU4jAXDOZ"
      },
      "execution_count": null,
      "outputs": []
    },
    {
      "cell_type": "markdown",
      "source": [
        "# modeling"
      ],
      "metadata": {
        "id": "dzwqHFjUBHcq"
      }
    },
    {
      "cell_type": "code",
      "source": [
        "# code from week 3 async\n",
        "# employ training-and-test regimen for model validation\n",
        "np.random.seed(24)\n",
        "main['runiform'] = uniform.rvs(loc = 0, scale = 1, size = len(main))\n",
        "main_train = main[main['runiform'] >= 0.33]\n",
        "main_test = main[main['runiform'] < 0.33]\n",
        "# check training data frame\n",
        "print('\\nmain_train data frame (rows, columns): ',main_train.shape)\n",
        "print(main_train.head())\n",
        "# check test data frame\n",
        "print('\\nmain_test data frame (rows, columns): ',main_test.shape)\n",
        "print(main_test.head())\n",
        "\n",
        "# specify a simple model\n",
        "model_1 = str('SchoolPay ~ BonusPctPaid + FGR + Capacity + Enrollment + Revenues + Pct + Ranked + PowerFive')\n",
        "\n",
        "# fit the model to the training set\n",
        "train_model_fit = smf.ols(model_1, data = main_train).fit()\n",
        "# summary of model fit to the training set\n",
        "print(train_model_fit.summary())\n",
        "# training set predictions from the model fit to the training set\n",
        "main_train['predict_pay'] = train_model_fit.fittedvalues\n",
        "\n",
        "# test set predictions from the model fit to the training set\n",
        "main_test['predict_pay'] = train_model_fit.predict(main_test)\n"
      ],
      "metadata": {
        "colab": {
          "base_uri": "https://localhost:8080/"
        },
        "id": "yZ2pFCiXBFqT",
        "outputId": "e62057ba-4461-4814-8ba2-a7c7b04f7cdd"
      },
      "execution_count": null,
      "outputs": [
        {
          "output_type": "stream",
          "name": "stdout",
          "text": [
            "\n",
            "main_train data frame (rows, columns):  (93, 38)\n",
            "              School     Conference              Coach  SchoolPay    Bonus  \\\n",
            "0          Air Force  Mountain West       Troy Calhoun     885000   247000   \n",
            "1              Akron   Mid-American       Terry Bowden     411000   225000   \n",
            "2            Alabama            SEC         Nick Saban    8307000  1100000   \n",
            "4  Appalachian State       Sun Belt  Scott Satterfield     712500   295000   \n",
            "5            Arizona         Pac-12       Kevin Sumlin    1600000  2025000   \n",
            "\n",
            "   BonusPaid    Buyout   GSR   FGR  Capacity  Enrollment   Revenues   W  L  \\\n",
            "0      50000   1476060  0.89  0.89     52237        4237   16823588   5  7   \n",
            "1      50000    688500  0.79  0.76     30000       19200   12354872   7  7   \n",
            "2     500000  33600000  0.86  0.65    101821       38500  140831439  13  1   \n",
            "4     145000   2160417  0.78  0.60     24150       19100   10198918   9  4   \n",
            "5     279167  10000000  0.73  0.55     56037       45200   51865116   7  6   \n",
            "\n",
            "    Pct  Conf_W  Conf_L  Conf_Pct  AP_High  AP_Rank  BonusPctPaid  Ranked  \\\n",
            "0  0.42       4       4      0.50        0        0      0.202429       0   \n",
            "1  0.50       6       2      0.75        0        0      0.222222       0   \n",
            "2  0.93       7       1      0.88        1        1      0.454545       1   \n",
            "4  0.69       7       1      0.88        0        0      0.491525       0   \n",
            "5  0.54       5       4      0.56       23        0      0.137860       1   \n",
            "\n",
            "   Ranking  WinningSeason  SubstantialBonus  PowerFive  ACC  American  Big 12  \\\n",
            "0        0              0               0.0          0    0         0       0   \n",
            "1        0              0               0.0          0    0         0       0   \n",
            "2        1              1               1.0          1    0         0       0   \n",
            "4        0              1               1.0          0    0         0       0   \n",
            "5        0              1               0.0          1    0         0       0   \n",
            "\n",
            "   Big Ten  Conference USA  FBS Independents  Mid-American  Mountain West  \\\n",
            "0        0               0                 0             0              1   \n",
            "1        0               0                 0             1              0   \n",
            "2        0               0                 0             0              0   \n",
            "4        0               0                 0             0              0   \n",
            "5        0               0                 0             0              0   \n",
            "\n",
            "   Pac-12  SEC  Sun Belt  runiform  \n",
            "0       0    0         0  0.960017  \n",
            "1       0    0         0  0.699512  \n",
            "2       0    1         0  0.999867  \n",
            "4       0    0         1  0.361056  \n",
            "5       1    0         0  0.739841  \n",
            "\n",
            "main_test data frame (rows, columns):  (35, 38)\n",
            "                   School      Conference           Coach  SchoolPay    Bonus  \\\n",
            "3   Alabama at Birmingham  Conference USA      Bill Clark     900000   950000   \n",
            "7                Arkansas             SEC     Chad Morris    3500000  1000000   \n",
            "8          Arkansas State        Sun Belt  Blake Anderson     825000   185000   \n",
            "10                 Auburn             SEC     Gus Malzahn    6700000  1400000   \n",
            "15          Bowling Green    Mid-American      Mike Jinks     437228   245000   \n",
            "\n",
            "    BonusPaid    Buyout   GSR   FGR  Capacity  Enrollment   Revenues   W   L  \\\n",
            "3      165471   3847500  0.69  0.42     71594       21900   28840003   8   5   \n",
            "7      375000  12500000  0.84  0.57     72000       27800   99599352   4   8   \n",
            "8       25000    300000  0.72  0.45     30964       22000    8593341   7   5   \n",
            "10     375000  32143750  0.80  0.61     87451       30400  128960499  10   4   \n",
            "15      81250    874456  0.72  0.65     23724       23000    8370915   2  10   \n",
            "\n",
            "     Pct  Conf_W  Conf_L  Conf_Pct  AP_High  AP_Rank  BonusPctPaid  Ranked  \\\n",
            "3   0.62       6       2      0.75        0        0      0.174180       0   \n",
            "7   0.33       1       7      0.13        0        0      0.375000       0   \n",
            "8   0.58       6       2      0.75        0        0      0.135135       0   \n",
            "10  0.71       7       1      0.88        4       10      0.267857       1   \n",
            "15  0.17       2       6      0.25        0        0      0.331633       0   \n",
            "\n",
            "    Ranking  WinningSeason  SubstantialBonus  PowerFive  ACC  American  \\\n",
            "3         0              1               0.0          0    0         0   \n",
            "7         0              0               1.0          1    0         0   \n",
            "8         0              1               0.0          0    0         0   \n",
            "10        1              1               1.0          1    0         0   \n",
            "15        0              0               1.0          0    0         0   \n",
            "\n",
            "    Big 12  Big Ten  Conference USA  FBS Independents  Mid-American  \\\n",
            "3        0        0               1                 0             0   \n",
            "7        0        0               0                 0             0   \n",
            "8        0        0               0                 0             0   \n",
            "10       0        0               0                 0             0   \n",
            "15       0        0               0                 0             1   \n",
            "\n",
            "    Mountain West  Pac-12  SEC  Sun Belt  runiform  \n",
            "3               0       0    0         0  0.220067  \n",
            "7               0       0    1         0  0.316347  \n",
            "8               0       0    0         1  0.136545  \n",
            "10              0       0    1         0  0.320519  \n",
            "15              0       0    0         0  0.247294  \n",
            "                            OLS Regression Results                            \n",
            "==============================================================================\n",
            "Dep. Variable:              SchoolPay   R-squared:                       0.782\n",
            "Model:                            OLS   Adj. R-squared:                  0.761\n",
            "Method:                 Least Squares   F-statistic:                     37.58\n",
            "Date:                Tue, 05 Dec 2023   Prob (F-statistic):           1.22e-24\n",
            "Time:                        03:55:58   Log-Likelihood:                -1404.1\n",
            "No. Observations:                  93   AIC:                             2826.\n",
            "Df Residuals:                      84   BIC:                             2849.\n",
            "Df Model:                           8                                         \n",
            "Covariance Type:            nonrobust                                         \n",
            "================================================================================\n",
            "                   coef    std err          t      P>|t|      [0.025      0.975]\n",
            "--------------------------------------------------------------------------------\n",
            "Intercept    -7.683e+05   6.83e+05     -1.125      0.264   -2.13e+06     5.9e+05\n",
            "BonusPctPaid  1.312e+06   5.98e+05      2.193      0.031    1.22e+05     2.5e+06\n",
            "FGR            5.76e+05    8.1e+05      0.711      0.479   -1.03e+06    2.19e+06\n",
            "Capacity         8.5417      8.447      1.011      0.315      -8.257      25.340\n",
            "Enrollment      13.2233      8.499      1.556      0.123      -3.678      30.124\n",
            "Revenues         0.0232      0.006      3.834      0.000       0.011       0.035\n",
            "Pct           3.231e+05   5.77e+05      0.560      0.577   -8.25e+05    1.47e+06\n",
            "Ranked         2.56e+05   2.97e+05      0.862      0.391   -3.35e+05    8.46e+05\n",
            "PowerFive     8.228e+05      3e+05      2.745      0.007    2.27e+05    1.42e+06\n",
            "==============================================================================\n",
            "Omnibus:                        2.488   Durbin-Watson:                   1.738\n",
            "Prob(Omnibus):                  0.288   Jarque-Bera (JB):                2.107\n",
            "Skew:                           0.105   Prob(JB):                        0.349\n",
            "Kurtosis:                       3.707   Cond. No.                     6.37e+08\n",
            "==============================================================================\n",
            "\n",
            "Notes:\n",
            "[1] Standard Errors assume that the covariance matrix of the errors is correctly specified.\n",
            "[2] The condition number is large, 6.37e+08. This might indicate that there are\n",
            "strong multicollinearity or other numerical problems.\n"
          ]
        },
        {
          "output_type": "stream",
          "name": "stderr",
          "text": [
            "<ipython-input-29-857699fec299>:22: SettingWithCopyWarning: \n",
            "A value is trying to be set on a copy of a slice from a DataFrame.\n",
            "Try using .loc[row_indexer,col_indexer] = value instead\n",
            "\n",
            "See the caveats in the documentation: https://pandas.pydata.org/pandas-docs/stable/user_guide/indexing.html#returning-a-view-versus-a-copy\n",
            "  main_train['predict_pay'] = train_model_fit.fittedvalues\n",
            "<ipython-input-29-857699fec299>:25: SettingWithCopyWarning: \n",
            "A value is trying to be set on a copy of a slice from a DataFrame.\n",
            "Try using .loc[row_indexer,col_indexer] = value instead\n",
            "\n",
            "See the caveats in the documentation: https://pandas.pydata.org/pandas-docs/stable/user_guide/indexing.html#returning-a-view-versus-a-copy\n",
            "  main_test['predict_pay'] = train_model_fit.predict(main_test)\n"
          ]
        }
      ]
    },
    {
      "cell_type": "code",
      "source": [
        "# code from week 3 async\n",
        "# model 2\n",
        "# using each conference dummy variable instead of power5\n",
        "# employ training-and-test regimen for model validation\n",
        "np.random.seed(24)\n",
        "main = main.rename(columns = {'Big Ten' : 'BigTen', 'Mountain West' : 'MountainWest', 'Mid-American' : 'MidAmerican', 'Conference USA' : 'ConferenceUSA',\n",
        "       'Sun Belt' : 'SunBelt', 'Pac-12' : 'Pac12', 'FBS Independents' : 'FBSIndependents', 'Big 12' : 'Big12'})\n",
        "main['runiform'] = uniform.rvs(loc = 0, scale = 1, size = len(main))\n",
        "main_train = main[main['runiform'] >= 0.33]\n",
        "main_test = main[main['runiform'] < 0.33]\n",
        "# check training data frame\n",
        "print('\\nmain_train data frame (rows, columns): ',main_train.shape)\n",
        "print(main_train.head())\n",
        "# check test data frame\n",
        "print('\\nmain_test data frame (rows, columns): ',main_test.shape)\n",
        "print(main_test.head())\n",
        "\n",
        "# specify a simple model\n",
        "model_2 = str('SchoolPay ~ BonusPctPaid + FGR + Capacity + Enrollment + Revenues + Pct + BigTen + MountainWest + MidAmerican + ConferenceUSA + SunBelt + Pac12 + FBSIndependents + Big12 + SEC + ACC + American')\n",
        "# fit the model to the training set\n",
        "train_model_fit = smf.ols(model_2, data = main_train).fit()\n",
        "# summary of model fit to the training set\n",
        "print(train_model_fit.summary())\n",
        "# training set predictions from the model fit to the training set\n",
        "main_train['predict_pay'] = train_model_fit.fittedvalues\n",
        "\n",
        "# test set predictions from the model fit to the training set\n",
        "main_test['predict_pay'] = train_model_fit.predict(main_test)\n"
      ],
      "metadata": {
        "colab": {
          "base_uri": "https://localhost:8080/"
        },
        "id": "W1Ng-stMhaJL",
        "outputId": "ee1ead66-009f-4281-fa32-337a5bdfc09c"
      },
      "execution_count": null,
      "outputs": [
        {
          "output_type": "stream",
          "name": "stdout",
          "text": [
            "\n",
            "main_train data frame (rows, columns):  (93, 38)\n",
            "              School     Conference              Coach  SchoolPay    Bonus  \\\n",
            "0          Air Force  Mountain West       Troy Calhoun     885000   247000   \n",
            "1              Akron   Mid-American       Terry Bowden     411000   225000   \n",
            "2            Alabama            SEC         Nick Saban    8307000  1100000   \n",
            "4  Appalachian State       Sun Belt  Scott Satterfield     712500   295000   \n",
            "5            Arizona         Pac-12       Kevin Sumlin    1600000  2025000   \n",
            "\n",
            "   BonusPaid    Buyout   GSR   FGR  Capacity  Enrollment   Revenues   W  L  \\\n",
            "0      50000   1476060  0.89  0.89     52237        4237   16823588   5  7   \n",
            "1      50000    688500  0.79  0.76     30000       19200   12354872   7  7   \n",
            "2     500000  33600000  0.86  0.65    101821       38500  140831439  13  1   \n",
            "4     145000   2160417  0.78  0.60     24150       19100   10198918   9  4   \n",
            "5     279167  10000000  0.73  0.55     56037       45200   51865116   7  6   \n",
            "\n",
            "    Pct  Conf_W  Conf_L  Conf_Pct  AP_High  AP_Rank  BonusPctPaid  Ranked  \\\n",
            "0  0.42       4       4      0.50        0        0      0.202429       0   \n",
            "1  0.50       6       2      0.75        0        0      0.222222       0   \n",
            "2  0.93       7       1      0.88        1        1      0.454545       1   \n",
            "4  0.69       7       1      0.88        0        0      0.491525       0   \n",
            "5  0.54       5       4      0.56       23        0      0.137860       1   \n",
            "\n",
            "   Ranking  WinningSeason  SubstantialBonus  PowerFive  ACC  American  Big12  \\\n",
            "0        0              0               0.0          0    0         0      0   \n",
            "1        0              0               0.0          0    0         0      0   \n",
            "2        1              1               1.0          1    0         0      0   \n",
            "4        0              1               1.0          0    0         0      0   \n",
            "5        0              1               0.0          1    0         0      0   \n",
            "\n",
            "   BigTen  ConferenceUSA  FBSIndependents  MidAmerican  MountainWest  Pac12  \\\n",
            "0       0              0                0            0             1      0   \n",
            "1       0              0                0            1             0      0   \n",
            "2       0              0                0            0             0      0   \n",
            "4       0              0                0            0             0      0   \n",
            "5       0              0                0            0             0      1   \n",
            "\n",
            "   SEC  SunBelt  runiform  \n",
            "0    0        0  0.960017  \n",
            "1    0        0  0.699512  \n",
            "2    1        0  0.999867  \n",
            "4    0        1  0.361056  \n",
            "5    0        0  0.739841  \n",
            "\n",
            "main_test data frame (rows, columns):  (35, 38)\n",
            "                   School      Conference           Coach  SchoolPay    Bonus  \\\n",
            "3   Alabama at Birmingham  Conference USA      Bill Clark     900000   950000   \n",
            "7                Arkansas             SEC     Chad Morris    3500000  1000000   \n",
            "8          Arkansas State        Sun Belt  Blake Anderson     825000   185000   \n",
            "10                 Auburn             SEC     Gus Malzahn    6700000  1400000   \n",
            "15          Bowling Green    Mid-American      Mike Jinks     437228   245000   \n",
            "\n",
            "    BonusPaid    Buyout   GSR   FGR  Capacity  Enrollment   Revenues   W   L  \\\n",
            "3      165471   3847500  0.69  0.42     71594       21900   28840003   8   5   \n",
            "7      375000  12500000  0.84  0.57     72000       27800   99599352   4   8   \n",
            "8       25000    300000  0.72  0.45     30964       22000    8593341   7   5   \n",
            "10     375000  32143750  0.80  0.61     87451       30400  128960499  10   4   \n",
            "15      81250    874456  0.72  0.65     23724       23000    8370915   2  10   \n",
            "\n",
            "     Pct  Conf_W  Conf_L  Conf_Pct  AP_High  AP_Rank  BonusPctPaid  Ranked  \\\n",
            "3   0.62       6       2      0.75        0        0      0.174180       0   \n",
            "7   0.33       1       7      0.13        0        0      0.375000       0   \n",
            "8   0.58       6       2      0.75        0        0      0.135135       0   \n",
            "10  0.71       7       1      0.88        4       10      0.267857       1   \n",
            "15  0.17       2       6      0.25        0        0      0.331633       0   \n",
            "\n",
            "    Ranking  WinningSeason  SubstantialBonus  PowerFive  ACC  American  Big12  \\\n",
            "3         0              1               0.0          0    0         0      0   \n",
            "7         0              0               1.0          1    0         0      0   \n",
            "8         0              1               0.0          0    0         0      0   \n",
            "10        1              1               1.0          1    0         0      0   \n",
            "15        0              0               1.0          0    0         0      0   \n",
            "\n",
            "    BigTen  ConferenceUSA  FBSIndependents  MidAmerican  MountainWest  Pac12  \\\n",
            "3        0              1                0            0             0      0   \n",
            "7        0              0                0            0             0      0   \n",
            "8        0              0                0            0             0      0   \n",
            "10       0              0                0            0             0      0   \n",
            "15       0              0                0            1             0      0   \n",
            "\n",
            "    SEC  SunBelt  runiform  \n",
            "3     0        0  0.220067  \n",
            "7     1        0  0.316347  \n",
            "8     0        1  0.136545  \n",
            "10    1        0  0.320519  \n",
            "15    0        0  0.247294  \n",
            "                            OLS Regression Results                            \n",
            "==============================================================================\n",
            "Dep. Variable:              SchoolPay   R-squared:                       0.847\n",
            "Model:                            OLS   Adj. R-squared:                  0.814\n",
            "Method:                 Least Squares   F-statistic:                     26.20\n",
            "Date:                Tue, 05 Dec 2023   Prob (F-statistic):           1.71e-24\n",
            "Time:                        03:56:04   Log-Likelihood:                -1387.7\n",
            "No. Observations:                  93   AIC:                             2809.\n",
            "Df Residuals:                      76   BIC:                             2852.\n",
            "Df Model:                          16                                         \n",
            "Covariance Type:            nonrobust                                         \n",
            "===================================================================================\n",
            "                      coef    std err          t      P>|t|      [0.025      0.975]\n",
            "-----------------------------------------------------------------------------------\n",
            "Intercept       -1.544e+05   6.48e+05     -0.238      0.812   -1.45e+06    1.14e+06\n",
            "BonusPctPaid     8.932e+05   5.67e+05      1.575      0.119   -2.36e+05    2.02e+06\n",
            "FGR              6.203e+05   8.11e+05      0.765      0.447   -9.95e+05    2.24e+06\n",
            "Capacity            5.5655      8.342      0.667      0.507     -11.049      22.180\n",
            "Enrollment          5.5994      8.734      0.641      0.523     -11.795      22.994\n",
            "Revenues            0.0239      0.006      4.240      0.000       0.013       0.035\n",
            "Pct              7.527e+05   4.49e+05      1.677      0.098   -1.41e+05    1.65e+06\n",
            "BigTen           7.383e+05   3.59e+05      2.057      0.043    2.33e+04    1.45e+06\n",
            "MountainWest    -4.936e+05   2.74e+05     -1.801      0.076   -1.04e+06    5.23e+04\n",
            "MidAmerican     -7.266e+05   2.91e+05     -2.495      0.015   -1.31e+06   -1.47e+05\n",
            "ConferenceUSA   -3.651e+05    3.4e+05     -1.073      0.287   -1.04e+06    3.13e+05\n",
            "SunBelt         -6.031e+05   3.12e+05     -1.935      0.057   -1.22e+06    1.75e+04\n",
            "Pac12           -1.648e+05   2.95e+05     -0.559      0.578   -7.52e+05    4.22e+05\n",
            "FBSIndependents -1.368e+06   4.26e+05     -3.209      0.002   -2.22e+06   -5.19e+05\n",
            "Big12              8.9e+05   2.96e+05      3.011      0.004    3.01e+05    1.48e+06\n",
            "SEC               1.09e+06   4.01e+05      2.715      0.008     2.9e+05    1.89e+06\n",
            "ACC              8.926e+05   2.57e+05      3.479      0.001    3.82e+05     1.4e+06\n",
            "American        -4.366e+04   2.98e+05     -0.147      0.884   -6.36e+05    5.49e+05\n",
            "==============================================================================\n",
            "Omnibus:                        5.097   Durbin-Watson:                   1.851\n",
            "Prob(Omnibus):                  0.078   Jarque-Bera (JB):                4.463\n",
            "Skew:                           0.432   Prob(JB):                        0.107\n",
            "Kurtosis:                       3.637   Cond. No.                     8.06e+23\n",
            "==============================================================================\n",
            "\n",
            "Notes:\n",
            "[1] Standard Errors assume that the covariance matrix of the errors is correctly specified.\n",
            "[2] The smallest eigenvalue is 5.13e-31. This might indicate that there are\n",
            "strong multicollinearity problems or that the design matrix is singular.\n"
          ]
        },
        {
          "output_type": "stream",
          "name": "stderr",
          "text": [
            "<ipython-input-30-e7d2bd9cb814>:25: SettingWithCopyWarning: \n",
            "A value is trying to be set on a copy of a slice from a DataFrame.\n",
            "Try using .loc[row_indexer,col_indexer] = value instead\n",
            "\n",
            "See the caveats in the documentation: https://pandas.pydata.org/pandas-docs/stable/user_guide/indexing.html#returning-a-view-versus-a-copy\n",
            "  main_train['predict_pay'] = train_model_fit.fittedvalues\n",
            "<ipython-input-30-e7d2bd9cb814>:28: SettingWithCopyWarning: \n",
            "A value is trying to be set on a copy of a slice from a DataFrame.\n",
            "Try using .loc[row_indexer,col_indexer] = value instead\n",
            "\n",
            "See the caveats in the documentation: https://pandas.pydata.org/pandas-docs/stable/user_guide/indexing.html#returning-a-view-versus-a-copy\n",
            "  main_test['predict_pay'] = train_model_fit.predict(main_test)\n"
          ]
        }
      ]
    },
    {
      "cell_type": "code",
      "source": [
        "# code from week 3 async\n",
        "# model 3\n",
        "# using wins instead of pct, power5 instead of each conference\n",
        "np.random.seed(24)\n",
        "main['runiform'] = uniform.rvs(loc = 0, scale = 1, size = len(main))\n",
        "main_train = main[main['runiform'] >= 0.33]\n",
        "main_test = main[main['runiform'] < 0.33]\n",
        "# check training data frame\n",
        "print('\\nmain_train data frame (rows, columns): ',main_train.shape)\n",
        "print(main_train.head())\n",
        "# check test data frame\n",
        "print('\\nmain_test data frame (rows, columns): ',main_test.shape)\n",
        "print(main_test.head())\n",
        "\n",
        "# specify a simple model\n",
        "model_3 = str('SchoolPay ~ BonusPctPaid + FGR + Capacity + Enrollment + Revenues + W + Ranked + PowerFive')\n",
        "# fit the model to the training set\n",
        "train_model_fit = smf.ols(model_3, data = main_train).fit()\n",
        "# summary of model fit to the training set\n",
        "print(train_model_fit.summary())\n",
        "# training set predictions from the model fit to the training set\n",
        "main_train['predict_pay'] = train_model_fit.fittedvalues\n",
        "\n",
        "# test set predictions from the model fit to the training set\n",
        "main_test['predict_pay'] = train_model_fit.predict(main_test)"
      ],
      "metadata": {
        "colab": {
          "base_uri": "https://localhost:8080/"
        },
        "id": "jXhruRb6B532",
        "outputId": "d38e4a6e-61fd-482b-d6e9-6f70dc82528b"
      },
      "execution_count": null,
      "outputs": [
        {
          "output_type": "stream",
          "name": "stdout",
          "text": [
            "\n",
            "main_train data frame (rows, columns):  (93, 38)\n",
            "              School     Conference              Coach  SchoolPay    Bonus  \\\n",
            "0          Air Force  Mountain West       Troy Calhoun     885000   247000   \n",
            "1              Akron   Mid-American       Terry Bowden     411000   225000   \n",
            "2            Alabama            SEC         Nick Saban    8307000  1100000   \n",
            "4  Appalachian State       Sun Belt  Scott Satterfield     712500   295000   \n",
            "5            Arizona         Pac-12       Kevin Sumlin    1600000  2025000   \n",
            "\n",
            "   BonusPaid    Buyout   GSR   FGR  Capacity  Enrollment   Revenues   W  L  \\\n",
            "0      50000   1476060  0.89  0.89     52237        4237   16823588   5  7   \n",
            "1      50000    688500  0.79  0.76     30000       19200   12354872   7  7   \n",
            "2     500000  33600000  0.86  0.65    101821       38500  140831439  13  1   \n",
            "4     145000   2160417  0.78  0.60     24150       19100   10198918   9  4   \n",
            "5     279167  10000000  0.73  0.55     56037       45200   51865116   7  6   \n",
            "\n",
            "    Pct  Conf_W  Conf_L  Conf_Pct  AP_High  AP_Rank  BonusPctPaid  Ranked  \\\n",
            "0  0.42       4       4      0.50        0        0      0.202429       0   \n",
            "1  0.50       6       2      0.75        0        0      0.222222       0   \n",
            "2  0.93       7       1      0.88        1        1      0.454545       1   \n",
            "4  0.69       7       1      0.88        0        0      0.491525       0   \n",
            "5  0.54       5       4      0.56       23        0      0.137860       1   \n",
            "\n",
            "   Ranking  WinningSeason  SubstantialBonus  PowerFive  ACC  American  Big12  \\\n",
            "0        0              0               0.0          0    0         0      0   \n",
            "1        0              0               0.0          0    0         0      0   \n",
            "2        1              1               1.0          1    0         0      0   \n",
            "4        0              1               1.0          0    0         0      0   \n",
            "5        0              1               0.0          1    0         0      0   \n",
            "\n",
            "   BigTen  ConferenceUSA  FBSIndependents  MidAmerican  MountainWest  Pac12  \\\n",
            "0       0              0                0            0             1      0   \n",
            "1       0              0                0            1             0      0   \n",
            "2       0              0                0            0             0      0   \n",
            "4       0              0                0            0             0      0   \n",
            "5       0              0                0            0             0      1   \n",
            "\n",
            "   SEC  SunBelt  runiform  \n",
            "0    0        0  0.960017  \n",
            "1    0        0  0.699512  \n",
            "2    1        0  0.999867  \n",
            "4    0        1  0.361056  \n",
            "5    0        0  0.739841  \n",
            "\n",
            "main_test data frame (rows, columns):  (35, 38)\n",
            "                   School      Conference           Coach  SchoolPay    Bonus  \\\n",
            "3   Alabama at Birmingham  Conference USA      Bill Clark     900000   950000   \n",
            "7                Arkansas             SEC     Chad Morris    3500000  1000000   \n",
            "8          Arkansas State        Sun Belt  Blake Anderson     825000   185000   \n",
            "10                 Auburn             SEC     Gus Malzahn    6700000  1400000   \n",
            "15          Bowling Green    Mid-American      Mike Jinks     437228   245000   \n",
            "\n",
            "    BonusPaid    Buyout   GSR   FGR  Capacity  Enrollment   Revenues   W   L  \\\n",
            "3      165471   3847500  0.69  0.42     71594       21900   28840003   8   5   \n",
            "7      375000  12500000  0.84  0.57     72000       27800   99599352   4   8   \n",
            "8       25000    300000  0.72  0.45     30964       22000    8593341   7   5   \n",
            "10     375000  32143750  0.80  0.61     87451       30400  128960499  10   4   \n",
            "15      81250    874456  0.72  0.65     23724       23000    8370915   2  10   \n",
            "\n",
            "     Pct  Conf_W  Conf_L  Conf_Pct  AP_High  AP_Rank  BonusPctPaid  Ranked  \\\n",
            "3   0.62       6       2      0.75        0        0      0.174180       0   \n",
            "7   0.33       1       7      0.13        0        0      0.375000       0   \n",
            "8   0.58       6       2      0.75        0        0      0.135135       0   \n",
            "10  0.71       7       1      0.88        4       10      0.267857       1   \n",
            "15  0.17       2       6      0.25        0        0      0.331633       0   \n",
            "\n",
            "    Ranking  WinningSeason  SubstantialBonus  PowerFive  ACC  American  Big12  \\\n",
            "3         0              1               0.0          0    0         0      0   \n",
            "7         0              0               1.0          1    0         0      0   \n",
            "8         0              1               0.0          0    0         0      0   \n",
            "10        1              1               1.0          1    0         0      0   \n",
            "15        0              0               1.0          0    0         0      0   \n",
            "\n",
            "    BigTen  ConferenceUSA  FBSIndependents  MidAmerican  MountainWest  Pac12  \\\n",
            "3        0              1                0            0             0      0   \n",
            "7        0              0                0            0             0      0   \n",
            "8        0              0                0            0             0      0   \n",
            "10       0              0                0            0             0      0   \n",
            "15       0              0                0            1             0      0   \n",
            "\n",
            "    SEC  SunBelt  runiform  \n",
            "3     0        0  0.220067  \n",
            "7     1        0  0.316347  \n",
            "8     0        1  0.136545  \n",
            "10    1        0  0.320519  \n",
            "15    0        0  0.247294  \n",
            "                            OLS Regression Results                            \n",
            "==============================================================================\n",
            "Dep. Variable:              SchoolPay   R-squared:                       0.782\n",
            "Model:                            OLS   Adj. R-squared:                  0.761\n",
            "Method:                 Least Squares   F-statistic:                     37.69\n",
            "Date:                Tue, 05 Dec 2023   Prob (F-statistic):           1.11e-24\n",
            "Time:                        04:23:39   Log-Likelihood:                -1404.0\n",
            "No. Observations:                  93   AIC:                             2826.\n",
            "Df Residuals:                      84   BIC:                             2849.\n",
            "Df Model:                           8                                         \n",
            "Covariance Type:            nonrobust                                         \n",
            "================================================================================\n",
            "                   coef    std err          t      P>|t|      [0.025      0.975]\n",
            "--------------------------------------------------------------------------------\n",
            "Intercept     -7.87e+05   6.79e+05     -1.159      0.250   -2.14e+06    5.63e+05\n",
            "BonusPctPaid  1.266e+06   6.06e+05      2.088      0.040    6.02e+04    2.47e+06\n",
            "FGR           5.671e+05   8.08e+05      0.702      0.485   -1.04e+06    2.17e+06\n",
            "Capacity         8.6840      8.443      1.029      0.307      -8.106      25.474\n",
            "Enrollment      13.2967      8.481      1.568      0.121      -3.569      30.162\n",
            "Revenues         0.0231      0.006      3.823      0.000       0.011       0.035\n",
            "W             2.972e+04   4.15e+04      0.717      0.475   -5.27e+04    1.12e+05\n",
            "Ranked        2.344e+05   2.95e+05      0.794      0.429   -3.53e+05    8.21e+05\n",
            "PowerFive     8.266e+05   2.99e+05      2.761      0.007    2.31e+05    1.42e+06\n",
            "==============================================================================\n",
            "Omnibus:                        2.353   Durbin-Watson:                   1.741\n",
            "Prob(Omnibus):                  0.308   Jarque-Bera (JB):                1.953\n",
            "Skew:                           0.087   Prob(JB):                        0.377\n",
            "Kurtosis:                       3.688   Cond. No.                     6.37e+08\n",
            "==============================================================================\n",
            "\n",
            "Notes:\n",
            "[1] Standard Errors assume that the covariance matrix of the errors is correctly specified.\n",
            "[2] The condition number is large, 6.37e+08. This might indicate that there are\n",
            "strong multicollinearity or other numerical problems.\n"
          ]
        },
        {
          "output_type": "stream",
          "name": "stderr",
          "text": [
            "<ipython-input-31-71a222aa07ba>:22: SettingWithCopyWarning: \n",
            "A value is trying to be set on a copy of a slice from a DataFrame.\n",
            "Try using .loc[row_indexer,col_indexer] = value instead\n",
            "\n",
            "See the caveats in the documentation: https://pandas.pydata.org/pandas-docs/stable/user_guide/indexing.html#returning-a-view-versus-a-copy\n",
            "  main_train['predict_pay'] = train_model_fit.fittedvalues\n",
            "<ipython-input-31-71a222aa07ba>:25: SettingWithCopyWarning: \n",
            "A value is trying to be set on a copy of a slice from a DataFrame.\n",
            "Try using .loc[row_indexer,col_indexer] = value instead\n",
            "\n",
            "See the caveats in the documentation: https://pandas.pydata.org/pandas-docs/stable/user_guide/indexing.html#returning-a-view-versus-a-copy\n",
            "  main_test['predict_pay'] = train_model_fit.predict(main_test)\n"
          ]
        }
      ]
    },
    {
      "cell_type": "code",
      "source": [
        "# code from week 3 async\n",
        "# model 4\n",
        "# using wins, power5, Ranking instead of Ranked\n",
        "np.random.seed(24)\n",
        "main['runiform'] = uniform.rvs(loc = 0, scale = 1, size = len(main))\n",
        "main_train = main[main['runiform'] >= 0.33]\n",
        "main_test = main[main['runiform'] < 0.33]\n",
        "# check training data frame\n",
        "print('\\nmain_train data frame (rows, columns): ',main_train.shape)\n",
        "print(main_train.head())\n",
        "# check test data frame\n",
        "print('\\nmain_test data frame (rows, columns): ',main_test.shape)\n",
        "print(main_test.head())\n",
        "\n",
        "# specify a simple model\n",
        "model_4 = str('SchoolPay ~ BonusPctPaid + FGR + Capacity + Enrollment + Revenues + W + Ranking + PowerFive')\n",
        "# fit the model to the training set\n",
        "train_model_fit = smf.ols(model_4, data = main_train).fit()\n",
        "# summary of model fit to the training set\n",
        "print(train_model_fit.summary())\n",
        "# training set predictions from the model fit to the training set\n",
        "main_train['predict_pay'] = train_model_fit.fittedvalues\n",
        "\n",
        "# test set predictions from the model fit to the training set\n",
        "main_test['predict_pay'] = train_model_fit.predict(main_test)"
      ],
      "metadata": {
        "colab": {
          "base_uri": "https://localhost:8080/"
        },
        "id": "wuVbz_uJl_2t",
        "outputId": "d6ac4337-71d2-4ae9-e95e-cda7c755ebfc"
      },
      "execution_count": null,
      "outputs": [
        {
          "output_type": "stream",
          "name": "stdout",
          "text": [
            "\n",
            "main_train data frame (rows, columns):  (93, 38)\n",
            "              School     Conference              Coach  SchoolPay    Bonus  \\\n",
            "0          Air Force  Mountain West       Troy Calhoun     885000   247000   \n",
            "1              Akron   Mid-American       Terry Bowden     411000   225000   \n",
            "2            Alabama            SEC         Nick Saban    8307000  1100000   \n",
            "4  Appalachian State       Sun Belt  Scott Satterfield     712500   295000   \n",
            "5            Arizona         Pac-12       Kevin Sumlin    1600000  2025000   \n",
            "\n",
            "   BonusPaid    Buyout   GSR   FGR  Capacity  Enrollment   Revenues   W  L  \\\n",
            "0      50000   1476060  0.89  0.89     52237        4237   16823588   5  7   \n",
            "1      50000    688500  0.79  0.76     30000       19200   12354872   7  7   \n",
            "2     500000  33600000  0.86  0.65    101821       38500  140831439  13  1   \n",
            "4     145000   2160417  0.78  0.60     24150       19100   10198918   9  4   \n",
            "5     279167  10000000  0.73  0.55     56037       45200   51865116   7  6   \n",
            "\n",
            "    Pct  Conf_W  Conf_L  Conf_Pct  AP_High  AP_Rank  BonusPctPaid  Ranked  \\\n",
            "0  0.42       4       4      0.50        0        0      0.202429       0   \n",
            "1  0.50       6       2      0.75        0        0      0.222222       0   \n",
            "2  0.93       7       1      0.88        1        1      0.454545       1   \n",
            "4  0.69       7       1      0.88        0        0      0.491525       0   \n",
            "5  0.54       5       4      0.56       23        0      0.137860       1   \n",
            "\n",
            "   Ranking  WinningSeason  SubstantialBonus  PowerFive  ACC  American  Big12  \\\n",
            "0        0              0               0.0          0    0         0      0   \n",
            "1        0              0               0.0          0    0         0      0   \n",
            "2        1              1               1.0          1    0         0      0   \n",
            "4        0              1               1.0          0    0         0      0   \n",
            "5        0              1               0.0          1    0         0      0   \n",
            "\n",
            "   BigTen  ConferenceUSA  FBSIndependents  MidAmerican  MountainWest  Pac12  \\\n",
            "0       0              0                0            0             1      0   \n",
            "1       0              0                0            1             0      0   \n",
            "2       0              0                0            0             0      0   \n",
            "4       0              0                0            0             0      0   \n",
            "5       0              0                0            0             0      1   \n",
            "\n",
            "   SEC  SunBelt  runiform  \n",
            "0    0        0  0.960017  \n",
            "1    0        0  0.699512  \n",
            "2    1        0  0.999867  \n",
            "4    0        1  0.361056  \n",
            "5    0        0  0.739841  \n",
            "\n",
            "main_test data frame (rows, columns):  (35, 38)\n",
            "                   School      Conference           Coach  SchoolPay    Bonus  \\\n",
            "3   Alabama at Birmingham  Conference USA      Bill Clark     900000   950000   \n",
            "7                Arkansas             SEC     Chad Morris    3500000  1000000   \n",
            "8          Arkansas State        Sun Belt  Blake Anderson     825000   185000   \n",
            "10                 Auburn             SEC     Gus Malzahn    6700000  1400000   \n",
            "15          Bowling Green    Mid-American      Mike Jinks     437228   245000   \n",
            "\n",
            "    BonusPaid    Buyout   GSR   FGR  Capacity  Enrollment   Revenues   W   L  \\\n",
            "3      165471   3847500  0.69  0.42     71594       21900   28840003   8   5   \n",
            "7      375000  12500000  0.84  0.57     72000       27800   99599352   4   8   \n",
            "8       25000    300000  0.72  0.45     30964       22000    8593341   7   5   \n",
            "10     375000  32143750  0.80  0.61     87451       30400  128960499  10   4   \n",
            "15      81250    874456  0.72  0.65     23724       23000    8370915   2  10   \n",
            "\n",
            "     Pct  Conf_W  Conf_L  Conf_Pct  AP_High  AP_Rank  BonusPctPaid  Ranked  \\\n",
            "3   0.62       6       2      0.75        0        0      0.174180       0   \n",
            "7   0.33       1       7      0.13        0        0      0.375000       0   \n",
            "8   0.58       6       2      0.75        0        0      0.135135       0   \n",
            "10  0.71       7       1      0.88        4       10      0.267857       1   \n",
            "15  0.17       2       6      0.25        0        0      0.331633       0   \n",
            "\n",
            "    Ranking  WinningSeason  SubstantialBonus  PowerFive  ACC  American  Big12  \\\n",
            "3         0              1               0.0          0    0         0      0   \n",
            "7         0              0               1.0          1    0         0      0   \n",
            "8         0              1               0.0          0    0         0      0   \n",
            "10        1              1               1.0          1    0         0      0   \n",
            "15        0              0               1.0          0    0         0      0   \n",
            "\n",
            "    BigTen  ConferenceUSA  FBSIndependents  MidAmerican  MountainWest  Pac12  \\\n",
            "3        0              1                0            0             0      0   \n",
            "7        0              0                0            0             0      0   \n",
            "8        0              0                0            0             0      0   \n",
            "10       0              0                0            0             0      0   \n",
            "15       0              0                0            1             0      0   \n",
            "\n",
            "    SEC  SunBelt  runiform  \n",
            "3     0        0  0.220067  \n",
            "7     1        0  0.316347  \n",
            "8     0        1  0.136545  \n",
            "10    1        0  0.320519  \n",
            "15    0        0  0.247294  \n",
            "                            OLS Regression Results                            \n",
            "==============================================================================\n",
            "Dep. Variable:              SchoolPay   R-squared:                       0.781\n",
            "Model:                            OLS   Adj. R-squared:                  0.760\n",
            "Method:                 Least Squares   F-statistic:                     37.37\n",
            "Date:                Tue, 05 Dec 2023   Prob (F-statistic):           1.47e-24\n",
            "Time:                        04:23:43   Log-Likelihood:                -1404.3\n",
            "No. Observations:                  93   AIC:                             2827.\n",
            "Df Residuals:                      84   BIC:                             2849.\n",
            "Df Model:                           8                                         \n",
            "Covariance Type:            nonrobust                                         \n",
            "================================================================================\n",
            "                   coef    std err          t      P>|t|      [0.025      0.975]\n",
            "--------------------------------------------------------------------------------\n",
            "Intercept    -8.464e+05   6.82e+05     -1.241      0.218    -2.2e+06     5.1e+05\n",
            "BonusPctPaid  1.315e+06   6.12e+05      2.151      0.034    9.91e+04    2.53e+06\n",
            "FGR           5.519e+05   8.14e+05      0.678      0.499   -1.07e+06    2.17e+06\n",
            "Capacity         9.4660      8.563      1.105      0.272      -7.562      26.494\n",
            "Enrollment      13.0050      8.600      1.512      0.134      -4.097      30.107\n",
            "Revenues         0.0237      0.006      3.934      0.000       0.012       0.036\n",
            "W             3.974e+04   4.55e+04      0.874      0.385   -5.07e+04     1.3e+05\n",
            "Ranking       7.779e+04   3.34e+05      0.233      0.816   -5.86e+05    7.41e+05\n",
            "PowerFive     8.423e+05      3e+05      2.810      0.006    2.46e+05    1.44e+06\n",
            "==============================================================================\n",
            "Omnibus:                        1.644   Durbin-Watson:                   1.743\n",
            "Prob(Omnibus):                  0.439   Jarque-Bera (JB):                1.121\n",
            "Skew:                           0.045   Prob(JB):                        0.571\n",
            "Kurtosis:                       3.530   Cond. No.                     6.36e+08\n",
            "==============================================================================\n",
            "\n",
            "Notes:\n",
            "[1] Standard Errors assume that the covariance matrix of the errors is correctly specified.\n",
            "[2] The condition number is large, 6.36e+08. This might indicate that there are\n",
            "strong multicollinearity or other numerical problems.\n"
          ]
        },
        {
          "output_type": "stream",
          "name": "stderr",
          "text": [
            "<ipython-input-32-90267accf856>:22: SettingWithCopyWarning: \n",
            "A value is trying to be set on a copy of a slice from a DataFrame.\n",
            "Try using .loc[row_indexer,col_indexer] = value instead\n",
            "\n",
            "See the caveats in the documentation: https://pandas.pydata.org/pandas-docs/stable/user_guide/indexing.html#returning-a-view-versus-a-copy\n",
            "  main_train['predict_pay'] = train_model_fit.fittedvalues\n",
            "<ipython-input-32-90267accf856>:25: SettingWithCopyWarning: \n",
            "A value is trying to be set on a copy of a slice from a DataFrame.\n",
            "Try using .loc[row_indexer,col_indexer] = value instead\n",
            "\n",
            "See the caveats in the documentation: https://pandas.pydata.org/pandas-docs/stable/user_guide/indexing.html#returning-a-view-versus-a-copy\n",
            "  main_test['predict_pay'] = train_model_fit.predict(main_test)\n"
          ]
        }
      ]
    },
    {
      "cell_type": "code",
      "source": [
        "# code from week 3 async\n",
        "# model 5\n",
        "# paring down to the significant or at least lower p-value variables\n",
        "np.random.seed(24)\n",
        "main['runiform'] = uniform.rvs(loc = 0, scale = 1, size = len(main))\n",
        "main_train = main[main['runiform'] >= 0.33]\n",
        "main_test = main[main['runiform'] < 0.33]\n",
        "# check training data frame\n",
        "print('\\nmain_train data frame (rows, columns): ',main_train.shape)\n",
        "print(main_train.head())\n",
        "# check test data frame\n",
        "print('\\nmain_test data frame (rows, columns): ',main_test.shape)\n",
        "print(main_test.head())\n",
        "\n",
        "# specify a simple model\n",
        "model_5 = str('SchoolPay ~ BonusPctPaid + Enrollment + Revenues + W + Ranked + PowerFive')\n",
        "# fit the model to the training set\n",
        "train_model_fit = smf.ols(model_5, data = main_train).fit()\n",
        "# summary of model fit to the training set\n",
        "print(train_model_fit.summary())\n",
        "# training set predictions from the model fit to the training set\n",
        "main_train['predict_pay'] = train_model_fit.fittedvalues\n",
        "\n",
        "# test set predictions from the model fit to the training set\n",
        "main_test['predict_pay'] = train_model_fit.predict(main_test)"
      ],
      "metadata": {
        "colab": {
          "base_uri": "https://localhost:8080/"
        },
        "id": "ZK8kzId3mnzY",
        "outputId": "8a8ebacd-e2c6-4114-8337-dbf72647983e"
      },
      "execution_count": null,
      "outputs": [
        {
          "output_type": "stream",
          "name": "stdout",
          "text": [
            "\n",
            "main_train data frame (rows, columns):  (93, 38)\n",
            "              School     Conference              Coach  SchoolPay    Bonus  \\\n",
            "0          Air Force  Mountain West       Troy Calhoun     885000   247000   \n",
            "1              Akron   Mid-American       Terry Bowden     411000   225000   \n",
            "2            Alabama            SEC         Nick Saban    8307000  1100000   \n",
            "4  Appalachian State       Sun Belt  Scott Satterfield     712500   295000   \n",
            "5            Arizona         Pac-12       Kevin Sumlin    1600000  2025000   \n",
            "\n",
            "   BonusPaid    Buyout   GSR   FGR  Capacity  Enrollment   Revenues   W  L  \\\n",
            "0      50000   1476060  0.89  0.89     52237        4237   16823588   5  7   \n",
            "1      50000    688500  0.79  0.76     30000       19200   12354872   7  7   \n",
            "2     500000  33600000  0.86  0.65    101821       38500  140831439  13  1   \n",
            "4     145000   2160417  0.78  0.60     24150       19100   10198918   9  4   \n",
            "5     279167  10000000  0.73  0.55     56037       45200   51865116   7  6   \n",
            "\n",
            "    Pct  Conf_W  Conf_L  Conf_Pct  AP_High  AP_Rank  BonusPctPaid  Ranked  \\\n",
            "0  0.42       4       4      0.50        0        0      0.202429       0   \n",
            "1  0.50       6       2      0.75        0        0      0.222222       0   \n",
            "2  0.93       7       1      0.88        1        1      0.454545       1   \n",
            "4  0.69       7       1      0.88        0        0      0.491525       0   \n",
            "5  0.54       5       4      0.56       23        0      0.137860       1   \n",
            "\n",
            "   Ranking  WinningSeason  SubstantialBonus  PowerFive  ACC  American  Big12  \\\n",
            "0        0              0               0.0          0    0         0      0   \n",
            "1        0              0               0.0          0    0         0      0   \n",
            "2        1              1               1.0          1    0         0      0   \n",
            "4        0              1               1.0          0    0         0      0   \n",
            "5        0              1               0.0          1    0         0      0   \n",
            "\n",
            "   BigTen  ConferenceUSA  FBSIndependents  MidAmerican  MountainWest  Pac12  \\\n",
            "0       0              0                0            0             1      0   \n",
            "1       0              0                0            1             0      0   \n",
            "2       0              0                0            0             0      0   \n",
            "4       0              0                0            0             0      0   \n",
            "5       0              0                0            0             0      1   \n",
            "\n",
            "   SEC  SunBelt  runiform  \n",
            "0    0        0  0.960017  \n",
            "1    0        0  0.699512  \n",
            "2    1        0  0.999867  \n",
            "4    0        1  0.361056  \n",
            "5    0        0  0.739841  \n",
            "\n",
            "main_test data frame (rows, columns):  (35, 38)\n",
            "                   School      Conference           Coach  SchoolPay    Bonus  \\\n",
            "3   Alabama at Birmingham  Conference USA      Bill Clark     900000   950000   \n",
            "7                Arkansas             SEC     Chad Morris    3500000  1000000   \n",
            "8          Arkansas State        Sun Belt  Blake Anderson     825000   185000   \n",
            "10                 Auburn             SEC     Gus Malzahn    6700000  1400000   \n",
            "15          Bowling Green    Mid-American      Mike Jinks     437228   245000   \n",
            "\n",
            "    BonusPaid    Buyout   GSR   FGR  Capacity  Enrollment   Revenues   W   L  \\\n",
            "3      165471   3847500  0.69  0.42     71594       21900   28840003   8   5   \n",
            "7      375000  12500000  0.84  0.57     72000       27800   99599352   4   8   \n",
            "8       25000    300000  0.72  0.45     30964       22000    8593341   7   5   \n",
            "10     375000  32143750  0.80  0.61     87451       30400  128960499  10   4   \n",
            "15      81250    874456  0.72  0.65     23724       23000    8370915   2  10   \n",
            "\n",
            "     Pct  Conf_W  Conf_L  Conf_Pct  AP_High  AP_Rank  BonusPctPaid  Ranked  \\\n",
            "3   0.62       6       2      0.75        0        0      0.174180       0   \n",
            "7   0.33       1       7      0.13        0        0      0.375000       0   \n",
            "8   0.58       6       2      0.75        0        0      0.135135       0   \n",
            "10  0.71       7       1      0.88        4       10      0.267857       1   \n",
            "15  0.17       2       6      0.25        0        0      0.331633       0   \n",
            "\n",
            "    Ranking  WinningSeason  SubstantialBonus  PowerFive  ACC  American  Big12  \\\n",
            "3         0              1               0.0          0    0         0      0   \n",
            "7         0              0               1.0          1    0         0      0   \n",
            "8         0              1               0.0          0    0         0      0   \n",
            "10        1              1               1.0          1    0         0      0   \n",
            "15        0              0               1.0          0    0         0      0   \n",
            "\n",
            "    BigTen  ConferenceUSA  FBSIndependents  MidAmerican  MountainWest  Pac12  \\\n",
            "3        0              1                0            0             0      0   \n",
            "7        0              0                0            0             0      0   \n",
            "8        0              0                0            0             0      0   \n",
            "10       0              0                0            0             0      0   \n",
            "15       0              0                0            1             0      0   \n",
            "\n",
            "    SEC  SunBelt  runiform  \n",
            "3     0        0  0.220067  \n",
            "7     1        0  0.316347  \n",
            "8     0        1  0.136545  \n",
            "10    1        0  0.320519  \n",
            "15    0        0  0.247294  \n",
            "                            OLS Regression Results                            \n",
            "==============================================================================\n",
            "Dep. Variable:              SchoolPay   R-squared:                       0.778\n",
            "Model:                            OLS   Adj. R-squared:                  0.763\n",
            "Method:                 Least Squares   F-statistic:                     50.34\n",
            "Date:                Tue, 05 Dec 2023   Prob (F-statistic):           4.43e-26\n",
            "Time:                        04:23:48   Log-Likelihood:                -1404.8\n",
            "No. Observations:                  93   AIC:                             2824.\n",
            "Df Residuals:                      86   BIC:                             2841.\n",
            "Df Model:                           6                                         \n",
            "Covariance Type:            nonrobust                                         \n",
            "================================================================================\n",
            "                   coef    std err          t      P>|t|      [0.025      0.975]\n",
            "--------------------------------------------------------------------------------\n",
            "Intercept     -1.96e+05   3.26e+05     -0.601      0.549   -8.44e+05    4.52e+05\n",
            "BonusPctPaid  1.245e+06   6.03e+05      2.065      0.042    4.65e+04    2.44e+06\n",
            "Enrollment      13.7301      8.193      1.676      0.097      -2.557      30.018\n",
            "Revenues         0.0267      0.005      5.836      0.000       0.018       0.036\n",
            "W              3.05e+04    4.1e+04      0.744      0.459    -5.1e+04    1.12e+05\n",
            "Ranked        2.784e+05   2.88e+05      0.966      0.337   -2.95e+05    8.52e+05\n",
            "PowerFive     8.629e+05   2.95e+05      2.926      0.004    2.77e+05    1.45e+06\n",
            "==============================================================================\n",
            "Omnibus:                        4.053   Durbin-Watson:                   1.812\n",
            "Prob(Omnibus):                  0.132   Jarque-Bera (JB):                3.994\n",
            "Skew:                           0.238   Prob(JB):                        0.136\n",
            "Kurtosis:                       3.897   Cond. No.                     3.82e+08\n",
            "==============================================================================\n",
            "\n",
            "Notes:\n",
            "[1] Standard Errors assume that the covariance matrix of the errors is correctly specified.\n",
            "[2] The condition number is large, 3.82e+08. This might indicate that there are\n",
            "strong multicollinearity or other numerical problems.\n"
          ]
        },
        {
          "output_type": "stream",
          "name": "stderr",
          "text": [
            "<ipython-input-33-c7096b5be591>:22: SettingWithCopyWarning: \n",
            "A value is trying to be set on a copy of a slice from a DataFrame.\n",
            "Try using .loc[row_indexer,col_indexer] = value instead\n",
            "\n",
            "See the caveats in the documentation: https://pandas.pydata.org/pandas-docs/stable/user_guide/indexing.html#returning-a-view-versus-a-copy\n",
            "  main_train['predict_pay'] = train_model_fit.fittedvalues\n",
            "<ipython-input-33-c7096b5be591>:25: SettingWithCopyWarning: \n",
            "A value is trying to be set on a copy of a slice from a DataFrame.\n",
            "Try using .loc[row_indexer,col_indexer] = value instead\n",
            "\n",
            "See the caveats in the documentation: https://pandas.pydata.org/pandas-docs/stable/user_guide/indexing.html#returning-a-view-versus-a-copy\n",
            "  main_test['predict_pay'] = train_model_fit.predict(main_test)\n"
          ]
        }
      ]
    },
    {
      "cell_type": "code",
      "source": [
        "# code from week 3 async\n",
        "# model 6\n",
        "# only using significant p-value variables\n",
        "np.random.seed(24)\n",
        "main['runiform'] = uniform.rvs(loc = 0, scale = 1, size = len(main))\n",
        "main_train = main[main['runiform'] >= 0.33]\n",
        "main_test = main[main['runiform'] < 0.33]\n",
        "# check training data frame\n",
        "print('\\nmain_train data frame (rows, columns): ',main_train.shape)\n",
        "print(main_train.head())\n",
        "# check test data frame\n",
        "print('\\nmain_test data frame (rows, columns): ',main_test.shape)\n",
        "print(main_test.head())\n",
        "\n",
        "# specify a simple model\n",
        "model_6 = str('SchoolPay ~ BonusPctPaid + Revenues + Enrollment + PowerFive')\n",
        "# fit the model to the training set\n",
        "train_model_fit = smf.ols(model_6, data = main_train).fit()\n",
        "# summary of model fit to the training set\n",
        "print(train_model_fit.summary())\n",
        "# training set predictions from the model fit to the training set\n",
        "main_train['predict_pay'] = train_model_fit.fittedvalues\n",
        "\n",
        "# test set predictions from the model fit to the training set\n",
        "main_test['predict_pay'] = train_model_fit.predict(main_test)"
      ],
      "metadata": {
        "colab": {
          "base_uri": "https://localhost:8080/"
        },
        "id": "B3ZhNSKLng5V",
        "outputId": "6e6dc41b-8bc4-49fd-de59-b903900615bf"
      },
      "execution_count": null,
      "outputs": [
        {
          "output_type": "stream",
          "name": "stdout",
          "text": [
            "\n",
            "main_train data frame (rows, columns):  (93, 38)\n",
            "              School     Conference              Coach  SchoolPay    Bonus  \\\n",
            "0          Air Force  Mountain West       Troy Calhoun     885000   247000   \n",
            "1              Akron   Mid-American       Terry Bowden     411000   225000   \n",
            "2            Alabama            SEC         Nick Saban    8307000  1100000   \n",
            "4  Appalachian State       Sun Belt  Scott Satterfield     712500   295000   \n",
            "5            Arizona         Pac-12       Kevin Sumlin    1600000  2025000   \n",
            "\n",
            "   BonusPaid    Buyout   GSR   FGR  Capacity  Enrollment   Revenues   W  L  \\\n",
            "0      50000   1476060  0.89  0.89     52237        4237   16823588   5  7   \n",
            "1      50000    688500  0.79  0.76     30000       19200   12354872   7  7   \n",
            "2     500000  33600000  0.86  0.65    101821       38500  140831439  13  1   \n",
            "4     145000   2160417  0.78  0.60     24150       19100   10198918   9  4   \n",
            "5     279167  10000000  0.73  0.55     56037       45200   51865116   7  6   \n",
            "\n",
            "    Pct  Conf_W  Conf_L  Conf_Pct  AP_High  AP_Rank  BonusPctPaid  Ranked  \\\n",
            "0  0.42       4       4      0.50        0        0      0.202429       0   \n",
            "1  0.50       6       2      0.75        0        0      0.222222       0   \n",
            "2  0.93       7       1      0.88        1        1      0.454545       1   \n",
            "4  0.69       7       1      0.88        0        0      0.491525       0   \n",
            "5  0.54       5       4      0.56       23        0      0.137860       1   \n",
            "\n",
            "   Ranking  WinningSeason  SubstantialBonus  PowerFive  ACC  American  Big12  \\\n",
            "0        0              0               0.0          0    0         0      0   \n",
            "1        0              0               0.0          0    0         0      0   \n",
            "2        1              1               1.0          1    0         0      0   \n",
            "4        0              1               1.0          0    0         0      0   \n",
            "5        0              1               0.0          1    0         0      0   \n",
            "\n",
            "   BigTen  ConferenceUSA  FBSIndependents  MidAmerican  MountainWest  Pac12  \\\n",
            "0       0              0                0            0             1      0   \n",
            "1       0              0                0            1             0      0   \n",
            "2       0              0                0            0             0      0   \n",
            "4       0              0                0            0             0      0   \n",
            "5       0              0                0            0             0      1   \n",
            "\n",
            "   SEC  SunBelt  runiform  \n",
            "0    0        0  0.960017  \n",
            "1    0        0  0.699512  \n",
            "2    1        0  0.999867  \n",
            "4    0        1  0.361056  \n",
            "5    0        0  0.739841  \n",
            "\n",
            "main_test data frame (rows, columns):  (35, 38)\n",
            "                   School      Conference           Coach  SchoolPay    Bonus  \\\n",
            "3   Alabama at Birmingham  Conference USA      Bill Clark     900000   950000   \n",
            "7                Arkansas             SEC     Chad Morris    3500000  1000000   \n",
            "8          Arkansas State        Sun Belt  Blake Anderson     825000   185000   \n",
            "10                 Auburn             SEC     Gus Malzahn    6700000  1400000   \n",
            "15          Bowling Green    Mid-American      Mike Jinks     437228   245000   \n",
            "\n",
            "    BonusPaid    Buyout   GSR   FGR  Capacity  Enrollment   Revenues   W   L  \\\n",
            "3      165471   3847500  0.69  0.42     71594       21900   28840003   8   5   \n",
            "7      375000  12500000  0.84  0.57     72000       27800   99599352   4   8   \n",
            "8       25000    300000  0.72  0.45     30964       22000    8593341   7   5   \n",
            "10     375000  32143750  0.80  0.61     87451       30400  128960499  10   4   \n",
            "15      81250    874456  0.72  0.65     23724       23000    8370915   2  10   \n",
            "\n",
            "     Pct  Conf_W  Conf_L  Conf_Pct  AP_High  AP_Rank  BonusPctPaid  Ranked  \\\n",
            "3   0.62       6       2      0.75        0        0      0.174180       0   \n",
            "7   0.33       1       7      0.13        0        0      0.375000       0   \n",
            "8   0.58       6       2      0.75        0        0      0.135135       0   \n",
            "10  0.71       7       1      0.88        4       10      0.267857       1   \n",
            "15  0.17       2       6      0.25        0        0      0.331633       0   \n",
            "\n",
            "    Ranking  WinningSeason  SubstantialBonus  PowerFive  ACC  American  Big12  \\\n",
            "3         0              1               0.0          0    0         0      0   \n",
            "7         0              0               1.0          1    0         0      0   \n",
            "8         0              1               0.0          0    0         0      0   \n",
            "10        1              1               1.0          1    0         0      0   \n",
            "15        0              0               1.0          0    0         0      0   \n",
            "\n",
            "    BigTen  ConferenceUSA  FBSIndependents  MidAmerican  MountainWest  Pac12  \\\n",
            "3        0              1                0            0             0      0   \n",
            "7        0              0                0            0             0      0   \n",
            "8        0              0                0            0             0      0   \n",
            "10       0              0                0            0             0      0   \n",
            "15       0              0                0            1             0      0   \n",
            "\n",
            "    SEC  SunBelt  runiform  \n",
            "3     0        0  0.220067  \n",
            "7     1        0  0.316347  \n",
            "8     0        1  0.136545  \n",
            "10    1        0  0.320519  \n",
            "15    0        0  0.247294  \n",
            "                            OLS Regression Results                            \n",
            "==============================================================================\n",
            "Dep. Variable:              SchoolPay   R-squared:                       0.771\n",
            "Model:                            OLS   Adj. R-squared:                  0.760\n",
            "Method:                 Least Squares   F-statistic:                     74.00\n",
            "Date:                Tue, 05 Dec 2023   Prob (F-statistic):           2.45e-27\n",
            "Time:                        04:23:53   Log-Likelihood:                -1406.3\n",
            "No. Observations:                  93   AIC:                             2823.\n",
            "Df Residuals:                      88   BIC:                             2835.\n",
            "Df Model:                           4                                         \n",
            "Covariance Type:            nonrobust                                         \n",
            "================================================================================\n",
            "                   coef    std err          t      P>|t|      [0.025      0.975]\n",
            "--------------------------------------------------------------------------------\n",
            "Intercept    -2.507e+04   2.45e+05     -0.102      0.919   -5.13e+05    4.63e+05\n",
            "BonusPctPaid  1.633e+06   5.52e+05      2.958      0.004    5.36e+05    2.73e+06\n",
            "Revenues         0.0291      0.004      6.751      0.000       0.021       0.038\n",
            "Enrollment      12.9123      8.219      1.571      0.120      -3.422      29.246\n",
            "PowerFive     8.674e+05   2.96e+05      2.934      0.004     2.8e+05    1.45e+06\n",
            "==============================================================================\n",
            "Omnibus:                        3.478   Durbin-Watson:                   1.852\n",
            "Prob(Omnibus):                  0.176   Jarque-Bera (JB):                2.872\n",
            "Skew:                           0.299   Prob(JB):                        0.238\n",
            "Kurtosis:                       3.618   Cond. No.                     3.50e+08\n",
            "==============================================================================\n",
            "\n",
            "Notes:\n",
            "[1] Standard Errors assume that the covariance matrix of the errors is correctly specified.\n",
            "[2] The condition number is large, 3.5e+08. This might indicate that there are\n",
            "strong multicollinearity or other numerical problems.\n"
          ]
        },
        {
          "output_type": "stream",
          "name": "stderr",
          "text": [
            "<ipython-input-34-17772fe04c42>:22: SettingWithCopyWarning: \n",
            "A value is trying to be set on a copy of a slice from a DataFrame.\n",
            "Try using .loc[row_indexer,col_indexer] = value instead\n",
            "\n",
            "See the caveats in the documentation: https://pandas.pydata.org/pandas-docs/stable/user_guide/indexing.html#returning-a-view-versus-a-copy\n",
            "  main_train['predict_pay'] = train_model_fit.fittedvalues\n",
            "<ipython-input-34-17772fe04c42>:25: SettingWithCopyWarning: \n",
            "A value is trying to be set on a copy of a slice from a DataFrame.\n",
            "Try using .loc[row_indexer,col_indexer] = value instead\n",
            "\n",
            "See the caveats in the documentation: https://pandas.pydata.org/pandas-docs/stable/user_guide/indexing.html#returning-a-view-versus-a-copy\n",
            "  main_test['predict_pay'] = train_model_fit.predict(main_test)\n"
          ]
        }
      ]
    },
    {
      "cell_type": "code",
      "source": [
        "# code from week 3 async\n",
        "# model 7\n",
        "# using conferences instead of powerfive so can answer big ten question\n",
        "# and then just bonuspctpaid, revenues\n",
        "\n",
        "np.random.seed(24)\n",
        "main = main.rename(columns = {'Big Ten' : 'BigTen', 'Mountain West' : 'MountainWest', 'Mid-American' : 'MidAmerican', 'Conference USA' : 'ConferenceUSA',\n",
        "       'Sun Belt' : 'SunBelt', 'Pac-12' : 'Pac12', 'FBS Independents' : 'FBSIndependents', 'Big 12' : 'Big12'})\n",
        "main['runiform'] = uniform.rvs(loc = 0, scale = 1, size = len(main))\n",
        "main_train = main[main['runiform'] >= 0.33]\n",
        "main_test = main[main['runiform'] < 0.33]\n",
        "# check training data frame\n",
        "print('\\nmain_train data frame (rows, columns): ',main_train.shape)\n",
        "print(main_train.head())\n",
        "# check test data frame\n",
        "print('\\nmain_test data frame (rows, columns): ',main_test.shape)\n",
        "print(main_test.head())\n",
        "\n",
        "# specify a simple model\n",
        "model_7 = str('SchoolPay ~ BonusPctPaid + Revenues + BigTen + MountainWest + MidAmerican + ConferenceUSA + SunBelt + Pac12 + FBSIndependents + Big12 + SEC + ACC + American')\n",
        "# fit the model to the training set\n",
        "# fit the model to the training set\n",
        "train_model_fit = smf.ols(model_7, data = main_train).fit()\n",
        "# summary of model fit to the training set\n",
        "print(train_model_fit.summary())\n",
        "# training set predictions from the model fit to the training set\n",
        "main_train['predict_pay'] = train_model_fit.fittedvalues\n",
        "\n",
        "# test set predictions from the model fit to the training set\n",
        "main_test['predict_pay'] = train_model_fit.predict(main_test)"
      ],
      "metadata": {
        "colab": {
          "base_uri": "https://localhost:8080/"
        },
        "id": "8rlNNP-u4rDq",
        "outputId": "a59694a8-d71f-461c-e639-49ef3b33cd44"
      },
      "execution_count": null,
      "outputs": [
        {
          "output_type": "stream",
          "name": "stdout",
          "text": [
            "\n",
            "main_train data frame (rows, columns):  (93, 38)\n",
            "              School     Conference              Coach  SchoolPay    Bonus  \\\n",
            "0          Air Force  Mountain West       Troy Calhoun     885000   247000   \n",
            "1              Akron   Mid-American       Terry Bowden     411000   225000   \n",
            "2            Alabama            SEC         Nick Saban    8307000  1100000   \n",
            "4  Appalachian State       Sun Belt  Scott Satterfield     712500   295000   \n",
            "5            Arizona         Pac-12       Kevin Sumlin    1600000  2025000   \n",
            "\n",
            "   BonusPaid    Buyout   GSR   FGR  Capacity  Enrollment   Revenues   W  L  \\\n",
            "0      50000   1476060  0.89  0.89     52237        4237   16823588   5  7   \n",
            "1      50000    688500  0.79  0.76     30000       19200   12354872   7  7   \n",
            "2     500000  33600000  0.86  0.65    101821       38500  140831439  13  1   \n",
            "4     145000   2160417  0.78  0.60     24150       19100   10198918   9  4   \n",
            "5     279167  10000000  0.73  0.55     56037       45200   51865116   7  6   \n",
            "\n",
            "    Pct  Conf_W  Conf_L  Conf_Pct  AP_High  AP_Rank  BonusPctPaid  Ranked  \\\n",
            "0  0.42       4       4      0.50        0        0      0.202429       0   \n",
            "1  0.50       6       2      0.75        0        0      0.222222       0   \n",
            "2  0.93       7       1      0.88        1        1      0.454545       1   \n",
            "4  0.69       7       1      0.88        0        0      0.491525       0   \n",
            "5  0.54       5       4      0.56       23        0      0.137860       1   \n",
            "\n",
            "   Ranking  WinningSeason  SubstantialBonus  PowerFive  ACC  American  Big12  \\\n",
            "0        0              0               0.0          0    0         0      0   \n",
            "1        0              0               0.0          0    0         0      0   \n",
            "2        1              1               1.0          1    0         0      0   \n",
            "4        0              1               1.0          0    0         0      0   \n",
            "5        0              1               0.0          1    0         0      0   \n",
            "\n",
            "   BigTen  ConferenceUSA  FBSIndependents  MidAmerican  MountainWest  Pac12  \\\n",
            "0       0              0                0            0             1      0   \n",
            "1       0              0                0            1             0      0   \n",
            "2       0              0                0            0             0      0   \n",
            "4       0              0                0            0             0      0   \n",
            "5       0              0                0            0             0      1   \n",
            "\n",
            "   SEC  SunBelt  runiform  \n",
            "0    0        0  0.960017  \n",
            "1    0        0  0.699512  \n",
            "2    1        0  0.999867  \n",
            "4    0        1  0.361056  \n",
            "5    0        0  0.739841  \n",
            "\n",
            "main_test data frame (rows, columns):  (35, 38)\n",
            "                   School      Conference           Coach  SchoolPay    Bonus  \\\n",
            "3   Alabama at Birmingham  Conference USA      Bill Clark     900000   950000   \n",
            "7                Arkansas             SEC     Chad Morris    3500000  1000000   \n",
            "8          Arkansas State        Sun Belt  Blake Anderson     825000   185000   \n",
            "10                 Auburn             SEC     Gus Malzahn    6700000  1400000   \n",
            "15          Bowling Green    Mid-American      Mike Jinks     437228   245000   \n",
            "\n",
            "    BonusPaid    Buyout   GSR   FGR  Capacity  Enrollment   Revenues   W   L  \\\n",
            "3      165471   3847500  0.69  0.42     71594       21900   28840003   8   5   \n",
            "7      375000  12500000  0.84  0.57     72000       27800   99599352   4   8   \n",
            "8       25000    300000  0.72  0.45     30964       22000    8593341   7   5   \n",
            "10     375000  32143750  0.80  0.61     87451       30400  128960499  10   4   \n",
            "15      81250    874456  0.72  0.65     23724       23000    8370915   2  10   \n",
            "\n",
            "     Pct  Conf_W  Conf_L  Conf_Pct  AP_High  AP_Rank  BonusPctPaid  Ranked  \\\n",
            "3   0.62       6       2      0.75        0        0      0.174180       0   \n",
            "7   0.33       1       7      0.13        0        0      0.375000       0   \n",
            "8   0.58       6       2      0.75        0        0      0.135135       0   \n",
            "10  0.71       7       1      0.88        4       10      0.267857       1   \n",
            "15  0.17       2       6      0.25        0        0      0.331633       0   \n",
            "\n",
            "    Ranking  WinningSeason  SubstantialBonus  PowerFive  ACC  American  Big12  \\\n",
            "3         0              1               0.0          0    0         0      0   \n",
            "7         0              0               1.0          1    0         0      0   \n",
            "8         0              1               0.0          0    0         0      0   \n",
            "10        1              1               1.0          1    0         0      0   \n",
            "15        0              0               1.0          0    0         0      0   \n",
            "\n",
            "    BigTen  ConferenceUSA  FBSIndependents  MidAmerican  MountainWest  Pac12  \\\n",
            "3        0              1                0            0             0      0   \n",
            "7        0              0                0            0             0      0   \n",
            "8        0              0                0            0             0      0   \n",
            "10       0              0                0            0             0      0   \n",
            "15       0              0                0            1             0      0   \n",
            "\n",
            "    SEC  SunBelt  runiform  \n",
            "3     0        0  0.220067  \n",
            "7     1        0  0.316347  \n",
            "8     0        1  0.136545  \n",
            "10    1        0  0.320519  \n",
            "15    0        0  0.247294  \n",
            "                            OLS Regression Results                            \n",
            "==============================================================================\n",
            "Dep. Variable:              SchoolPay   R-squared:                       0.838\n",
            "Model:                            OLS   Adj. R-squared:                  0.813\n",
            "Method:                 Least Squares   F-statistic:                     34.39\n",
            "Date:                Tue, 05 Dec 2023   Prob (F-statistic):           1.36e-26\n",
            "Time:                        04:23:57   Log-Likelihood:                -1390.3\n",
            "No. Observations:                  93   AIC:                             2807.\n",
            "Df Residuals:                      80   BIC:                             2840.\n",
            "Df Model:                          12                                         \n",
            "Covariance Type:            nonrobust                                         \n",
            "===================================================================================\n",
            "                      coef    std err          t      P>|t|      [0.025      0.975]\n",
            "-----------------------------------------------------------------------------------\n",
            "Intercept        7.455e+05   1.98e+05      3.774      0.000    3.52e+05    1.14e+06\n",
            "BonusPctPaid     1.308e+06   5.18e+05      2.527      0.013    2.78e+05    2.34e+06\n",
            "Revenues            0.0281      0.004      6.708      0.000       0.020       0.036\n",
            "BigTen           9.571e+05   3.07e+05      3.115      0.003    3.46e+05    1.57e+06\n",
            "MountainWest    -4.025e+05   2.69e+05     -1.496      0.139   -9.38e+05    1.33e+05\n",
            "MidAmerican     -6.627e+05   2.78e+05     -2.388      0.019   -1.22e+06    -1.1e+05\n",
            "ConferenceUSA   -2.771e+05   3.35e+05     -0.828      0.410   -9.44e+05    3.89e+05\n",
            "SunBelt         -6.174e+05   3.06e+05     -2.017      0.047   -1.23e+06   -8324.255\n",
            "Pac12           -6.593e+04   2.76e+05     -0.239      0.812   -6.16e+05    4.84e+05\n",
            "FBSIndependents -1.294e+06   3.84e+05     -3.366      0.001   -2.06e+06   -5.29e+05\n",
            "Big12             8.93e+05   2.93e+05      3.043      0.003    3.09e+05    1.48e+06\n",
            "SEC              1.068e+06   3.85e+05      2.777      0.007    3.03e+05    1.83e+06\n",
            "ACC              9.813e+05   2.41e+05      4.076      0.000    5.02e+05    1.46e+06\n",
            "American         1.656e+05   2.71e+05      0.611      0.543   -3.73e+05    7.04e+05\n",
            "==============================================================================\n",
            "Omnibus:                       11.446   Durbin-Watson:                   1.898\n",
            "Prob(Omnibus):                  0.003   Jarque-Bera (JB):               13.709\n",
            "Skew:                           0.642   Prob(JB):                      0.00105\n",
            "Kurtosis:                       4.375   Cond. No.                     9.06e+23\n",
            "==============================================================================\n",
            "\n",
            "Notes:\n",
            "[1] Standard Errors assume that the covariance matrix of the errors is correctly specified.\n",
            "[2] The smallest eigenvalue is 4.06e-31. This might indicate that there are\n",
            "strong multicollinearity problems or that the design matrix is singular.\n"
          ]
        },
        {
          "output_type": "stream",
          "name": "stderr",
          "text": [
            "<ipython-input-35-9cf4a33fbf37>:27: SettingWithCopyWarning: \n",
            "A value is trying to be set on a copy of a slice from a DataFrame.\n",
            "Try using .loc[row_indexer,col_indexer] = value instead\n",
            "\n",
            "See the caveats in the documentation: https://pandas.pydata.org/pandas-docs/stable/user_guide/indexing.html#returning-a-view-versus-a-copy\n",
            "  main_train['predict_pay'] = train_model_fit.fittedvalues\n",
            "<ipython-input-35-9cf4a33fbf37>:30: SettingWithCopyWarning: \n",
            "A value is trying to be set on a copy of a slice from a DataFrame.\n",
            "Try using .loc[row_indexer,col_indexer] = value instead\n",
            "\n",
            "See the caveats in the documentation: https://pandas.pydata.org/pandas-docs/stable/user_guide/indexing.html#returning-a-view-versus-a-copy\n",
            "  main_test['predict_pay'] = train_model_fit.predict(main_test)\n"
          ]
        }
      ]
    },
    {
      "cell_type": "markdown",
      "source": [
        "# final model"
      ],
      "metadata": {
        "id": "W4CzWM3I1lYM"
      }
    },
    {
      "cell_type": "code",
      "source": [
        "# code from week 3 async\n",
        "# model 8, final model\n",
        "# only using less than 0.05 p-values now\n",
        "np.random.seed(24)\n",
        "main['runiform'] = uniform.rvs(loc = 0, scale = 1, size = len(main))\n",
        "main_train = main[main['runiform'] >= 0.33]\n",
        "main_test = main[main['runiform'] < 0.33]\n",
        "# check training data frame\n",
        "print('\\nmain_train data frame (rows, columns): ',main_train.shape)\n",
        "print(main_train.head())\n",
        "# check test data frame\n",
        "print('\\nmain_test data frame (rows, columns): ',main_test.shape)\n",
        "print(main_test.head())\n",
        "\n",
        "# specify a simple model\n",
        "model_8 = str('SchoolPay ~ BonusPctPaid + Revenues + PowerFive')\n",
        "# fit the model to the training set\n",
        "train_model_fit = smf.ols(model_8, data = main_train).fit()\n",
        "# summary of model fit to the training set\n",
        "print(train_model_fit.summary())\n",
        "# training set predictions from the model fit to the training set\n",
        "main_train['predict_pay'] = train_model_fit.fittedvalues\n",
        "\n",
        "# test set predictions from the model fit to the training set\n",
        "main_test['predict_pay'] = train_model_fit.predict(main_test)"
      ],
      "metadata": {
        "colab": {
          "base_uri": "https://localhost:8080/"
        },
        "id": "DeFYPMUKz9Qq",
        "outputId": "e7bef937-b4e0-48a2-fdaf-f31eaa9867fc"
      },
      "execution_count": null,
      "outputs": [
        {
          "output_type": "stream",
          "name": "stdout",
          "text": [
            "\n",
            "main_train data frame (rows, columns):  (93, 38)\n",
            "              School     Conference              Coach  SchoolPay    Bonus  \\\n",
            "0          Air Force  Mountain West       Troy Calhoun     885000   247000   \n",
            "1              Akron   Mid-American       Terry Bowden     411000   225000   \n",
            "2            Alabama            SEC         Nick Saban    8307000  1100000   \n",
            "4  Appalachian State       Sun Belt  Scott Satterfield     712500   295000   \n",
            "5            Arizona         Pac-12       Kevin Sumlin    1600000  2025000   \n",
            "\n",
            "   BonusPaid    Buyout   GSR   FGR  Capacity  Enrollment   Revenues   W  L  \\\n",
            "0      50000   1476060  0.89  0.89     52237        4237   16823588   5  7   \n",
            "1      50000    688500  0.79  0.76     30000       19200   12354872   7  7   \n",
            "2     500000  33600000  0.86  0.65    101821       38500  140831439  13  1   \n",
            "4     145000   2160417  0.78  0.60     24150       19100   10198918   9  4   \n",
            "5     279167  10000000  0.73  0.55     56037       45200   51865116   7  6   \n",
            "\n",
            "    Pct  Conf_W  Conf_L  Conf_Pct  AP_High  AP_Rank  BonusPctPaid  Ranked  \\\n",
            "0  0.42       4       4      0.50        0        0      0.202429       0   \n",
            "1  0.50       6       2      0.75        0        0      0.222222       0   \n",
            "2  0.93       7       1      0.88        1        1      0.454545       1   \n",
            "4  0.69       7       1      0.88        0        0      0.491525       0   \n",
            "5  0.54       5       4      0.56       23        0      0.137860       1   \n",
            "\n",
            "   Ranking  WinningSeason  SubstantialBonus  PowerFive  ACC  American  Big12  \\\n",
            "0        0              0               0.0          0    0         0      0   \n",
            "1        0              0               0.0          0    0         0      0   \n",
            "2        1              1               1.0          1    0         0      0   \n",
            "4        0              1               1.0          0    0         0      0   \n",
            "5        0              1               0.0          1    0         0      0   \n",
            "\n",
            "   BigTen  ConferenceUSA  FBSIndependents  MidAmerican  MountainWest  Pac12  \\\n",
            "0       0              0                0            0             1      0   \n",
            "1       0              0                0            1             0      0   \n",
            "2       0              0                0            0             0      0   \n",
            "4       0              0                0            0             0      0   \n",
            "5       0              0                0            0             0      1   \n",
            "\n",
            "   SEC  SunBelt  runiform  \n",
            "0    0        0  0.960017  \n",
            "1    0        0  0.699512  \n",
            "2    1        0  0.999867  \n",
            "4    0        1  0.361056  \n",
            "5    0        0  0.739841  \n",
            "\n",
            "main_test data frame (rows, columns):  (35, 38)\n",
            "                   School      Conference           Coach  SchoolPay    Bonus  \\\n",
            "3   Alabama at Birmingham  Conference USA      Bill Clark     900000   950000   \n",
            "7                Arkansas             SEC     Chad Morris    3500000  1000000   \n",
            "8          Arkansas State        Sun Belt  Blake Anderson     825000   185000   \n",
            "10                 Auburn             SEC     Gus Malzahn    6700000  1400000   \n",
            "15          Bowling Green    Mid-American      Mike Jinks     437228   245000   \n",
            "\n",
            "    BonusPaid    Buyout   GSR   FGR  Capacity  Enrollment   Revenues   W   L  \\\n",
            "3      165471   3847500  0.69  0.42     71594       21900   28840003   8   5   \n",
            "7      375000  12500000  0.84  0.57     72000       27800   99599352   4   8   \n",
            "8       25000    300000  0.72  0.45     30964       22000    8593341   7   5   \n",
            "10     375000  32143750  0.80  0.61     87451       30400  128960499  10   4   \n",
            "15      81250    874456  0.72  0.65     23724       23000    8370915   2  10   \n",
            "\n",
            "     Pct  Conf_W  Conf_L  Conf_Pct  AP_High  AP_Rank  BonusPctPaid  Ranked  \\\n",
            "3   0.62       6       2      0.75        0        0      0.174180       0   \n",
            "7   0.33       1       7      0.13        0        0      0.375000       0   \n",
            "8   0.58       6       2      0.75        0        0      0.135135       0   \n",
            "10  0.71       7       1      0.88        4       10      0.267857       1   \n",
            "15  0.17       2       6      0.25        0        0      0.331633       0   \n",
            "\n",
            "    Ranking  WinningSeason  SubstantialBonus  PowerFive  ACC  American  Big12  \\\n",
            "3         0              1               0.0          0    0         0      0   \n",
            "7         0              0               1.0          1    0         0      0   \n",
            "8         0              1               0.0          0    0         0      0   \n",
            "10        1              1               1.0          1    0         0      0   \n",
            "15        0              0               1.0          0    0         0      0   \n",
            "\n",
            "    BigTen  ConferenceUSA  FBSIndependents  MidAmerican  MountainWest  Pac12  \\\n",
            "3        0              1                0            0             0      0   \n",
            "7        0              0                0            0             0      0   \n",
            "8        0              0                0            0             0      0   \n",
            "10       0              0                0            0             0      0   \n",
            "15       0              0                0            1             0      0   \n",
            "\n",
            "    SEC  SunBelt  runiform  \n",
            "3     0        0  0.220067  \n",
            "7     1        0  0.316347  \n",
            "8     0        1  0.136545  \n",
            "10    1        0  0.320519  \n",
            "15    0        0  0.247294  \n",
            "                            OLS Regression Results                            \n",
            "==============================================================================\n",
            "Dep. Variable:              SchoolPay   R-squared:                       0.764\n",
            "Model:                            OLS   Adj. R-squared:                  0.756\n",
            "Method:                 Least Squares   F-statistic:                     96.26\n",
            "Date:                Tue, 05 Dec 2023   Prob (F-statistic):           7.67e-28\n",
            "Time:                        04:24:02   Log-Likelihood:                -1407.6\n",
            "No. Observations:                  93   AIC:                             2823.\n",
            "Df Residuals:                      89   BIC:                             2833.\n",
            "Df Model:                           3                                         \n",
            "Covariance Type:            nonrobust                                         \n",
            "================================================================================\n",
            "                   coef    std err          t      P>|t|      [0.025      0.975]\n",
            "--------------------------------------------------------------------------------\n",
            "Intercept     2.659e+05   1.62e+05      1.639      0.105   -5.65e+04    5.88e+05\n",
            "BonusPctPaid  1.604e+06   5.56e+05      2.883      0.005    4.99e+05    2.71e+06\n",
            "Revenues         0.0315      0.004      7.757      0.000       0.023       0.040\n",
            "PowerFive     8.104e+05   2.96e+05      2.739      0.007    2.23e+05     1.4e+06\n",
            "==============================================================================\n",
            "Omnibus:                        5.377   Durbin-Watson:                   1.894\n",
            "Prob(Omnibus):                  0.068   Jarque-Bera (JB):                6.070\n",
            "Skew:                           0.283   Prob(JB):                       0.0481\n",
            "Kurtosis:                       4.116   Cond. No.                     3.49e+08\n",
            "==============================================================================\n",
            "\n",
            "Notes:\n",
            "[1] Standard Errors assume that the covariance matrix of the errors is correctly specified.\n",
            "[2] The condition number is large, 3.49e+08. This might indicate that there are\n",
            "strong multicollinearity or other numerical problems.\n"
          ]
        },
        {
          "output_type": "stream",
          "name": "stderr",
          "text": [
            "<ipython-input-36-c15d66a09e95>:22: SettingWithCopyWarning: \n",
            "A value is trying to be set on a copy of a slice from a DataFrame.\n",
            "Try using .loc[row_indexer,col_indexer] = value instead\n",
            "\n",
            "See the caveats in the documentation: https://pandas.pydata.org/pandas-docs/stable/user_guide/indexing.html#returning-a-view-versus-a-copy\n",
            "  main_train['predict_pay'] = train_model_fit.fittedvalues\n",
            "<ipython-input-36-c15d66a09e95>:25: SettingWithCopyWarning: \n",
            "A value is trying to be set on a copy of a slice from a DataFrame.\n",
            "Try using .loc[row_indexer,col_indexer] = value instead\n",
            "\n",
            "See the caveats in the documentation: https://pandas.pydata.org/pandas-docs/stable/user_guide/indexing.html#returning-a-view-versus-a-copy\n",
            "  main_test['predict_pay'] = train_model_fit.predict(main_test)\n"
          ]
        }
      ]
    },
    {
      "cell_type": "markdown",
      "source": [
        "# predictions"
      ],
      "metadata": {
        "id": "RgfWN8gi1sZQ"
      }
    },
    {
      "cell_type": "code",
      "source": [
        "# predictions\n",
        "# what should syracuse coach be paid\n",
        "\n",
        "# coefficients\n",
        "intercept = 265900\n",
        "BonusPctPaid = 1604000\n",
        "Revenues = 0.0315\n",
        "PowerFive = 810400\n",
        "\n",
        "# syracuse data\n",
        "main[main.School == 'Syracuse']\n",
        "# 101\n",
        "#for ind, column in enumerate(main.columns):\n",
        " #   print(ind, column)\n",
        "# BonusPctPaid: 20\n",
        "# Revenues: 11\n",
        "# PowerFive: 25\n",
        "\n",
        "values = main.iloc[101, [20,11,25]]\n",
        "\n",
        "recommended_salary = intercept + BonusPctPaid*values[0] + Revenues*values[1] + PowerFive*values[2]\n",
        "recommended_salary\n",
        "# 2750960.4122089553\n",
        "# so approximatley 2.75 million\n",
        "\n",
        "# the actual pay in the data is\n",
        "# 2401206\n",
        "# approximately 2.4 million\n",
        "\n",
        "# what would his salary be in the big east?\n",
        "# we can't make predictions outside the data we sampled\n",
        "# big east doesn't exist anymore so this would be extrapolation\n",
        "# however since big east was a power conference, we can conjecture that, assuming we ran this model on data from before the big east broke up\n",
        "# and power conference was found to be signficant, we can assume his pay would be the same\n",
        "\n",
        "# what would his salary be in the big ten?\n",
        "# the same\n",
        "\n",
        "# however using the model that changes out powerfive for each conference you could find slight differences in what he would be paid for ACC vs Big Ten\n",
        "\n",
        "Intercept = 745500\n",
        "BonusPctPaid = 1308000\n",
        "Revenues = 0.0281\n",
        "BigTen  = 957100\n",
        "ACC = 981300\n",
        "\n",
        "ACC_salary = Intercept + BonusPctPaid*values[0] + Revenues*values[1] + BigTen*0 + ACC*1\n",
        "print(ACC_salary)\n",
        "# 3200072.285271642\n",
        "# 3.200 million\n",
        "BigTen_salary = Intercept + BonusPctPaid*values[0] + Revenues*values[1] + BigTen*1 + ACC*0\n",
        "BigTen_salary\n",
        "# 3175872.285271642\n",
        "# 3.176 million\n",
        "\n",
        "# personally though I don't like this model because some of the conferences end up not being statistically significant\n"
      ],
      "metadata": {
        "colab": {
          "base_uri": "https://localhost:8080/"
        },
        "id": "maiRmlEAz_J4",
        "outputId": "b93e41ad-cc88-43ae-dc7d-0e265814280a"
      },
      "execution_count": null,
      "outputs": [
        {
          "output_type": "stream",
          "name": "stdout",
          "text": [
            "3200072.285271642\n"
          ]
        },
        {
          "output_type": "execute_result",
          "data": {
            "text/plain": [
              "3175872.285271642"
            ]
          },
          "metadata": {},
          "execution_count": 37
        }
      ]
    },
    {
      "cell_type": "code",
      "source": [
        "# heat map of variables of interest\n",
        "\n",
        "#for ind, column in enumerate(main.columns):\n",
        " #   print(ind, column)\n",
        "# [25, 3, 20, 11, 12, 21, 22, 10, 8]\n",
        "\n",
        "main_interest = main[['SchoolPay', 'PowerFive', 'Revenues', 'BonusPctPaid', 'W', 'Ranked', 'Ranking', 'Enrollment', 'Revenues', 'FGR']]\n",
        "# code from week3 asynch\n",
        "# correlation matrix\n",
        "\n",
        "sns.set_theme(style=\"white\")\n",
        "corr = main_interest.corr()\n",
        "\n",
        "# Generate a mask for the upper triangle\n",
        "mask = np.triu(np.ones_like(corr, dtype=bool))\n",
        "\n",
        "# Set up the matplotlib figure\n",
        "f, ax = plt.subplots(figsize=(11, 9))\n",
        "\n",
        "# Generate a custom diverging colormap\n",
        "cmap = sns.diverging_palette(230, 20, as_cmap=True)\n",
        "\n",
        "# Draw the heatmap with the mask and correct aspect ratio\n",
        "sns.heatmap(corr, mask=mask, cmap=cmap, vmax=.3, center=0,\n",
        "            square=True, linewidths=.5, cbar_kws={\"shrink\": .5})"
      ],
      "metadata": {
        "colab": {
          "base_uri": "https://localhost:8080/",
          "height": 852
        },
        "id": "kMucshDAXd3K",
        "outputId": "813829f9-1724-4273-8996-93dd863e2b79"
      },
      "execution_count": null,
      "outputs": [
        {
          "output_type": "execute_result",
          "data": {
            "text/plain": [
              "<Axes: >"
            ]
          },
          "metadata": {},
          "execution_count": 38
        },
        {
          "output_type": "display_data",
          "data": {
            "text/plain": [
              "<Figure size 1100x900 with 2 Axes>"
            ],
            "image/png": "[encoded data removed]"
          },
          "metadata": {}
        }
      ]
    }
  ]
}